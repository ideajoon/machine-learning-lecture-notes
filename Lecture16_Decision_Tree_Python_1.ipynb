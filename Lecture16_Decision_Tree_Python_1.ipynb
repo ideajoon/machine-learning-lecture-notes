{
 "cells": [
  {
   "cell_type": "markdown",
   "metadata": {},
   "source": [
    "# Decision Trees"
   ]
  },
  {
   "cell_type": "code",
   "execution_count": 51,
   "metadata": {},
   "outputs": [],
   "source": [
    "# Common imports\n",
    "import numpy as np\n",
    "\n",
    "np.random.seed(42)\n",
    "\n",
    "# To plot pretty figures\n",
    "%matplotlib inline\n",
    "import matplotlib as mpl\n",
    "import matplotlib.pyplot as plt\n",
    "mpl.rc('axes', labelsize=14)\n",
    "mpl.rc('xtick', labelsize=12)\n",
    "mpl.rc('ytick', labelsize=12)\n",
    "mpl.rc('figure', figsize=(12, 6))"
   ]
  },
  {
   "cell_type": "markdown",
   "metadata": {},
   "source": [
    "# 분류"
   ]
  },
  {
   "cell_type": "markdown",
   "metadata": {},
   "source": [
    "## Tree 학습과 시각화"
   ]
  },
  {
   "cell_type": "code",
   "execution_count": 21,
   "metadata": {},
   "outputs": [],
   "source": [
    "from sklearn.datasets import load_iris\n",
    "from sklearn.tree import DecisionTreeClassifier"
   ]
  },
  {
   "cell_type": "code",
   "execution_count": 24,
   "metadata": {},
   "outputs": [],
   "source": [
    "iris = load_iris()"
   ]
  },
  {
   "cell_type": "code",
   "execution_count": 25,
   "metadata": {},
   "outputs": [
    {
     "data": {
      "text/plain": [
       "array([[5.1, 3.5, 1.4, 0.2],\n",
       "       [4.9, 3. , 1.4, 0.2],\n",
       "       [4.7, 3.2, 1.3, 0.2]])"
      ]
     },
     "execution_count": 25,
     "metadata": {},
     "output_type": "execute_result"
    }
   ],
   "source": [
    "iris.data[:3]"
   ]
  },
  {
   "cell_type": "markdown",
   "metadata": {},
   "source": [
    "Petal length, petal width 를 사용한다."
   ]
  },
  {
   "cell_type": "code",
   "execution_count": 27,
   "metadata": {},
   "outputs": [],
   "source": [
    "X = iris.data[:, 2:]\n",
    "y = iris.target"
   ]
  },
  {
   "cell_type": "code",
   "execution_count": 29,
   "metadata": {},
   "outputs": [
    {
     "data": {
      "text/plain": [
       "array([[1.4, 0.2],\n",
       "       [1.4, 0.2],\n",
       "       [1.3, 0.2]])"
      ]
     },
     "execution_count": 29,
     "metadata": {},
     "output_type": "execute_result"
    }
   ],
   "source": [
    "X[:3]"
   ]
  },
  {
   "cell_type": "markdown",
   "metadata": {},
   "source": [
    "학습셋과 테스트셋을 나누지 않고, 트리의 시각화를 살펴보겠습니다."
   ]
  },
  {
   "cell_type": "code",
   "execution_count": 41,
   "metadata": {},
   "outputs": [
    {
     "data": {
      "text/plain": [
       "DecisionTreeClassifier(class_weight=None, criterion='gini', max_depth=2,\n",
       "            max_features=None, max_leaf_nodes=None,\n",
       "            min_impurity_decrease=0.0, min_impurity_split=None,\n",
       "            min_samples_leaf=1, min_samples_split=2,\n",
       "            min_weight_fraction_leaf=0.0, presort=False, random_state=42,\n",
       "            splitter='best')"
      ]
     },
     "execution_count": 41,
     "metadata": {},
     "output_type": "execute_result"
    }
   ],
   "source": [
    "# Max depth를 2로 설정\n",
    "tree_clf = DecisionTreeClassifier(max_depth=2, random_state=42)\n",
    "tree_clf.fit(X, y)"
   ]
  },
  {
   "cell_type": "markdown",
   "metadata": {},
   "source": [
    "트리를 그려보기 위해서, `graphviz`를 활용합니다."
   ]
  },
  {
   "cell_type": "code",
   "execution_count": 37,
   "metadata": {},
   "outputs": [],
   "source": [
    "from sklearn.tree import export_graphviz\n",
    "from graphviz import Source\n",
    "from IPython.display import SVG\n",
    "from IPython.display import display\n",
    "\n",
    "graph = Source(export_graphviz(\n",
    "        tree_clf,\n",
    "        out_file=None,\n",
    "        feature_names=iris.feature_names[2:],\n",
    "        class_names=iris.target_names,\n",
    "        rounded=True,\n",
    "        filled=True))"
   ]
  },
  {
   "cell_type": "code",
   "execution_count": 38,
   "metadata": {},
   "outputs": [
    {
     "data": {
      "image/svg+xml": [
       "<svg height=\"314pt\" viewBox=\"0.00 0.00 289.00 314.00\" width=\"289pt\" xmlns=\"http://www.w3.org/2000/svg\" xmlns:xlink=\"http://www.w3.org/1999/xlink\">\n",
       "<g class=\"graph\" id=\"graph0\" transform=\"scale(1 1) rotate(0) translate(4 310)\">\n",
       "<title>Tree</title>\n",
       "<polygon fill=\"#ffffff\" points=\"-4,4 -4,-310 285,-310 285,4 -4,4\" stroke=\"transparent\"/>\n",
       "<!-- 0 -->\n",
       "<g class=\"node\" id=\"node1\">\n",
       "<title>0</title>\n",
       "<path d=\"M166.5,-306C166.5,-306 57.5,-306 57.5,-306 51.5,-306 45.5,-300 45.5,-294 45.5,-294 45.5,-235 45.5,-235 45.5,-229 51.5,-223 57.5,-223 57.5,-223 166.5,-223 166.5,-223 172.5,-223 178.5,-229 178.5,-235 178.5,-235 178.5,-294 178.5,-294 178.5,-300 172.5,-306 166.5,-306\" fill=\"transparent\" stroke=\"#000000\"/>\n",
       "<text fill=\"#000000\" font-family=\"Helvetica,sans-Serif\" font-size=\"14.00\" text-anchor=\"middle\" x=\"112\" y=\"-290.8\">petal length (cm) &lt;= 2.45</text>\n",
       "<text fill=\"#000000\" font-family=\"Helvetica,sans-Serif\" font-size=\"14.00\" text-anchor=\"middle\" x=\"112\" y=\"-275.8\">gini = 0.667</text>\n",
       "<text fill=\"#000000\" font-family=\"Helvetica,sans-Serif\" font-size=\"14.00\" text-anchor=\"middle\" x=\"112\" y=\"-260.8\">samples = 150</text>\n",
       "<text fill=\"#000000\" font-family=\"Helvetica,sans-Serif\" font-size=\"14.00\" text-anchor=\"middle\" x=\"112\" y=\"-245.8\">value = [50, 50, 50]</text>\n",
       "<text fill=\"#000000\" font-family=\"Helvetica,sans-Serif\" font-size=\"14.00\" text-anchor=\"middle\" x=\"112\" y=\"-230.8\">class = setosa</text>\n",
       "</g>\n",
       "<!-- 1 -->\n",
       "<g class=\"node\" id=\"node2\">\n",
       "<title>1</title>\n",
       "<path d=\"M82,-179.5C82,-179.5 12,-179.5 12,-179.5 6,-179.5 0,-173.5 0,-167.5 0,-167.5 0,-123.5 0,-123.5 0,-117.5 6,-111.5 12,-111.5 12,-111.5 82,-111.5 82,-111.5 88,-111.5 94,-117.5 94,-123.5 94,-123.5 94,-167.5 94,-167.5 94,-173.5 88,-179.5 82,-179.5\" fill=\"#e58139\" stroke=\"#000000\"/>\n",
       "<text fill=\"#000000\" font-family=\"Helvetica,sans-Serif\" font-size=\"14.00\" text-anchor=\"middle\" x=\"47\" y=\"-164.3\">gini = 0.0</text>\n",
       "<text fill=\"#000000\" font-family=\"Helvetica,sans-Serif\" font-size=\"14.00\" text-anchor=\"middle\" x=\"47\" y=\"-149.3\">samples = 50</text>\n",
       "<text fill=\"#000000\" font-family=\"Helvetica,sans-Serif\" font-size=\"14.00\" text-anchor=\"middle\" x=\"47\" y=\"-134.3\">value = [50, 0, 0]</text>\n",
       "<text fill=\"#000000\" font-family=\"Helvetica,sans-Serif\" font-size=\"14.00\" text-anchor=\"middle\" x=\"47\" y=\"-119.3\">class = setosa</text>\n",
       "</g>\n",
       "<!-- 0&#45;&gt;1 -->\n",
       "<g class=\"edge\" id=\"edge1\">\n",
       "<title>0-&gt;1</title>\n",
       "<path d=\"M89.2662,-222.8796C83.2599,-211.8835 76.763,-199.9893 70.7067,-188.9015\" fill=\"none\" stroke=\"#000000\"/>\n",
       "<polygon fill=\"#000000\" points=\"73.6088,-186.9133 65.7435,-179.8149 67.4655,-190.2689 73.6088,-186.9133\" stroke=\"#000000\"/>\n",
       "<text fill=\"#000000\" font-family=\"Helvetica,sans-Serif\" font-size=\"14.00\" text-anchor=\"middle\" x=\"58.7034\" y=\"-200.1032\">True</text>\n",
       "</g>\n",
       "<!-- 2 -->\n",
       "<g class=\"node\" id=\"node3\">\n",
       "<title>2</title>\n",
       "<path d=\"M229.5,-187C229.5,-187 124.5,-187 124.5,-187 118.5,-187 112.5,-181 112.5,-175 112.5,-175 112.5,-116 112.5,-116 112.5,-110 118.5,-104 124.5,-104 124.5,-104 229.5,-104 229.5,-104 235.5,-104 241.5,-110 241.5,-116 241.5,-116 241.5,-175 241.5,-175 241.5,-181 235.5,-187 229.5,-187\" fill=\"transparent\" stroke=\"#000000\"/>\n",
       "<text fill=\"#000000\" font-family=\"Helvetica,sans-Serif\" font-size=\"14.00\" text-anchor=\"middle\" x=\"177\" y=\"-171.8\">petal width (cm) &lt;= 1.75</text>\n",
       "<text fill=\"#000000\" font-family=\"Helvetica,sans-Serif\" font-size=\"14.00\" text-anchor=\"middle\" x=\"177\" y=\"-156.8\">gini = 0.5</text>\n",
       "<text fill=\"#000000\" font-family=\"Helvetica,sans-Serif\" font-size=\"14.00\" text-anchor=\"middle\" x=\"177\" y=\"-141.8\">samples = 100</text>\n",
       "<text fill=\"#000000\" font-family=\"Helvetica,sans-Serif\" font-size=\"14.00\" text-anchor=\"middle\" x=\"177\" y=\"-126.8\">value = [0, 50, 50]</text>\n",
       "<text fill=\"#000000\" font-family=\"Helvetica,sans-Serif\" font-size=\"14.00\" text-anchor=\"middle\" x=\"177\" y=\"-111.8\">class = versicolor</text>\n",
       "</g>\n",
       "<!-- 0&#45;&gt;2 -->\n",
       "<g class=\"edge\" id=\"edge2\">\n",
       "<title>0-&gt;2</title>\n",
       "<path d=\"M134.7338,-222.8796C139.4565,-214.2335 144.4824,-205.0322 149.359,-196.1042\" fill=\"none\" stroke=\"#000000\"/>\n",
       "<polygon fill=\"#000000\" points=\"152.447,-197.752 154.1691,-187.2981 146.3037,-194.3964 152.447,-197.752\" stroke=\"#000000\"/>\n",
       "<text fill=\"#000000\" font-family=\"Helvetica,sans-Serif\" font-size=\"14.00\" text-anchor=\"middle\" x=\"161.2092\" y=\"-207.5864\">False</text>\n",
       "</g>\n",
       "<!-- 3 -->\n",
       "<g class=\"node\" id=\"node4\">\n",
       "<title>3</title>\n",
       "<path d=\"M156.5,-68C156.5,-68 83.5,-68 83.5,-68 77.5,-68 71.5,-62 71.5,-56 71.5,-56 71.5,-12 71.5,-12 71.5,-6 77.5,0 83.5,0 83.5,0 156.5,0 156.5,0 162.5,0 168.5,-6 168.5,-12 168.5,-12 168.5,-56 168.5,-56 168.5,-62 162.5,-68 156.5,-68\" fill=\"#39e581\" fill-opacity=\"0.898039\" stroke=\"#000000\"/>\n",
       "<text fill=\"#000000\" font-family=\"Helvetica,sans-Serif\" font-size=\"14.00\" text-anchor=\"middle\" x=\"120\" y=\"-52.8\">gini = 0.168</text>\n",
       "<text fill=\"#000000\" font-family=\"Helvetica,sans-Serif\" font-size=\"14.00\" text-anchor=\"middle\" x=\"120\" y=\"-37.8\">samples = 54</text>\n",
       "<text fill=\"#000000\" font-family=\"Helvetica,sans-Serif\" font-size=\"14.00\" text-anchor=\"middle\" x=\"120\" y=\"-22.8\">value = [0, 49, 5]</text>\n",
       "<text fill=\"#000000\" font-family=\"Helvetica,sans-Serif\" font-size=\"14.00\" text-anchor=\"middle\" x=\"120\" y=\"-7.8\">class = versicolor</text>\n",
       "</g>\n",
       "<!-- 2&#45;&gt;3 -->\n",
       "<g class=\"edge\" id=\"edge3\">\n",
       "<title>2-&gt;3</title>\n",
       "<path d=\"M155.7753,-103.9815C151.3119,-95.2504 146.5933,-86.0202 142.0987,-77.2281\" fill=\"none\" stroke=\"#000000\"/>\n",
       "<polygon fill=\"#000000\" points=\"145.1842,-75.5745 137.516,-68.2637 138.9514,-78.7608 145.1842,-75.5745\" stroke=\"#000000\"/>\n",
       "</g>\n",
       "<!-- 4 -->\n",
       "<g class=\"node\" id=\"node5\">\n",
       "<title>4</title>\n",
       "<path d=\"M269,-68C269,-68 199,-68 199,-68 193,-68 187,-62 187,-56 187,-56 187,-12 187,-12 187,-6 193,0 199,0 199,0 269,0 269,0 275,0 281,-6 281,-12 281,-12 281,-56 281,-56 281,-62 275,-68 269,-68\" fill=\"#8139e5\" fill-opacity=\"0.976471\" stroke=\"#000000\"/>\n",
       "<text fill=\"#000000\" font-family=\"Helvetica,sans-Serif\" font-size=\"14.00\" text-anchor=\"middle\" x=\"234\" y=\"-52.8\">gini = 0.043</text>\n",
       "<text fill=\"#000000\" font-family=\"Helvetica,sans-Serif\" font-size=\"14.00\" text-anchor=\"middle\" x=\"234\" y=\"-37.8\">samples = 46</text>\n",
       "<text fill=\"#000000\" font-family=\"Helvetica,sans-Serif\" font-size=\"14.00\" text-anchor=\"middle\" x=\"234\" y=\"-22.8\">value = [0, 1, 45]</text>\n",
       "<text fill=\"#000000\" font-family=\"Helvetica,sans-Serif\" font-size=\"14.00\" text-anchor=\"middle\" x=\"234\" y=\"-7.8\">class = virginica</text>\n",
       "</g>\n",
       "<!-- 2&#45;&gt;4 -->\n",
       "<g class=\"edge\" id=\"edge4\">\n",
       "<title>2-&gt;4</title>\n",
       "<path d=\"M198.2247,-103.9815C202.6881,-95.2504 207.4067,-86.0202 211.9013,-77.2281\" fill=\"none\" stroke=\"#000000\"/>\n",
       "<polygon fill=\"#000000\" points=\"215.0486,-78.7608 216.484,-68.2637 208.8158,-75.5745 215.0486,-78.7608\" stroke=\"#000000\"/>\n",
       "</g>\n",
       "</g>\n",
       "</svg>"
      ],
      "text/plain": [
       "<IPython.core.display.SVG object>"
      ]
     },
     "execution_count": 38,
     "metadata": {},
     "output_type": "execute_result"
    }
   ],
   "source": [
    "SVG(graph.pipe(format='svg'))"
   ]
  },
  {
   "cell_type": "markdown",
   "metadata": {},
   "source": [
    "- sample\n",
    "- value\n",
    "- gini\n",
    " - gini가 0인 경우는?"
   ]
  },
  {
   "cell_type": "markdown",
   "metadata": {},
   "source": [
    "Question) 새로운 샘플에 대하여 분류를 적용\n",
    "- 꽆 잎의 길이가 2.45cm 보다 작은 경우?\n",
    "- 꽃 잎의 길이가 2.45cm 보다 큰 경우?\n",
    " - 꽃 잎의 넓이가 1.75cm 보다 작은 경우?\n",
    " - 꽃 잎의 넓이가 1.75cm 보다 큰 경우?"
   ]
  },
  {
   "cell_type": "markdown",
   "metadata": {},
   "source": [
    "결정 트리의 여러 장점 중 하나는 데이터 전처리가 거의 필요하지 않다는 것이다. <font color=red>특히 특성의 스케일을 맞추거나 평균을 원점에 맞추는 작업이 필요하지 않다.</font>\n",
    "\n",
    "Sklearn은 binary tree만 만드는 CART 알고리즘을 사용한다. Leaf node 외의 모든 노드는 자식 노드를 두 개씩 가진다(질문에 대한 답은 Yes, No). 하지만 ID3 같은 알고리즘은 둘 이상의 자식 노드를 가진 결정 트리를 만들 수 있다."
   ]
  },
  {
   "cell_type": "markdown",
   "metadata": {},
   "source": [
    "결정 트리의 경계를 살펴보자."
   ]
  },
  {
   "cell_type": "code",
   "execution_count": 58,
   "metadata": {},
   "outputs": [
    {
     "data": {
      "text/plain": [
       "array([0.        , 0.07575758, 0.15151515, ..., 7.34848485, 7.42424242,\n",
       "       7.5       ])"
      ]
     },
     "execution_count": 58,
     "metadata": {},
     "output_type": "execute_result"
    }
   ],
   "source": [
    "x1.ravel()"
   ]
  },
  {
   "cell_type": "code",
   "execution_count": 85,
   "metadata": {},
   "outputs": [
    {
     "data": {
      "text/plain": [
       "Text(4.25,0.5,'(Depth=2)')"
      ]
     },
     "execution_count": 85,
     "metadata": {},
     "output_type": "execute_result"
    },
    {
     "data": {
      "image/png": "[encoded data removed]",
      "text/plain": [
       "<matplotlib.figure.Figure at 0x1a1f7513c8>"
      ]
     },
     "metadata": {
      "needs_background": "light"
     },
     "output_type": "display_data"
    }
   ],
   "source": [
    "from matplotlib.colors import ListedColormap\n",
    "\n",
    "def plot_decision_boundary(clf, X, y, axes=[0, 7.5, 0, 3], iris=True, legend=False, plot_training=True):\n",
    "    # axes는 x축과 y축을 의미한다. 100개씩 segmentation 한다.\n",
    "    x1s = np.linspace(axes[0], axes[1], 100)\n",
    "    x2s = np.linspace(axes[2], axes[3], 100)\n",
    "    x1, x2 = np.meshgrid(x1s, x2s)\n",
    "    X_new = np.c_[x1.ravel(), x2.ravel()]\n",
    "    # Pred 값을 구한다.\n",
    "    y_pred = clf.predict(X_new).reshape(x1.shape)\n",
    "    custom_cmap = ListedColormap(['#fafab0','#9898ff','#a0faa0'])\n",
    "    plt.contourf(x1, x2, y_pred, alpha=0.3, cmap=custom_cmap)\n",
    "    if plot_training:\n",
    "        plt.plot(X[:, 0][y==0], X[:, 1][y==0], \"yo\", label=\"Iris-Setosa\")\n",
    "        plt.plot(X[:, 0][y==1], X[:, 1][y==1], \"bs\", label=\"Iris-Versicolor\")\n",
    "        plt.plot(X[:, 0][y==2], X[:, 1][y==2], \"g^\", label=\"Iris-Virginica\")\n",
    "        plt.axis(axes)\n",
    "    if iris:\n",
    "        plt.xlabel(\"Petal length\", fontsize=14)\n",
    "        plt.ylabel(\"Petal width\", fontsize=14)\n",
    "    else:\n",
    "        plt.xlabel(r\"$x_1$\", fontsize=18)\n",
    "        plt.ylabel(r\"$x_2$\", fontsize=18, rotation=0)\n",
    "    if legend:\n",
    "        plt.legend(loc=\"lower right\", fontsize=14)\n",
    "\n",
    "plot_decision_boundary(tree_clf, X, y, legend=True)\n",
    "plt.plot([2.45, 2.45], [0, 3], \"k-\", linewidth=2)\n",
    "plt.plot([2.45, 7.5], [1.75, 1.75], \"k--\", linewidth=2)\n",
    "plt.plot([4.95, 4.95], [0, 1.75], \"k:\", linewidth=2)\n",
    "plt.plot([4.85, 4.85], [1.75, 3], \"k:\", linewidth=2)\n",
    "plt.text(1.65, 1.0, \"Depth=0\", fontsize=15)\n",
    "plt.text(3.2, 1.80, \"Depth=1\", fontsize=13)\n",
    "plt.text(4.25, 0.5, \"(Depth=2)\", fontsize=11)"
   ]
  },
  {
   "cell_type": "markdown",
   "metadata": {},
   "source": [
    "**모델 해석 : 화이트박스와 블랙박스**\n",
    "\n",
    "결정 트리는 매우 직관적이고 결정 방식을 이해하기 쉽다. 이런 모델을 화이트 박스(white box) 모델이라고 한다. 반대로 랜덤 포레스트, 신경망은 블랙 박스(black box) 모델이라고 한다. 이 알고리즘들은 성능이 뛰어나고 예측을 만드는 연산 과정을 쉽게 확인할 수 있다. 그렇지만 왜 그런 예측을 만드는지는 쉽게 설명하기 어렵다. "
   ]
  },
  {
   "cell_type": "markdown",
   "metadata": {},
   "source": [
    "## Decision tree를 이용해 예측하기"
   ]
  },
  {
   "cell_type": "code",
   "execution_count": 72,
   "metadata": {},
   "outputs": [
    {
     "data": {
      "text/plain": [
       "array([[0.        , 0.90740741, 0.09259259]])"
      ]
     },
     "execution_count": 72,
     "metadata": {},
     "output_type": "execute_result"
    }
   ],
   "source": [
    "# 각 종에 대한 확률값을 구해준다.\n",
    "tree_clf.predict_proba([[5, 1.5]])"
   ]
  },
  {
   "cell_type": "code",
   "execution_count": 73,
   "metadata": {},
   "outputs": [
    {
     "data": {
      "text/plain": [
       "array([1])"
      ]
     },
     "execution_count": 73,
     "metadata": {},
     "output_type": "execute_result"
    }
   ],
   "source": [
    "tree_clf.predict([[5, 1.5]])"
   ]
  },
  {
   "cell_type": "markdown",
   "metadata": {},
   "source": [
    "#### (연습) 아래의 코드를 이용하여 wine 데이터를 로딩한다. 그 후, (1) 결정 트리를 시각화 한다. (2) 결정 경계를 시각화 한다.\n",
    "- `data = load_wine()`\n",
    "- feature는 *alcohol*, *proline*를 사용한다."
   ]
  },
  {
   "cell_type": "markdown",
   "metadata": {},
   "source": [
    "## 트리의 불안정성 (Sensitivity to training set details)"
   ]
  },
  {
   "cell_type": "code",
   "execution_count": 117,
   "metadata": {},
   "outputs": [
    {
     "ename": "IndexError",
     "evalue": "index 1 is out of bounds for axis 1 with size 1",
     "output_type": "error",
     "traceback": [
      "\u001b[0;31m---------------------------------------------------------------------------\u001b[0m",
      "\u001b[0;31mIndexError\u001b[0m                                Traceback (most recent call last)",
      "\u001b[0;32m<ipython-input-117-9416e43d9d0f>\u001b[0m in \u001b[0;36m<module>\u001b[0;34m\u001b[0m\n\u001b[0;32m----> 1\u001b[0;31m \u001b[0mX\u001b[0m\u001b[0;34m[\u001b[0m\u001b[0;34m(\u001b[0m\u001b[0mX\u001b[0m\u001b[0;34m[\u001b[0m\u001b[0;34m:\u001b[0m\u001b[0;34m,\u001b[0m \u001b[0;36m1\u001b[0m\u001b[0;34m]\u001b[0m\u001b[0;34m==\u001b[0m\u001b[0mX\u001b[0m\u001b[0;34m[\u001b[0m\u001b[0;34m:\u001b[0m\u001b[0;34m,\u001b[0m \u001b[0;36m1\u001b[0m\u001b[0;34m]\u001b[0m\u001b[0;34m[\u001b[0m\u001b[0my\u001b[0m\u001b[0;34m==\u001b[0m\u001b[0;36m1\u001b[0m\u001b[0;34m]\u001b[0m\u001b[0;34m.\u001b[0m\u001b[0mmax\u001b[0m\u001b[0;34m(\u001b[0m\u001b[0;34m)\u001b[0m\u001b[0;34m)\u001b[0m \u001b[0;34m&\u001b[0m \u001b[0;34m(\u001b[0m\u001b[0my\u001b[0m\u001b[0;34m==\u001b[0m\u001b[0;36m1\u001b[0m\u001b[0;34m)\u001b[0m\u001b[0;34m]\u001b[0m \u001b[0;31m# widest Iris-Versicolor flower\u001b[0m\u001b[0;34m\u001b[0m\u001b[0;34m\u001b[0m\u001b[0m\n\u001b[0m",
      "\u001b[0;31mIndexError\u001b[0m: index 1 is out of bounds for axis 1 with size 1"
     ]
    }
   ],
   "source": [
    "X[(X[:, 1]==X[:, 1][y==1].max()) & (y==1)] # widest Iris-Versicolor flower"
   ]
  },
  {
   "cell_type": "code",
   "execution_count": 86,
   "metadata": {},
   "outputs": [
    {
     "data": {
      "text/plain": [
       "DecisionTreeClassifier(class_weight=None, criterion='gini', max_depth=2,\n",
       "            max_features=None, max_leaf_nodes=None,\n",
       "            min_impurity_decrease=0.0, min_impurity_split=None,\n",
       "            min_samples_leaf=1, min_samples_split=2,\n",
       "            min_weight_fraction_leaf=0.0, presort=False, random_state=40,\n",
       "            splitter='best')"
      ]
     },
     "execution_count": 86,
     "metadata": {},
     "output_type": "execute_result"
    }
   ],
   "source": [
    "# Versicolor에서 꽃잎의 width가 가장 큰 데이터를 제외하고 학습한다. \n",
    "# 트리가 학습셋에 민감하다는 것을 보여주기 위함이다.\n",
    "not_widest_versicolor = (X[:, 1]!=1.8) | (y==2)\n",
    "X_tweaked = X[not_widest_versicolor]\n",
    "y_tweaked = y[not_widest_versicolor]\n",
    "\n",
    "tree_clf_tweaked = DecisionTreeClassifier(max_depth=2, random_state=40)\n",
    "tree_clf_tweaked.fit(X_tweaked, y_tweaked)"
   ]
  },
  {
   "cell_type": "code",
   "execution_count": 87,
   "metadata": {},
   "outputs": [
    {
     "data": {
      "text/plain": [
       "Text(1,1.8,'Depth=1')"
      ]
     },
     "execution_count": 87,
     "metadata": {},
     "output_type": "execute_result"
    },
    {
     "data": {
      "image/png": "[encoded data removed]",
      "text/plain": [
       "<matplotlib.figure.Figure at 0x1a1f883f28>"
      ]
     },
     "metadata": {
      "needs_background": "light"
     },
     "output_type": "display_data"
    }
   ],
   "source": [
    "plt.figure(figsize=(8, 4))\n",
    "plot_decision_boundary(tree_clf_tweaked, X_tweaked, y_tweaked, legend=False)\n",
    "plt.plot([0, 7.5], [0.8, 0.8], \"k-\", linewidth=2)\n",
    "plt.plot([0, 7.5], [1.75, 1.75], \"k--\", linewidth=2)\n",
    "plt.text(1.0, 0.9, \"Depth=0\", fontsize=15)\n",
    "plt.text(1.0, 1.80, \"Depth=1\", fontsize=13)"
   ]
  },
  {
   "cell_type": "markdown",
   "metadata": {},
   "source": [
    "##  규제화\n",
    "\n",
    "결정 트리는 훈련 데이터에 대한 제약사항이 거의 없다. 따라서 제한을 두지 않으면 트리가 훈련 데이터에 아주 가깝게 맞추려고 해서 대부분 과대적합되기 쉽다. 결정 트리는 모델 파라미터가 전혀 없는 것이 아니라, 훈련되기 전에 파라미터 수가 결정되지 않는 것이다. 훈련되기 전에 파라미터 수가 결정되지 않기 때문에 non-parametric model이라고 한다. 모델 구조가 데이터에 맞춰져서 고정되지 않고 자유롭다. 반대로 선형 모델 같은 parametric model은 미리 정의된 모델 파라미터 수를 가지므로 자유도가 제한되고 과대적합 될 위험이 줄어든다.\n",
    "\n",
    "훈련 데이터에 대한 과대적합을 피하기 위해 학습할 때 결정 트리의 자유도를 제한할 필요가 있다. 이것을 규제라 한다. 규제 매개변수는 사용하는 알고리즘에 따라 다르지만, 보통 적어도 결정 트리의 최대 깊이는 제어할 수 있다. Sklearn에서는 *max_depth*를 조절하여 트리를 규제할 수 있다.\n",
    "\n",
    "또한\n",
    " - *min_samples_split*\n",
    " - *min_samples_leaf*\n",
    " - *min_weight_fraction_leaf*\n",
    " - *max_leaf_node*\n",
    " \n",
    "도 모델의 규제를 조절하는 파라미터이다."
   ]
  },
  {
   "cell_type": "markdown",
   "metadata": {},
   "source": [
    "*make_moon* 을 로드하여 분석해보자. 간단하게 `min_samples_leaf`를 이용하여 모델을 규제하자."
   ]
  },
  {
   "cell_type": "code",
   "execution_count": 88,
   "metadata": {},
   "outputs": [],
   "source": [
    "from sklearn.datasets import make_moons\n",
    "# sample을 100개만 가지고 올 것이다.\n",
    "Xm, ym = make_moons(n_samples=100, noise=0.25, random_state=53)"
   ]
  },
  {
   "cell_type": "code",
   "execution_count": 89,
   "metadata": {},
   "outputs": [
    {
     "data": {
      "text/plain": [
       "Text(0.5,1,'min_samples_leaf = 4')"
      ]
     },
     "execution_count": 89,
     "metadata": {},
     "output_type": "execute_result"
    },
    {
     "data": {
      "image/png": "[encoded data removed]",
      "text/plain": [
       "<matplotlib.figure.Figure at 0x1a1f146358>"
      ]
     },
     "metadata": {
      "needs_background": "light"
     },
     "output_type": "display_data"
    }
   ],
   "source": [
    "deep_tree_clf1 = DecisionTreeClassifier(random_state=42)\n",
    "# min_samples_leaf를 이용하여 규제를 한다.\n",
    "deep_tree_clf2 = DecisionTreeClassifier(min_samples_leaf=4, random_state=42)\n",
    "deep_tree_clf1.fit(Xm, ym)\n",
    "deep_tree_clf2.fit(Xm, ym)\n",
    "\n",
    "plt.figure(figsize=(11, 4))\n",
    "plt.subplot(121)\n",
    "plot_decision_boundary(deep_tree_clf1, Xm, ym, axes=[-1.5, 2.5, -1, 1.5], iris=False)\n",
    "plt.title(\"No restrictions\", fontsize=16)\n",
    "plt.subplot(122)\n",
    "plot_decision_boundary(deep_tree_clf2, Xm, ym, axes=[-1.5, 2.5, -1, 1.5], iris=False)\n",
    "plt.title(\"min_samples_leaf = {}\".format(deep_tree_clf2.min_samples_leaf), fontsize=14)"
   ]
  },
  {
   "cell_type": "markdown",
   "metadata": {},
   "source": [
    "# 회귀"
   ]
  },
  {
   "cell_type": "markdown",
   "metadata": {},
   "source": [
    "$$y = 4 \\times (x - 0.5)^2 + \\text{noise}$$"
   ]
  },
  {
   "cell_type": "code",
   "execution_count": 90,
   "metadata": {},
   "outputs": [],
   "source": [
    "# Quadratic training set + noise\n",
    "np.random.seed(42)\n",
    "m = 200\n",
    "X = np.random.rand(m, 1)\n",
    "y = 4 * (X - 0.5) ** 2\n",
    "y = y + np.random.randn(m, 1) / 10"
   ]
  },
  {
   "cell_type": "code",
   "execution_count": 93,
   "metadata": {},
   "outputs": [
    {
     "data": {
      "text/plain": [
       "[<matplotlib.lines.Line2D at 0x1a1fe37a90>]"
      ]
     },
     "execution_count": 93,
     "metadata": {},
     "output_type": "execute_result"
    },
    {
     "data": {
      "image/png": "[encoded data removed]",
      "text/plain": [
       "<matplotlib.figure.Figure at 0x1a1fc03630>"
      ]
     },
     "metadata": {
      "needs_background": "light"
     },
     "output_type": "display_data"
    }
   ],
   "source": [
    "plt.plot(X, y, 'o')"
   ]
  },
  {
   "cell_type": "code",
   "execution_count": 100,
   "metadata": {},
   "outputs": [
    {
     "data": {
      "text/plain": [
       "DecisionTreeRegressor(criterion='mse', max_depth=3, max_features=None,\n",
       "           max_leaf_nodes=None, min_impurity_decrease=0.0,\n",
       "           min_impurity_split=None, min_samples_leaf=1,\n",
       "           min_samples_split=2, min_weight_fraction_leaf=0.0,\n",
       "           presort=False, random_state=42, splitter='best')"
      ]
     },
     "execution_count": 100,
     "metadata": {},
     "output_type": "execute_result"
    }
   ],
   "source": [
    "from sklearn.tree import DecisionTreeRegressor\n",
    "\n",
    "# max_depth=2\n",
    "tree_reg1 = DecisionTreeRegressor(random_state=42, max_depth=2)\n",
    "# max_depth=3\n",
    "tree_reg2 = DecisionTreeRegressor(random_state=42, max_depth=3)\n",
    "tree_reg1.fit(X, y)\n",
    "tree_reg2.fit(X, y)"
   ]
  },
  {
   "cell_type": "code",
   "execution_count": 105,
   "metadata": {},
   "outputs": [],
   "source": [
    "graph1 = Source(export_graphviz(\n",
    "        tree_reg1,\n",
    "        out_file=None,\n",
    "        feature_names=['x1'],\n",
    "        rounded=True,\n",
    "        filled=True))"
   ]
  },
  {
   "cell_type": "code",
   "execution_count": 106,
   "metadata": {},
   "outputs": [
    {
     "data": {
      "image/svg+xml": [
       "<svg height=\"269pt\" viewBox=\"0.00 0.00 388.00 269.00\" width=\"388pt\" xmlns=\"http://www.w3.org/2000/svg\" xmlns:xlink=\"http://www.w3.org/1999/xlink\">\n",
       "<g class=\"graph\" id=\"graph0\" transform=\"scale(1 1) rotate(0) translate(4 265)\">\n",
       "<title>Tree</title>\n",
       "<polygon fill=\"#ffffff\" points=\"-4,4 -4,-265 384,-265 384,4 -4,4\" stroke=\"transparent\"/>\n",
       "<!-- 0 -->\n",
       "<g class=\"node\" id=\"node1\">\n",
       "<title>0</title>\n",
       "<path d=\"M218.5,-261C218.5,-261 157.5,-261 157.5,-261 151.5,-261 145.5,-255 145.5,-249 145.5,-249 145.5,-205 145.5,-205 145.5,-199 151.5,-193 157.5,-193 157.5,-193 218.5,-193 218.5,-193 224.5,-193 230.5,-199 230.5,-205 230.5,-205 230.5,-249 230.5,-249 230.5,-255 224.5,-261 218.5,-261\" fill=\"#e58139\" fill-opacity=\"0.325490\" stroke=\"#000000\"/>\n",
       "<text fill=\"#000000\" font-family=\"Helvetica,sans-Serif\" font-size=\"14.00\" text-anchor=\"middle\" x=\"188\" y=\"-245.8\">x1 &lt;= 0.197</text>\n",
       "<text fill=\"#000000\" font-family=\"Helvetica,sans-Serif\" font-size=\"14.00\" text-anchor=\"middle\" x=\"188\" y=\"-230.8\">mse = 0.098</text>\n",
       "<text fill=\"#000000\" font-family=\"Helvetica,sans-Serif\" font-size=\"14.00\" text-anchor=\"middle\" x=\"188\" y=\"-215.8\">samples = 200</text>\n",
       "<text fill=\"#000000\" font-family=\"Helvetica,sans-Serif\" font-size=\"14.00\" text-anchor=\"middle\" x=\"188\" y=\"-200.8\">value = 0.354</text>\n",
       "</g>\n",
       "<!-- 1 -->\n",
       "<g class=\"node\" id=\"node2\">\n",
       "<title>1</title>\n",
       "<path d=\"M166,-157C166,-157 110,-157 110,-157 104,-157 98,-151 98,-145 98,-145 98,-101 98,-101 98,-95 104,-89 110,-89 110,-89 166,-89 166,-89 172,-89 178,-95 178,-101 178,-101 178,-145 178,-145 178,-151 172,-157 166,-157\" fill=\"#e58139\" fill-opacity=\"0.780392\" stroke=\"#000000\"/>\n",
       "<text fill=\"#000000\" font-family=\"Helvetica,sans-Serif\" font-size=\"14.00\" text-anchor=\"middle\" x=\"138\" y=\"-141.8\">x1 &lt;= 0.092</text>\n",
       "<text fill=\"#000000\" font-family=\"Helvetica,sans-Serif\" font-size=\"14.00\" text-anchor=\"middle\" x=\"138\" y=\"-126.8\">mse = 0.038</text>\n",
       "<text fill=\"#000000\" font-family=\"Helvetica,sans-Serif\" font-size=\"14.00\" text-anchor=\"middle\" x=\"138\" y=\"-111.8\">samples = 44</text>\n",
       "<text fill=\"#000000\" font-family=\"Helvetica,sans-Serif\" font-size=\"14.00\" text-anchor=\"middle\" x=\"138\" y=\"-96.8\">value = 0.689</text>\n",
       "</g>\n",
       "<!-- 0&#45;&gt;1 -->\n",
       "<g class=\"edge\" id=\"edge1\">\n",
       "<title>0-&gt;1</title>\n",
       "<path d=\"M171.6281,-192.9465C167.5274,-184.4169 163.0736,-175.153 158.7896,-166.2424\" fill=\"none\" stroke=\"#000000\"/>\n",
       "<polygon fill=\"#000000\" points=\"161.896,-164.626 154.4087,-157.13 155.5873,-167.6591 161.896,-164.626\" stroke=\"#000000\"/>\n",
       "<text fill=\"#000000\" font-family=\"Helvetica,sans-Serif\" font-size=\"14.00\" text-anchor=\"middle\" x=\"146.1362\" y=\"-177.0217\">True</text>\n",
       "</g>\n",
       "<!-- 4 -->\n",
       "<g class=\"node\" id=\"node5\">\n",
       "<title>4</title>\n",
       "<path d=\"M269.5,-157C269.5,-157 208.5,-157 208.5,-157 202.5,-157 196.5,-151 196.5,-145 196.5,-145 196.5,-101 196.5,-101 196.5,-95 202.5,-89 208.5,-89 208.5,-89 269.5,-89 269.5,-89 275.5,-89 281.5,-95 281.5,-101 281.5,-101 281.5,-145 281.5,-145 281.5,-151 275.5,-157 269.5,-157\" fill=\"#e58139\" fill-opacity=\"0.200000\" stroke=\"#000000\"/>\n",
       "<text fill=\"#000000\" font-family=\"Helvetica,sans-Serif\" font-size=\"14.00\" text-anchor=\"middle\" x=\"239\" y=\"-141.8\">x1 &lt;= 0.772</text>\n",
       "<text fill=\"#000000\" font-family=\"Helvetica,sans-Serif\" font-size=\"14.00\" text-anchor=\"middle\" x=\"239\" y=\"-126.8\">mse = 0.074</text>\n",
       "<text fill=\"#000000\" font-family=\"Helvetica,sans-Serif\" font-size=\"14.00\" text-anchor=\"middle\" x=\"239\" y=\"-111.8\">samples = 156</text>\n",
       "<text fill=\"#000000\" font-family=\"Helvetica,sans-Serif\" font-size=\"14.00\" text-anchor=\"middle\" x=\"239\" y=\"-96.8\">value = 0.259</text>\n",
       "</g>\n",
       "<!-- 0&#45;&gt;4 -->\n",
       "<g class=\"edge\" id=\"edge4\">\n",
       "<title>0-&gt;4</title>\n",
       "<path d=\"M204.6993,-192.9465C208.8821,-184.4169 213.425,-175.153 217.7946,-166.2424\" fill=\"none\" stroke=\"#000000\"/>\n",
       "<polygon fill=\"#000000\" points=\"221.0027,-167.6496 222.2632,-157.13 214.7177,-164.5675 221.0027,-167.6496\" stroke=\"#000000\"/>\n",
       "<text fill=\"#000000\" font-family=\"Helvetica,sans-Serif\" font-size=\"14.00\" text-anchor=\"middle\" x=\"230.3518\" y=\"-177.0853\">False</text>\n",
       "</g>\n",
       "<!-- 2 -->\n",
       "<g class=\"node\" id=\"node3\">\n",
       "<title>2</title>\n",
       "<path d=\"M68,-53C68,-53 12,-53 12,-53 6,-53 0,-47 0,-41 0,-41 0,-12 0,-12 0,-6 6,0 12,0 12,0 68,0 68,0 74,0 80,-6 80,-12 80,-12 80,-41 80,-41 80,-47 74,-53 68,-53\" fill=\"#e58139\" stroke=\"#000000\"/>\n",
       "<text fill=\"#000000\" font-family=\"Helvetica,sans-Serif\" font-size=\"14.00\" text-anchor=\"middle\" x=\"40\" y=\"-37.8\">mse = 0.018</text>\n",
       "<text fill=\"#000000\" font-family=\"Helvetica,sans-Serif\" font-size=\"14.00\" text-anchor=\"middle\" x=\"40\" y=\"-22.8\">samples = 20</text>\n",
       "<text fill=\"#000000\" font-family=\"Helvetica,sans-Serif\" font-size=\"14.00\" text-anchor=\"middle\" x=\"40\" y=\"-7.8\">value = 0.854</text>\n",
       "</g>\n",
       "<!-- 1&#45;&gt;2 -->\n",
       "<g class=\"edge\" id=\"edge2\">\n",
       "<title>1-&gt;2</title>\n",
       "<path d=\"M103.4489,-88.9777C94.0566,-79.7292 83.8864,-69.7147 74.4971,-60.4691\" fill=\"none\" stroke=\"#000000\"/>\n",
       "<polygon fill=\"#000000\" points=\"76.7454,-57.7709 67.1643,-53.2485 71.8339,-62.7587 76.7454,-57.7709\" stroke=\"#000000\"/>\n",
       "</g>\n",
       "<!-- 3 -->\n",
       "<g class=\"node\" id=\"node4\">\n",
       "<title>3</title>\n",
       "<path d=\"M166,-53C166,-53 110,-53 110,-53 104,-53 98,-47 98,-41 98,-41 98,-12 98,-12 98,-6 104,0 110,0 110,0 166,0 166,0 172,0 178,-6 178,-12 178,-12 178,-41 178,-41 178,-47 172,-53 166,-53\" fill=\"#e58139\" fill-opacity=\"0.596078\" stroke=\"#000000\"/>\n",
       "<text fill=\"#000000\" font-family=\"Helvetica,sans-Serif\" font-size=\"14.00\" text-anchor=\"middle\" x=\"138\" y=\"-37.8\">mse = 0.013</text>\n",
       "<text fill=\"#000000\" font-family=\"Helvetica,sans-Serif\" font-size=\"14.00\" text-anchor=\"middle\" x=\"138\" y=\"-22.8\">samples = 24</text>\n",
       "<text fill=\"#000000\" font-family=\"Helvetica,sans-Serif\" font-size=\"14.00\" text-anchor=\"middle\" x=\"138\" y=\"-7.8\">value = 0.552</text>\n",
       "</g>\n",
       "<!-- 1&#45;&gt;3 -->\n",
       "<g class=\"edge\" id=\"edge3\">\n",
       "<title>1-&gt;3</title>\n",
       "<path d=\"M138,-88.9777C138,-80.7364 138,-71.887 138,-63.5153\" fill=\"none\" stroke=\"#000000\"/>\n",
       "<polygon fill=\"#000000\" points=\"141.5001,-63.2484 138,-53.2485 134.5001,-63.2485 141.5001,-63.2484\" stroke=\"#000000\"/>\n",
       "</g>\n",
       "<!-- 5 -->\n",
       "<g class=\"node\" id=\"node6\">\n",
       "<title>5</title>\n",
       "<path d=\"M269.5,-53C269.5,-53 208.5,-53 208.5,-53 202.5,-53 196.5,-47 196.5,-41 196.5,-41 196.5,-12 196.5,-12 196.5,-6 202.5,0 208.5,0 208.5,0 269.5,0 269.5,0 275.5,0 281.5,-6 281.5,-12 281.5,-12 281.5,-41 281.5,-41 281.5,-47 275.5,-53 269.5,-53\" fill=\"transparent\" stroke=\"#000000\"/>\n",
       "<text fill=\"#000000\" font-family=\"Helvetica,sans-Serif\" font-size=\"14.00\" text-anchor=\"middle\" x=\"239\" y=\"-37.8\">mse = 0.015</text>\n",
       "<text fill=\"#000000\" font-family=\"Helvetica,sans-Serif\" font-size=\"14.00\" text-anchor=\"middle\" x=\"239\" y=\"-22.8\">samples = 110</text>\n",
       "<text fill=\"#000000\" font-family=\"Helvetica,sans-Serif\" font-size=\"14.00\" text-anchor=\"middle\" x=\"239\" y=\"-7.8\">value = 0.111</text>\n",
       "</g>\n",
       "<!-- 4&#45;&gt;5 -->\n",
       "<g class=\"edge\" id=\"edge5\">\n",
       "<title>4-&gt;5</title>\n",
       "<path d=\"M239,-88.9777C239,-80.7364 239,-71.887 239,-63.5153\" fill=\"none\" stroke=\"#000000\"/>\n",
       "<polygon fill=\"#000000\" points=\"242.5001,-63.2484 239,-53.2485 235.5001,-63.2485 242.5001,-63.2484\" stroke=\"#000000\"/>\n",
       "</g>\n",
       "<!-- 6 -->\n",
       "<g class=\"node\" id=\"node7\">\n",
       "<title>6</title>\n",
       "<path d=\"M368,-53C368,-53 312,-53 312,-53 306,-53 300,-47 300,-41 300,-41 300,-12 300,-12 300,-6 306,0 312,0 312,0 368,0 368,0 374,0 380,-6 380,-12 380,-12 380,-41 380,-41 380,-47 374,-53 368,-53\" fill=\"#e58139\" fill-opacity=\"0.678431\" stroke=\"#000000\"/>\n",
       "<text fill=\"#000000\" font-family=\"Helvetica,sans-Serif\" font-size=\"14.00\" text-anchor=\"middle\" x=\"340\" y=\"-37.8\">mse = 0.036</text>\n",
       "<text fill=\"#000000\" font-family=\"Helvetica,sans-Serif\" font-size=\"14.00\" text-anchor=\"middle\" x=\"340\" y=\"-22.8\">samples = 46</text>\n",
       "<text fill=\"#000000\" font-family=\"Helvetica,sans-Serif\" font-size=\"14.00\" text-anchor=\"middle\" x=\"340\" y=\"-7.8\">value = 0.615</text>\n",
       "</g>\n",
       "<!-- 4&#45;&gt;6 -->\n",
       "<g class=\"edge\" id=\"edge6\">\n",
       "<title>4-&gt;6</title>\n",
       "<path d=\"M274.6088,-88.9777C284.3845,-79.6376 294.9777,-69.5163 304.734,-60.1947\" fill=\"none\" stroke=\"#000000\"/>\n",
       "<polygon fill=\"#000000\" points=\"307.1917,-62.6873 312.0042,-53.2485 302.356,-57.6261 307.1917,-62.6873\" stroke=\"#000000\"/>\n",
       "</g>\n",
       "</g>\n",
       "</svg>"
      ],
      "text/plain": [
       "<IPython.core.display.SVG object>"
      ]
     },
     "execution_count": 106,
     "metadata": {},
     "output_type": "execute_result"
    }
   ],
   "source": [
    "SVG(graph1.pipe(format='svg'))"
   ]
  },
  {
   "cell_type": "code",
   "execution_count": 107,
   "metadata": {},
   "outputs": [],
   "source": [
    "graph2 = Source(export_graphviz(\n",
    "        tree_reg2,\n",
    "        out_file=None,\n",
    "        feature_names=['x1'],\n",
    "        rounded=True,\n",
    "        filled=True))"
   ]
  },
  {
   "cell_type": "code",
   "execution_count": 108,
   "metadata": {},
   "outputs": [
    {
     "data": {
      "image/svg+xml": [
       "<svg height=\"373pt\" viewBox=\"0.00 0.00 774.00 373.00\" width=\"774pt\" xmlns=\"http://www.w3.org/2000/svg\" xmlns:xlink=\"http://www.w3.org/1999/xlink\">\n",
       "<g class=\"graph\" id=\"graph0\" transform=\"scale(1 1) rotate(0) translate(4 369)\">\n",
       "<title>Tree</title>\n",
       "<polygon fill=\"#ffffff\" points=\"-4,4 -4,-369 770,-369 770,4 -4,4\" stroke=\"transparent\"/>\n",
       "<!-- 0 -->\n",
       "<g class=\"node\" id=\"node1\">\n",
       "<title>0</title>\n",
       "<path d=\"M411.5,-365C411.5,-365 350.5,-365 350.5,-365 344.5,-365 338.5,-359 338.5,-353 338.5,-353 338.5,-309 338.5,-309 338.5,-303 344.5,-297 350.5,-297 350.5,-297 411.5,-297 411.5,-297 417.5,-297 423.5,-303 423.5,-309 423.5,-309 423.5,-353 423.5,-353 423.5,-359 417.5,-365 411.5,-365\" fill=\"#e58139\" fill-opacity=\"0.313725\" stroke=\"#000000\"/>\n",
       "<text fill=\"#000000\" font-family=\"Helvetica,sans-Serif\" font-size=\"14.00\" text-anchor=\"middle\" x=\"381\" y=\"-349.8\">x1 &lt;= 0.197</text>\n",
       "<text fill=\"#000000\" font-family=\"Helvetica,sans-Serif\" font-size=\"14.00\" text-anchor=\"middle\" x=\"381\" y=\"-334.8\">mse = 0.098</text>\n",
       "<text fill=\"#000000\" font-family=\"Helvetica,sans-Serif\" font-size=\"14.00\" text-anchor=\"middle\" x=\"381\" y=\"-319.8\">samples = 200</text>\n",
       "<text fill=\"#000000\" font-family=\"Helvetica,sans-Serif\" font-size=\"14.00\" text-anchor=\"middle\" x=\"381\" y=\"-304.8\">value = 0.354</text>\n",
       "</g>\n",
       "<!-- 1 -->\n",
       "<g class=\"node\" id=\"node2\">\n",
       "<title>1</title>\n",
       "<path d=\"M311,-261C311,-261 255,-261 255,-261 249,-261 243,-255 243,-249 243,-249 243,-205 243,-205 243,-199 249,-193 255,-193 255,-193 311,-193 311,-193 317,-193 323,-199 323,-205 323,-205 323,-249 323,-249 323,-255 317,-261 311,-261\" fill=\"#e58139\" fill-opacity=\"0.701961\" stroke=\"#000000\"/>\n",
       "<text fill=\"#000000\" font-family=\"Helvetica,sans-Serif\" font-size=\"14.00\" text-anchor=\"middle\" x=\"283\" y=\"-245.8\">x1 &lt;= 0.092</text>\n",
       "<text fill=\"#000000\" font-family=\"Helvetica,sans-Serif\" font-size=\"14.00\" text-anchor=\"middle\" x=\"283\" y=\"-230.8\">mse = 0.038</text>\n",
       "<text fill=\"#000000\" font-family=\"Helvetica,sans-Serif\" font-size=\"14.00\" text-anchor=\"middle\" x=\"283\" y=\"-215.8\">samples = 44</text>\n",
       "<text fill=\"#000000\" font-family=\"Helvetica,sans-Serif\" font-size=\"14.00\" text-anchor=\"middle\" x=\"283\" y=\"-200.8\">value = 0.689</text>\n",
       "</g>\n",
       "<!-- 0&#45;&gt;1 -->\n",
       "<g class=\"edge\" id=\"edge1\">\n",
       "<title>0-&gt;1</title>\n",
       "<path d=\"M348.9111,-296.9465C340.366,-287.8782 331.0387,-277.9799 322.1609,-268.5585\" fill=\"none\" stroke=\"#000000\"/>\n",
       "<polygon fill=\"#000000\" points=\"324.5663,-266.0076 315.161,-261.13 319.4717,-270.8082 324.5663,-266.0076\" stroke=\"#000000\"/>\n",
       "<text fill=\"#000000\" font-family=\"Helvetica,sans-Serif\" font-size=\"14.00\" text-anchor=\"middle\" x=\"314.4187\" y=\"-282.419\">True</text>\n",
       "</g>\n",
       "<!-- 8 -->\n",
       "<g class=\"node\" id=\"node9\">\n",
       "<title>8</title>\n",
       "<path d=\"M509.5,-261C509.5,-261 448.5,-261 448.5,-261 442.5,-261 436.5,-255 436.5,-249 436.5,-249 436.5,-205 436.5,-205 436.5,-199 442.5,-193 448.5,-193 448.5,-193 509.5,-193 509.5,-193 515.5,-193 521.5,-199 521.5,-205 521.5,-205 521.5,-249 521.5,-249 521.5,-255 515.5,-261 509.5,-261\" fill=\"#e58139\" fill-opacity=\"0.203922\" stroke=\"#000000\"/>\n",
       "<text fill=\"#000000\" font-family=\"Helvetica,sans-Serif\" font-size=\"14.00\" text-anchor=\"middle\" x=\"479\" y=\"-245.8\">x1 &lt;= 0.772</text>\n",
       "<text fill=\"#000000\" font-family=\"Helvetica,sans-Serif\" font-size=\"14.00\" text-anchor=\"middle\" x=\"479\" y=\"-230.8\">mse = 0.074</text>\n",
       "<text fill=\"#000000\" font-family=\"Helvetica,sans-Serif\" font-size=\"14.00\" text-anchor=\"middle\" x=\"479\" y=\"-215.8\">samples = 156</text>\n",
       "<text fill=\"#000000\" font-family=\"Helvetica,sans-Serif\" font-size=\"14.00\" text-anchor=\"middle\" x=\"479\" y=\"-200.8\">value = 0.259</text>\n",
       "</g>\n",
       "<!-- 0&#45;&gt;8 -->\n",
       "<g class=\"edge\" id=\"edge8\">\n",
       "<title>0-&gt;8</title>\n",
       "<path d=\"M413.0889,-296.9465C421.634,-287.8782 430.9613,-277.9799 439.8391,-268.5585\" fill=\"none\" stroke=\"#000000\"/>\n",
       "<polygon fill=\"#000000\" points=\"442.5283,-270.8082 446.839,-261.13 437.4337,-266.0076 442.5283,-270.8082\" stroke=\"#000000\"/>\n",
       "<text fill=\"#000000\" font-family=\"Helvetica,sans-Serif\" font-size=\"14.00\" text-anchor=\"middle\" x=\"447.5813\" y=\"-282.419\">False</text>\n",
       "</g>\n",
       "<!-- 2 -->\n",
       "<g class=\"node\" id=\"node3\">\n",
       "<title>2</title>\n",
       "<path d=\"M166,-157C166,-157 110,-157 110,-157 104,-157 98,-151 98,-145 98,-145 98,-101 98,-101 98,-95 104,-89 110,-89 110,-89 166,-89 166,-89 172,-89 178,-95 178,-101 178,-101 178,-145 178,-145 178,-151 172,-157 166,-157\" fill=\"#e58139\" fill-opacity=\"0.890196\" stroke=\"#000000\"/>\n",
       "<text fill=\"#000000\" font-family=\"Helvetica,sans-Serif\" font-size=\"14.00\" text-anchor=\"middle\" x=\"138\" y=\"-141.8\">x1 &lt;= 0.046</text>\n",
       "<text fill=\"#000000\" font-family=\"Helvetica,sans-Serif\" font-size=\"14.00\" text-anchor=\"middle\" x=\"138\" y=\"-126.8\">mse = 0.018</text>\n",
       "<text fill=\"#000000\" font-family=\"Helvetica,sans-Serif\" font-size=\"14.00\" text-anchor=\"middle\" x=\"138\" y=\"-111.8\">samples = 20</text>\n",
       "<text fill=\"#000000\" font-family=\"Helvetica,sans-Serif\" font-size=\"14.00\" text-anchor=\"middle\" x=\"138\" y=\"-96.8\">value = 0.854</text>\n",
       "</g>\n",
       "<!-- 1&#45;&gt;2 -->\n",
       "<g class=\"edge\" id=\"edge2\">\n",
       "<title>1-&gt;2</title>\n",
       "<path d=\"M242.9943,-198.3062C225.4752,-185.7408 204.7644,-170.8862 186.3865,-157.7048\" fill=\"none\" stroke=\"#000000\"/>\n",
       "<polygon fill=\"#000000\" points=\"188.2925,-154.7647 178.1266,-151.7805 184.2127,-160.4529 188.2925,-154.7647\" stroke=\"#000000\"/>\n",
       "</g>\n",
       "<!-- 5 -->\n",
       "<g class=\"node\" id=\"node6\">\n",
       "<title>5</title>\n",
       "<path d=\"M311,-157C311,-157 255,-157 255,-157 249,-157 243,-151 243,-145 243,-145 243,-101 243,-101 243,-95 249,-89 255,-89 255,-89 311,-89 311,-89 317,-89 323,-95 323,-101 323,-101 323,-145 323,-145 323,-151 317,-157 311,-157\" fill=\"#e58139\" fill-opacity=\"0.541176\" stroke=\"#000000\"/>\n",
       "<text fill=\"#000000\" font-family=\"Helvetica,sans-Serif\" font-size=\"14.00\" text-anchor=\"middle\" x=\"283\" y=\"-141.8\">x1 &lt;= 0.13</text>\n",
       "<text fill=\"#000000\" font-family=\"Helvetica,sans-Serif\" font-size=\"14.00\" text-anchor=\"middle\" x=\"283\" y=\"-126.8\">mse = 0.013</text>\n",
       "<text fill=\"#000000\" font-family=\"Helvetica,sans-Serif\" font-size=\"14.00\" text-anchor=\"middle\" x=\"283\" y=\"-111.8\">samples = 24</text>\n",
       "<text fill=\"#000000\" font-family=\"Helvetica,sans-Serif\" font-size=\"14.00\" text-anchor=\"middle\" x=\"283\" y=\"-96.8\">value = 0.552</text>\n",
       "</g>\n",
       "<!-- 1&#45;&gt;5 -->\n",
       "<g class=\"edge\" id=\"edge5\">\n",
       "<title>1-&gt;5</title>\n",
       "<path d=\"M283,-192.9465C283,-184.776 283,-175.9318 283,-167.3697\" fill=\"none\" stroke=\"#000000\"/>\n",
       "<polygon fill=\"#000000\" points=\"286.5001,-167.13 283,-157.13 279.5001,-167.13 286.5001,-167.13\" stroke=\"#000000\"/>\n",
       "</g>\n",
       "<!-- 3 -->\n",
       "<g class=\"node\" id=\"node4\">\n",
       "<title>3</title>\n",
       "<path d=\"M68,-53C68,-53 12,-53 12,-53 6,-53 0,-47 0,-41 0,-41 0,-12 0,-12 0,-6 6,0 12,0 12,0 68,0 68,0 74,0 80,-6 80,-12 80,-12 80,-41 80,-41 80,-47 74,-53 68,-53\" fill=\"#e58139\" stroke=\"#000000\"/>\n",
       "<text fill=\"#000000\" font-family=\"Helvetica,sans-Serif\" font-size=\"14.00\" text-anchor=\"middle\" x=\"40\" y=\"-37.8\">mse = 0.012</text>\n",
       "<text fill=\"#000000\" font-family=\"Helvetica,sans-Serif\" font-size=\"14.00\" text-anchor=\"middle\" x=\"40\" y=\"-22.8\">samples = 10</text>\n",
       "<text fill=\"#000000\" font-family=\"Helvetica,sans-Serif\" font-size=\"14.00\" text-anchor=\"middle\" x=\"40\" y=\"-7.8\">value = 0.947</text>\n",
       "</g>\n",
       "<!-- 2&#45;&gt;3 -->\n",
       "<g class=\"edge\" id=\"edge3\">\n",
       "<title>2-&gt;3</title>\n",
       "<path d=\"M103.4489,-88.9777C94.0566,-79.7292 83.8864,-69.7147 74.4971,-60.4691\" fill=\"none\" stroke=\"#000000\"/>\n",
       "<polygon fill=\"#000000\" points=\"76.7454,-57.7709 67.1643,-53.2485 71.8339,-62.7587 76.7454,-57.7709\" stroke=\"#000000\"/>\n",
       "</g>\n",
       "<!-- 4 -->\n",
       "<g class=\"node\" id=\"node5\">\n",
       "<title>4</title>\n",
       "<path d=\"M166,-53C166,-53 110,-53 110,-53 104,-53 98,-47 98,-41 98,-41 98,-12 98,-12 98,-6 104,0 110,0 110,0 166,0 166,0 172,0 178,-6 178,-12 178,-12 178,-41 178,-41 178,-47 172,-53 166,-53\" fill=\"#e58139\" fill-opacity=\"0.784314\" stroke=\"#000000\"/>\n",
       "<text fill=\"#000000\" font-family=\"Helvetica,sans-Serif\" font-size=\"14.00\" text-anchor=\"middle\" x=\"138\" y=\"-37.8\">mse = 0.006</text>\n",
       "<text fill=\"#000000\" font-family=\"Helvetica,sans-Serif\" font-size=\"14.00\" text-anchor=\"middle\" x=\"138\" y=\"-22.8\">samples = 10</text>\n",
       "<text fill=\"#000000\" font-family=\"Helvetica,sans-Serif\" font-size=\"14.00\" text-anchor=\"middle\" x=\"138\" y=\"-7.8\">value = 0.761</text>\n",
       "</g>\n",
       "<!-- 2&#45;&gt;4 -->\n",
       "<g class=\"edge\" id=\"edge4\">\n",
       "<title>2-&gt;4</title>\n",
       "<path d=\"M138,-88.9777C138,-80.7364 138,-71.887 138,-63.5153\" fill=\"none\" stroke=\"#000000\"/>\n",
       "<polygon fill=\"#000000\" points=\"141.5001,-63.2484 138,-53.2485 134.5001,-63.2485 141.5001,-63.2484\" stroke=\"#000000\"/>\n",
       "</g>\n",
       "<!-- 6 -->\n",
       "<g class=\"node\" id=\"node7\">\n",
       "<title>6</title>\n",
       "<path d=\"M264,-53C264,-53 208,-53 208,-53 202,-53 196,-47 196,-41 196,-41 196,-12 196,-12 196,-6 202,0 208,0 208,0 264,0 264,0 270,0 276,-6 276,-12 276,-12 276,-41 276,-41 276,-47 270,-53 264,-53\" fill=\"#e58139\" fill-opacity=\"0.635294\" stroke=\"#000000\"/>\n",
       "<text fill=\"#000000\" font-family=\"Helvetica,sans-Serif\" font-size=\"14.00\" text-anchor=\"middle\" x=\"236\" y=\"-37.8\">mse = 0.007</text>\n",
       "<text fill=\"#000000\" font-family=\"Helvetica,sans-Serif\" font-size=\"14.00\" text-anchor=\"middle\" x=\"236\" y=\"-22.8\">samples = 9</text>\n",
       "<text fill=\"#000000\" font-family=\"Helvetica,sans-Serif\" font-size=\"14.00\" text-anchor=\"middle\" x=\"236\" y=\"-7.8\">value = 0.633</text>\n",
       "</g>\n",
       "<!-- 5&#45;&gt;6 -->\n",
       "<g class=\"edge\" id=\"edge6\">\n",
       "<title>5-&gt;6</title>\n",
       "<path d=\"M266.4296,-88.9777C262.2373,-80.3702 257.7219,-71.0992 253.486,-62.402\" fill=\"none\" stroke=\"#000000\"/>\n",
       "<polygon fill=\"#000000\" points=\"256.5532,-60.7063 249.0278,-53.2485 250.2599,-63.7714 256.5532,-60.7063\" stroke=\"#000000\"/>\n",
       "</g>\n",
       "<!-- 7 -->\n",
       "<g class=\"node\" id=\"node8\">\n",
       "<title>7</title>\n",
       "<path d=\"M362,-53C362,-53 306,-53 306,-53 300,-53 294,-47 294,-41 294,-41 294,-12 294,-12 294,-6 300,0 306,0 306,0 362,0 362,0 368,0 374,-6 374,-12 374,-12 374,-41 374,-41 374,-47 368,-53 362,-53\" fill=\"#e58139\" fill-opacity=\"0.486275\" stroke=\"#000000\"/>\n",
       "<text fill=\"#000000\" font-family=\"Helvetica,sans-Serif\" font-size=\"14.00\" text-anchor=\"middle\" x=\"334\" y=\"-37.8\">mse = 0.01</text>\n",
       "<text fill=\"#000000\" font-family=\"Helvetica,sans-Serif\" font-size=\"14.00\" text-anchor=\"middle\" x=\"334\" y=\"-22.8\">samples = 15</text>\n",
       "<text fill=\"#000000\" font-family=\"Helvetica,sans-Serif\" font-size=\"14.00\" text-anchor=\"middle\" x=\"334\" y=\"-7.8\">value = 0.504</text>\n",
       "</g>\n",
       "<!-- 5&#45;&gt;7 -->\n",
       "<g class=\"edge\" id=\"edge7\">\n",
       "<title>5-&gt;7</title>\n",
       "<path d=\"M300.9807,-88.9777C305.5782,-80.2786 310.5337,-70.9018 315.1725,-62.1247\" fill=\"none\" stroke=\"#000000\"/>\n",
       "<polygon fill=\"#000000\" points=\"318.2853,-63.7251 319.8635,-53.2485 312.0965,-60.4543 318.2853,-63.7251\" stroke=\"#000000\"/>\n",
       "</g>\n",
       "<!-- 9 -->\n",
       "<g class=\"node\" id=\"node10\">\n",
       "<title>9</title>\n",
       "<path d=\"M509.5,-157C509.5,-157 448.5,-157 448.5,-157 442.5,-157 436.5,-151 436.5,-145 436.5,-145 436.5,-101 436.5,-101 436.5,-95 442.5,-89 448.5,-89 448.5,-89 509.5,-89 509.5,-89 515.5,-89 521.5,-95 521.5,-101 521.5,-101 521.5,-145 521.5,-145 521.5,-151 515.5,-157 509.5,-157\" fill=\"#e58139\" fill-opacity=\"0.031373\" stroke=\"#000000\"/>\n",
       "<text fill=\"#000000\" font-family=\"Helvetica,sans-Serif\" font-size=\"14.00\" text-anchor=\"middle\" x=\"479\" y=\"-141.8\">x1 &lt;= 0.287</text>\n",
       "<text fill=\"#000000\" font-family=\"Helvetica,sans-Serif\" font-size=\"14.00\" text-anchor=\"middle\" x=\"479\" y=\"-126.8\">mse = 0.015</text>\n",
       "<text fill=\"#000000\" font-family=\"Helvetica,sans-Serif\" font-size=\"14.00\" text-anchor=\"middle\" x=\"479\" y=\"-111.8\">samples = 110</text>\n",
       "<text fill=\"#000000\" font-family=\"Helvetica,sans-Serif\" font-size=\"14.00\" text-anchor=\"middle\" x=\"479\" y=\"-96.8\">value = 0.111</text>\n",
       "</g>\n",
       "<!-- 8&#45;&gt;9 -->\n",
       "<g class=\"edge\" id=\"edge9\">\n",
       "<title>8-&gt;9</title>\n",
       "<path d=\"M479,-192.9465C479,-184.776 479,-175.9318 479,-167.3697\" fill=\"none\" stroke=\"#000000\"/>\n",
       "<polygon fill=\"#000000\" points=\"482.5001,-167.13 479,-157.13 475.5001,-167.13 482.5001,-167.13\" stroke=\"#000000\"/>\n",
       "</g>\n",
       "<!-- 12 -->\n",
       "<g class=\"node\" id=\"node13\">\n",
       "<title>12</title>\n",
       "<path d=\"M656,-157C656,-157 600,-157 600,-157 594,-157 588,-151 588,-145 588,-145 588,-101 588,-101 588,-95 594,-89 600,-89 600,-89 656,-89 656,-89 662,-89 668,-95 668,-101 668,-101 668,-145 668,-145 668,-151 662,-157 656,-157\" fill=\"#e58139\" fill-opacity=\"0.615686\" stroke=\"#000000\"/>\n",
       "<text fill=\"#000000\" font-family=\"Helvetica,sans-Serif\" font-size=\"14.00\" text-anchor=\"middle\" x=\"628\" y=\"-141.8\">x1 &lt;= 0.904</text>\n",
       "<text fill=\"#000000\" font-family=\"Helvetica,sans-Serif\" font-size=\"14.00\" text-anchor=\"middle\" x=\"628\" y=\"-126.8\">mse = 0.036</text>\n",
       "<text fill=\"#000000\" font-family=\"Helvetica,sans-Serif\" font-size=\"14.00\" text-anchor=\"middle\" x=\"628\" y=\"-111.8\">samples = 46</text>\n",
       "<text fill=\"#000000\" font-family=\"Helvetica,sans-Serif\" font-size=\"14.00\" text-anchor=\"middle\" x=\"628\" y=\"-96.8\">value = 0.615</text>\n",
       "</g>\n",
       "<!-- 8&#45;&gt;12 -->\n",
       "<g class=\"edge\" id=\"edge12\">\n",
       "<title>8-&gt;12</title>\n",
       "<path d=\"M521.6974,-197.1978C539.7442,-184.6014 560.856,-169.8656 579.4884,-156.8605\" fill=\"none\" stroke=\"#000000\"/>\n",
       "<polygon fill=\"#000000\" points=\"581.658,-159.6144 587.8548,-151.0208 577.6515,-153.8744 581.658,-159.6144\" stroke=\"#000000\"/>\n",
       "</g>\n",
       "<!-- 10 -->\n",
       "<g class=\"node\" id=\"node11\">\n",
       "<title>10</title>\n",
       "<path d=\"M460,-53C460,-53 404,-53 404,-53 398,-53 392,-47 392,-41 392,-41 392,-12 392,-12 392,-6 398,0 404,0 404,0 460,0 460,0 466,0 472,-6 472,-12 472,-12 472,-41 472,-41 472,-47 466,-53 460,-53\" fill=\"#e58139\" fill-opacity=\"0.176471\" stroke=\"#000000\"/>\n",
       "<text fill=\"#000000\" font-family=\"Helvetica,sans-Serif\" font-size=\"14.00\" text-anchor=\"middle\" x=\"432\" y=\"-37.8\">mse = 0.006</text>\n",
       "<text fill=\"#000000\" font-family=\"Helvetica,sans-Serif\" font-size=\"14.00\" text-anchor=\"middle\" x=\"432\" y=\"-22.8\">samples = 19</text>\n",
       "<text fill=\"#000000\" font-family=\"Helvetica,sans-Serif\" font-size=\"14.00\" text-anchor=\"middle\" x=\"432\" y=\"-7.8\">value = 0.236</text>\n",
       "</g>\n",
       "<!-- 9&#45;&gt;10 -->\n",
       "<g class=\"edge\" id=\"edge10\">\n",
       "<title>9-&gt;10</title>\n",
       "<path d=\"M462.4296,-88.9777C458.2373,-80.3702 453.7219,-71.0992 449.486,-62.402\" fill=\"none\" stroke=\"#000000\"/>\n",
       "<polygon fill=\"#000000\" points=\"452.5532,-60.7063 445.0278,-53.2485 446.2599,-63.7714 452.5532,-60.7063\" stroke=\"#000000\"/>\n",
       "</g>\n",
       "<!-- 11 -->\n",
       "<g class=\"node\" id=\"node12\">\n",
       "<title>11</title>\n",
       "<path d=\"M558,-53C558,-53 502,-53 502,-53 496,-53 490,-47 490,-41 490,-41 490,-12 490,-12 490,-6 496,0 502,0 502,0 558,0 558,0 564,0 570,-6 570,-12 570,-12 570,-41 570,-41 570,-47 564,-53 558,-53\" fill=\"transparent\" stroke=\"#000000\"/>\n",
       "<text fill=\"#000000\" font-family=\"Helvetica,sans-Serif\" font-size=\"14.00\" text-anchor=\"middle\" x=\"530\" y=\"-37.8\">mse = 0.013</text>\n",
       "<text fill=\"#000000\" font-family=\"Helvetica,sans-Serif\" font-size=\"14.00\" text-anchor=\"middle\" x=\"530\" y=\"-22.8\">samples = 91</text>\n",
       "<text fill=\"#000000\" font-family=\"Helvetica,sans-Serif\" font-size=\"14.00\" text-anchor=\"middle\" x=\"530\" y=\"-7.8\">value = 0.084</text>\n",
       "</g>\n",
       "<!-- 9&#45;&gt;11 -->\n",
       "<g class=\"edge\" id=\"edge11\">\n",
       "<title>9-&gt;11</title>\n",
       "<path d=\"M496.9807,-88.9777C501.5782,-80.2786 506.5337,-70.9018 511.1725,-62.1247\" fill=\"none\" stroke=\"#000000\"/>\n",
       "<polygon fill=\"#000000\" points=\"514.2853,-63.7251 515.8635,-53.2485 508.0965,-60.4543 514.2853,-63.7251\" stroke=\"#000000\"/>\n",
       "</g>\n",
       "<!-- 13 -->\n",
       "<g class=\"node\" id=\"node14\">\n",
       "<title>13</title>\n",
       "<path d=\"M656,-53C656,-53 600,-53 600,-53 594,-53 588,-47 588,-41 588,-41 588,-12 588,-12 588,-6 594,0 600,0 600,0 656,0 656,0 662,0 668,-6 668,-12 668,-12 668,-41 668,-41 668,-47 662,-53 656,-53\" fill=\"#e58139\" fill-opacity=\"0.466667\" stroke=\"#000000\"/>\n",
       "<text fill=\"#000000\" font-family=\"Helvetica,sans-Serif\" font-size=\"14.00\" text-anchor=\"middle\" x=\"628\" y=\"-37.8\">mse = 0.012</text>\n",
       "<text fill=\"#000000\" font-family=\"Helvetica,sans-Serif\" font-size=\"14.00\" text-anchor=\"middle\" x=\"628\" y=\"-22.8\">samples = 28</text>\n",
       "<text fill=\"#000000\" font-family=\"Helvetica,sans-Serif\" font-size=\"14.00\" text-anchor=\"middle\" x=\"628\" y=\"-7.8\">value = 0.489</text>\n",
       "</g>\n",
       "<!-- 12&#45;&gt;13 -->\n",
       "<g class=\"edge\" id=\"edge13\">\n",
       "<title>12-&gt;13</title>\n",
       "<path d=\"M628,-88.9777C628,-80.7364 628,-71.887 628,-63.5153\" fill=\"none\" stroke=\"#000000\"/>\n",
       "<polygon fill=\"#000000\" points=\"631.5001,-63.2484 628,-53.2485 624.5001,-63.2485 631.5001,-63.2484\" stroke=\"#000000\"/>\n",
       "</g>\n",
       "<!-- 14 -->\n",
       "<g class=\"node\" id=\"node15\">\n",
       "<title>14</title>\n",
       "<path d=\"M754,-53C754,-53 698,-53 698,-53 692,-53 686,-47 686,-41 686,-41 686,-12 686,-12 686,-6 692,0 698,0 698,0 754,0 754,0 760,0 766,-6 766,-12 766,-12 766,-41 766,-41 766,-47 760,-53 754,-53\" fill=\"#e58139\" fill-opacity=\"0.843137\" stroke=\"#000000\"/>\n",
       "<text fill=\"#000000\" font-family=\"Helvetica,sans-Serif\" font-size=\"14.00\" text-anchor=\"middle\" x=\"726\" y=\"-37.8\">mse = 0.01</text>\n",
       "<text fill=\"#000000\" font-family=\"Helvetica,sans-Serif\" font-size=\"14.00\" text-anchor=\"middle\" x=\"726\" y=\"-22.8\">samples = 18</text>\n",
       "<text fill=\"#000000\" font-family=\"Helvetica,sans-Serif\" font-size=\"14.00\" text-anchor=\"middle\" x=\"726\" y=\"-7.8\">value = 0.811</text>\n",
       "</g>\n",
       "<!-- 12&#45;&gt;14 -->\n",
       "<g class=\"edge\" id=\"edge14\">\n",
       "<title>12-&gt;14</title>\n",
       "<path d=\"M662.5511,-88.9777C671.9434,-79.7292 682.1136,-69.7147 691.5029,-60.4691\" fill=\"none\" stroke=\"#000000\"/>\n",
       "<polygon fill=\"#000000\" points=\"694.1661,-62.7587 698.8357,-53.2485 689.2546,-57.7709 694.1661,-62.7587\" stroke=\"#000000\"/>\n",
       "</g>\n",
       "</g>\n",
       "</svg>"
      ],
      "text/plain": [
       "<IPython.core.display.SVG object>"
      ]
     },
     "execution_count": 108,
     "metadata": {},
     "output_type": "execute_result"
    }
   ],
   "source": [
    "SVG(graph2.pipe(format='svg'))"
   ]
  },
  {
   "cell_type": "code",
   "execution_count": 104,
   "metadata": {},
   "outputs": [
    {
     "data": {
      "text/plain": [
       "Text(0.5,1,'max_depth=3')"
      ]
     },
     "execution_count": 104,
     "metadata": {},
     "output_type": "execute_result"
    },
    {
     "data": {
      "image/png": "[encoded data removed]",
      "text/plain": [
       "<matplotlib.figure.Figure at 0x1a206269e8>"
      ]
     },
     "metadata": {
      "needs_background": "light"
     },
     "output_type": "display_data"
    }
   ],
   "source": [
    "def plot_regression_predictions(tree_reg, X, y, axes=[0, 1, -0.2, 1], ylabel=\"$y$\"):\n",
    "    x1 = np.linspace(axes[0], axes[1], 500).reshape(-1, 1)\n",
    "    y_pred = tree_reg.predict(x1)\n",
    "    plt.axis(axes)\n",
    "    plt.xlabel(\"$x_1$\", fontsize=18)\n",
    "    if ylabel:\n",
    "        plt.ylabel(ylabel, fontsize=18, rotation=0)\n",
    "    plt.plot(X, y, \"b.\")\n",
    "    plt.plot(x1, y_pred, \"r.-\", linewidth=2, label=r\"$\\hat{y}$\")\n",
    "\n",
    "plt.figure(figsize=(11, 4))\n",
    "plt.subplot(121)\n",
    "plot_regression_predictions(tree_reg1, X, y)\n",
    "for split, style in ((0.1973, \"k-\"), (0.0917, \"k--\"), (0.7718, \"k--\")):\n",
    "    plt.plot([split, split], [-0.2, 1], style, linewidth=2)\n",
    "plt.text(0.21, 0.65, \"Depth=0\", fontsize=15)\n",
    "plt.text(0.01, 0.2, \"Depth=1\", fontsize=13)\n",
    "plt.text(0.65, 0.8, \"Depth=1\", fontsize=13)\n",
    "plt.legend(loc=\"upper center\", fontsize=18)\n",
    "plt.title(\"max_depth=2\", fontsize=14)\n",
    "\n",
    "plt.subplot(122)\n",
    "plot_regression_predictions(tree_reg2, X, y, ylabel=None)\n",
    "for split, style in ((0.1973, \"k-\"), (0.0917, \"k--\"), (0.7718, \"k--\")):\n",
    "    plt.plot([split, split], [-0.2, 1], style, linewidth=2)\n",
    "for split in (0.0458, 0.1298, 0.2873, 0.9040):\n",
    "    plt.plot([split, split], [-0.2, 1], \"k:\", linewidth=1)\n",
    "plt.text(0.3, 0.5, \"Depth=2\", fontsize=13)\n",
    "plt.title(\"max_depth=3\", fontsize=14)"
   ]
  },
  {
   "cell_type": "code",
   "execution_count": 113,
   "metadata": {},
   "outputs": [
    {
     "data": {
      "text/plain": [
       "DecisionTreeRegressor(criterion='mse', max_depth=None, max_features=None,\n",
       "           max_leaf_nodes=None, min_impurity_decrease=0.0,\n",
       "           min_impurity_split=None, min_samples_leaf=10,\n",
       "           min_samples_split=2, min_weight_fraction_leaf=0.0,\n",
       "           presort=False, random_state=42, splitter='best')"
      ]
     },
     "execution_count": 113,
     "metadata": {},
     "output_type": "execute_result"
    }
   ],
   "source": [
    "# min_samples_leaf를 이용하여 규제를 한 경우\n",
    "tree_reg1 = DecisionTreeRegressor(random_state=42)\n",
    "tree_reg2 = DecisionTreeRegressor(random_state=42, min_samples_leaf=10)\n",
    "tree_reg1.fit(X, y)\n",
    "tree_reg2.fit(X, y)"
   ]
  },
  {
   "cell_type": "code",
   "execution_count": 119,
   "metadata": {},
   "outputs": [],
   "source": [
    "# graph1 = Source(export_graphviz(\n",
    "#         tree_reg1,\n",
    "#         out_file=None,\n",
    "#         feature_names=['x1'],\n",
    "#         rounded=True,\n",
    "#         filled=True))\n",
    "\n",
    "# SVG(graph1.pipe(format='svg'))"
   ]
  },
  {
   "cell_type": "code",
   "execution_count": 112,
   "metadata": {},
   "outputs": [
    {
     "data": {
      "image/svg+xml": [
       "<svg height=\"789pt\" viewBox=\"0.00 0.00 774.00 789.00\" width=\"774pt\" xmlns=\"http://www.w3.org/2000/svg\" xmlns:xlink=\"http://www.w3.org/1999/xlink\">\n",
       "<g class=\"graph\" id=\"graph0\" transform=\"scale(1 1) rotate(0) translate(4 785)\">\n",
       "<title>Tree</title>\n",
       "<polygon fill=\"#ffffff\" points=\"-4,4 -4,-785 770,-785 770,4 -4,4\" stroke=\"transparent\"/>\n",
       "<!-- 0 -->\n",
       "<g class=\"node\" id=\"node1\">\n",
       "<title>0</title>\n",
       "<path d=\"M411.5,-781C411.5,-781 350.5,-781 350.5,-781 344.5,-781 338.5,-775 338.5,-769 338.5,-769 338.5,-725 338.5,-725 338.5,-719 344.5,-713 350.5,-713 350.5,-713 411.5,-713 411.5,-713 417.5,-713 423.5,-719 423.5,-725 423.5,-725 423.5,-769 423.5,-769 423.5,-775 417.5,-781 411.5,-781\" fill=\"#e58139\" fill-opacity=\"0.388235\" stroke=\"#000000\"/>\n",
       "<text fill=\"#000000\" font-family=\"Helvetica,sans-Serif\" font-size=\"14.00\" text-anchor=\"middle\" x=\"381\" y=\"-765.8\">x1 &lt;= 0.197</text>\n",
       "<text fill=\"#000000\" font-family=\"Helvetica,sans-Serif\" font-size=\"14.00\" text-anchor=\"middle\" x=\"381\" y=\"-750.8\">mse = 0.098</text>\n",
       "<text fill=\"#000000\" font-family=\"Helvetica,sans-Serif\" font-size=\"14.00\" text-anchor=\"middle\" x=\"381\" y=\"-735.8\">samples = 200</text>\n",
       "<text fill=\"#000000\" font-family=\"Helvetica,sans-Serif\" font-size=\"14.00\" text-anchor=\"middle\" x=\"381\" y=\"-720.8\">value = 0.354</text>\n",
       "</g>\n",
       "<!-- 1 -->\n",
       "<g class=\"node\" id=\"node2\">\n",
       "<title>1</title>\n",
       "<path d=\"M311,-677C311,-677 255,-677 255,-677 249,-677 243,-671 243,-665 243,-665 243,-621 243,-621 243,-615 249,-609 255,-609 255,-609 311,-609 311,-609 317,-609 323,-615 323,-621 323,-621 323,-665 323,-665 323,-671 317,-677 311,-677\" fill=\"#e58139\" fill-opacity=\"0.733333\" stroke=\"#000000\"/>\n",
       "<text fill=\"#000000\" font-family=\"Helvetica,sans-Serif\" font-size=\"14.00\" text-anchor=\"middle\" x=\"283\" y=\"-661.8\">x1 &lt;= 0.092</text>\n",
       "<text fill=\"#000000\" font-family=\"Helvetica,sans-Serif\" font-size=\"14.00\" text-anchor=\"middle\" x=\"283\" y=\"-646.8\">mse = 0.038</text>\n",
       "<text fill=\"#000000\" font-family=\"Helvetica,sans-Serif\" font-size=\"14.00\" text-anchor=\"middle\" x=\"283\" y=\"-631.8\">samples = 44</text>\n",
       "<text fill=\"#000000\" font-family=\"Helvetica,sans-Serif\" font-size=\"14.00\" text-anchor=\"middle\" x=\"283\" y=\"-616.8\">value = 0.689</text>\n",
       "</g>\n",
       "<!-- 0&#45;&gt;1 -->\n",
       "<g class=\"edge\" id=\"edge1\">\n",
       "<title>0-&gt;1</title>\n",
       "<path d=\"M348.9111,-712.9465C340.366,-703.8782 331.0387,-693.9799 322.1609,-684.5585\" fill=\"none\" stroke=\"#000000\"/>\n",
       "<polygon fill=\"#000000\" points=\"324.5663,-682.0076 315.161,-677.13 319.4717,-686.8082 324.5663,-682.0076\" stroke=\"#000000\"/>\n",
       "<text fill=\"#000000\" font-family=\"Helvetica,sans-Serif\" font-size=\"14.00\" text-anchor=\"middle\" x=\"314.4187\" y=\"-698.419\">True</text>\n",
       "</g>\n",
       "<!-- 8 -->\n",
       "<g class=\"node\" id=\"node9\">\n",
       "<title>8</title>\n",
       "<path d=\"M509.5,-677C509.5,-677 448.5,-677 448.5,-677 442.5,-677 436.5,-671 436.5,-665 436.5,-665 436.5,-621 436.5,-621 436.5,-615 442.5,-609 448.5,-609 448.5,-609 509.5,-609 509.5,-609 515.5,-609 521.5,-615 521.5,-621 521.5,-621 521.5,-665 521.5,-665 521.5,-671 515.5,-677 509.5,-677\" fill=\"#e58139\" fill-opacity=\"0.290196\" stroke=\"#000000\"/>\n",
       "<text fill=\"#000000\" font-family=\"Helvetica,sans-Serif\" font-size=\"14.00\" text-anchor=\"middle\" x=\"479\" y=\"-661.8\">x1 &lt;= 0.772</text>\n",
       "<text fill=\"#000000\" font-family=\"Helvetica,sans-Serif\" font-size=\"14.00\" text-anchor=\"middle\" x=\"479\" y=\"-646.8\">mse = 0.074</text>\n",
       "<text fill=\"#000000\" font-family=\"Helvetica,sans-Serif\" font-size=\"14.00\" text-anchor=\"middle\" x=\"479\" y=\"-631.8\">samples = 156</text>\n",
       "<text fill=\"#000000\" font-family=\"Helvetica,sans-Serif\" font-size=\"14.00\" text-anchor=\"middle\" x=\"479\" y=\"-616.8\">value = 0.259</text>\n",
       "</g>\n",
       "<!-- 0&#45;&gt;8 -->\n",
       "<g class=\"edge\" id=\"edge8\">\n",
       "<title>0-&gt;8</title>\n",
       "<path d=\"M413.0889,-712.9465C421.634,-703.8782 430.9613,-693.9799 439.8391,-684.5585\" fill=\"none\" stroke=\"#000000\"/>\n",
       "<polygon fill=\"#000000\" points=\"442.5283,-686.8082 446.839,-677.13 437.4337,-682.0076 442.5283,-686.8082\" stroke=\"#000000\"/>\n",
       "<text fill=\"#000000\" font-family=\"Helvetica,sans-Serif\" font-size=\"14.00\" text-anchor=\"middle\" x=\"447.5813\" y=\"-698.419\">False</text>\n",
       "</g>\n",
       "<!-- 2 -->\n",
       "<g class=\"node\" id=\"node3\">\n",
       "<title>2</title>\n",
       "<path d=\"M166,-573C166,-573 110,-573 110,-573 104,-573 98,-567 98,-561 98,-561 98,-517 98,-517 98,-511 104,-505 110,-505 110,-505 166,-505 166,-505 172,-505 178,-511 178,-517 178,-517 178,-561 178,-561 178,-567 172,-573 166,-573\" fill=\"#e58139\" fill-opacity=\"0.901961\" stroke=\"#000000\"/>\n",
       "<text fill=\"#000000\" font-family=\"Helvetica,sans-Serif\" font-size=\"14.00\" text-anchor=\"middle\" x=\"138\" y=\"-557.8\">x1 &lt;= 0.046</text>\n",
       "<text fill=\"#000000\" font-family=\"Helvetica,sans-Serif\" font-size=\"14.00\" text-anchor=\"middle\" x=\"138\" y=\"-542.8\">mse = 0.018</text>\n",
       "<text fill=\"#000000\" font-family=\"Helvetica,sans-Serif\" font-size=\"14.00\" text-anchor=\"middle\" x=\"138\" y=\"-527.8\">samples = 20</text>\n",
       "<text fill=\"#000000\" font-family=\"Helvetica,sans-Serif\" font-size=\"14.00\" text-anchor=\"middle\" x=\"138\" y=\"-512.8\">value = 0.854</text>\n",
       "</g>\n",
       "<!-- 1&#45;&gt;2 -->\n",
       "<g class=\"edge\" id=\"edge2\">\n",
       "<title>1-&gt;2</title>\n",
       "<path d=\"M242.9943,-614.3062C225.4752,-601.7408 204.7644,-586.8862 186.3865,-573.7048\" fill=\"none\" stroke=\"#000000\"/>\n",
       "<polygon fill=\"#000000\" points=\"188.2925,-570.7647 178.1266,-567.7805 184.2127,-576.4529 188.2925,-570.7647\" stroke=\"#000000\"/>\n",
       "</g>\n",
       "<!-- 5 -->\n",
       "<g class=\"node\" id=\"node6\">\n",
       "<title>5</title>\n",
       "<path d=\"M311,-573C311,-573 255,-573 255,-573 249,-573 243,-567 243,-561 243,-561 243,-517 243,-517 243,-511 249,-505 255,-505 255,-505 311,-505 311,-505 317,-505 323,-511 323,-517 323,-517 323,-561 323,-561 323,-567 317,-573 311,-573\" fill=\"#e58139\" fill-opacity=\"0.592157\" stroke=\"#000000\"/>\n",
       "<text fill=\"#000000\" font-family=\"Helvetica,sans-Serif\" font-size=\"14.00\" text-anchor=\"middle\" x=\"283\" y=\"-557.8\">x1 &lt;= 0.139</text>\n",
       "<text fill=\"#000000\" font-family=\"Helvetica,sans-Serif\" font-size=\"14.00\" text-anchor=\"middle\" x=\"283\" y=\"-542.8\">mse = 0.013</text>\n",
       "<text fill=\"#000000\" font-family=\"Helvetica,sans-Serif\" font-size=\"14.00\" text-anchor=\"middle\" x=\"283\" y=\"-527.8\">samples = 24</text>\n",
       "<text fill=\"#000000\" font-family=\"Helvetica,sans-Serif\" font-size=\"14.00\" text-anchor=\"middle\" x=\"283\" y=\"-512.8\">value = 0.552</text>\n",
       "</g>\n",
       "<!-- 1&#45;&gt;5 -->\n",
       "<g class=\"edge\" id=\"edge5\">\n",
       "<title>1-&gt;5</title>\n",
       "<path d=\"M283,-608.9465C283,-600.776 283,-591.9318 283,-583.3697\" fill=\"none\" stroke=\"#000000\"/>\n",
       "<polygon fill=\"#000000\" points=\"286.5001,-583.13 283,-573.13 279.5001,-583.13 286.5001,-583.13\" stroke=\"#000000\"/>\n",
       "</g>\n",
       "<!-- 3 -->\n",
       "<g class=\"node\" id=\"node4\">\n",
       "<title>3</title>\n",
       "<path d=\"M68,-461.5C68,-461.5 12,-461.5 12,-461.5 6,-461.5 0,-455.5 0,-449.5 0,-449.5 0,-420.5 0,-420.5 0,-414.5 6,-408.5 12,-408.5 12,-408.5 68,-408.5 68,-408.5 74,-408.5 80,-414.5 80,-420.5 80,-420.5 80,-449.5 80,-449.5 80,-455.5 74,-461.5 68,-461.5\" fill=\"#e58139\" stroke=\"#000000\"/>\n",
       "<text fill=\"#000000\" font-family=\"Helvetica,sans-Serif\" font-size=\"14.00\" text-anchor=\"middle\" x=\"40\" y=\"-446.3\">mse = 0.012</text>\n",
       "<text fill=\"#000000\" font-family=\"Helvetica,sans-Serif\" font-size=\"14.00\" text-anchor=\"middle\" x=\"40\" y=\"-431.3\">samples = 10</text>\n",
       "<text fill=\"#000000\" font-family=\"Helvetica,sans-Serif\" font-size=\"14.00\" text-anchor=\"middle\" x=\"40\" y=\"-416.3\">value = 0.947</text>\n",
       "</g>\n",
       "<!-- 2&#45;&gt;3 -->\n",
       "<g class=\"edge\" id=\"edge3\">\n",
       "<title>2-&gt;3</title>\n",
       "<path d=\"M105.9111,-504.9465C95.0127,-493.3809 82.8422,-480.4652 71.9543,-468.9107\" fill=\"none\" stroke=\"#000000\"/>\n",
       "<polygon fill=\"#000000\" points=\"74.4162,-466.4198 65.0109,-461.5422 69.3217,-471.2204 74.4162,-466.4198\" stroke=\"#000000\"/>\n",
       "</g>\n",
       "<!-- 4 -->\n",
       "<g class=\"node\" id=\"node5\">\n",
       "<title>4</title>\n",
       "<path d=\"M166,-461.5C166,-461.5 110,-461.5 110,-461.5 104,-461.5 98,-455.5 98,-449.5 98,-449.5 98,-420.5 98,-420.5 98,-414.5 104,-408.5 110,-408.5 110,-408.5 166,-408.5 166,-408.5 172,-408.5 178,-414.5 178,-420.5 178,-420.5 178,-449.5 178,-449.5 178,-455.5 172,-461.5 166,-461.5\" fill=\"#e58139\" fill-opacity=\"0.807843\" stroke=\"#000000\"/>\n",
       "<text fill=\"#000000\" font-family=\"Helvetica,sans-Serif\" font-size=\"14.00\" text-anchor=\"middle\" x=\"138\" y=\"-446.3\">mse = 0.006</text>\n",
       "<text fill=\"#000000\" font-family=\"Helvetica,sans-Serif\" font-size=\"14.00\" text-anchor=\"middle\" x=\"138\" y=\"-431.3\">samples = 10</text>\n",
       "<text fill=\"#000000\" font-family=\"Helvetica,sans-Serif\" font-size=\"14.00\" text-anchor=\"middle\" x=\"138\" y=\"-416.3\">value = 0.761</text>\n",
       "</g>\n",
       "<!-- 2&#45;&gt;4 -->\n",
       "<g class=\"edge\" id=\"edge4\">\n",
       "<title>2-&gt;4</title>\n",
       "<path d=\"M138,-504.9465C138,-494.2621 138,-482.4254 138,-471.5742\" fill=\"none\" stroke=\"#000000\"/>\n",
       "<polygon fill=\"#000000\" points=\"141.5001,-471.5421 138,-461.5422 134.5001,-471.5422 141.5001,-471.5421\" stroke=\"#000000\"/>\n",
       "</g>\n",
       "<!-- 6 -->\n",
       "<g class=\"node\" id=\"node7\">\n",
       "<title>6</title>\n",
       "<path d=\"M264,-461.5C264,-461.5 208,-461.5 208,-461.5 202,-461.5 196,-455.5 196,-449.5 196,-449.5 196,-420.5 196,-420.5 196,-414.5 202,-408.5 208,-408.5 208,-408.5 264,-408.5 264,-408.5 270,-408.5 276,-414.5 276,-420.5 276,-420.5 276,-449.5 276,-449.5 276,-455.5 270,-461.5 264,-461.5\" fill=\"#e58139\" fill-opacity=\"0.654902\" stroke=\"#000000\"/>\n",
       "<text fill=\"#000000\" font-family=\"Helvetica,sans-Serif\" font-size=\"14.00\" text-anchor=\"middle\" x=\"236\" y=\"-446.3\">mse = 0.01</text>\n",
       "<text fill=\"#000000\" font-family=\"Helvetica,sans-Serif\" font-size=\"14.00\" text-anchor=\"middle\" x=\"236\" y=\"-431.3\">samples = 10</text>\n",
       "<text fill=\"#000000\" font-family=\"Helvetica,sans-Serif\" font-size=\"14.00\" text-anchor=\"middle\" x=\"236\" y=\"-416.3\">value = 0.614</text>\n",
       "</g>\n",
       "<!-- 5&#45;&gt;6 -->\n",
       "<g class=\"edge\" id=\"edge6\">\n",
       "<title>5-&gt;6</title>\n",
       "<path d=\"M267.6104,-504.9465C262.6823,-494.0418 257.2118,-481.9368 252.226,-470.9043\" fill=\"none\" stroke=\"#000000\"/>\n",
       "<polygon fill=\"#000000\" points=\"255.3027,-469.2134 247.995,-461.5422 248.9239,-472.0962 255.3027,-469.2134\" stroke=\"#000000\"/>\n",
       "</g>\n",
       "<!-- 7 -->\n",
       "<g class=\"node\" id=\"node8\">\n",
       "<title>7</title>\n",
       "<path d=\"M362,-461.5C362,-461.5 306,-461.5 306,-461.5 300,-461.5 294,-455.5 294,-449.5 294,-449.5 294,-420.5 294,-420.5 294,-414.5 300,-408.5 306,-408.5 306,-408.5 362,-408.5 362,-408.5 368,-408.5 374,-414.5 374,-420.5 374,-420.5 374,-449.5 374,-449.5 374,-455.5 368,-461.5 362,-461.5\" fill=\"#e58139\" fill-opacity=\"0.545098\" stroke=\"#000000\"/>\n",
       "<text fill=\"#000000\" font-family=\"Helvetica,sans-Serif\" font-size=\"14.00\" text-anchor=\"middle\" x=\"334\" y=\"-446.3\">mse = 0.011</text>\n",
       "<text fill=\"#000000\" font-family=\"Helvetica,sans-Serif\" font-size=\"14.00\" text-anchor=\"middle\" x=\"334\" y=\"-431.3\">samples = 14</text>\n",
       "<text fill=\"#000000\" font-family=\"Helvetica,sans-Serif\" font-size=\"14.00\" text-anchor=\"middle\" x=\"334\" y=\"-416.3\">value = 0.508</text>\n",
       "</g>\n",
       "<!-- 5&#45;&gt;7 -->\n",
       "<g class=\"edge\" id=\"edge7\">\n",
       "<title>5-&gt;7</title>\n",
       "<path d=\"M299.6993,-504.9465C305.1008,-493.9316 311.1029,-481.6922 316.5569,-470.5703\" fill=\"none\" stroke=\"#000000\"/>\n",
       "<polygon fill=\"#000000\" points=\"319.7236,-472.0618 320.9841,-461.5422 313.4386,-468.9797 319.7236,-472.0618\" stroke=\"#000000\"/>\n",
       "</g>\n",
       "<!-- 9 -->\n",
       "<g class=\"node\" id=\"node10\">\n",
       "<title>9</title>\n",
       "<path d=\"M509.5,-573C509.5,-573 448.5,-573 448.5,-573 442.5,-573 436.5,-567 436.5,-561 436.5,-561 436.5,-517 436.5,-517 436.5,-511 442.5,-505 448.5,-505 448.5,-505 509.5,-505 509.5,-505 515.5,-505 521.5,-511 521.5,-517 521.5,-517 521.5,-561 521.5,-561 521.5,-567 515.5,-573 509.5,-573\" fill=\"#e58139\" fill-opacity=\"0.137255\" stroke=\"#000000\"/>\n",
       "<text fill=\"#000000\" font-family=\"Helvetica,sans-Serif\" font-size=\"14.00\" text-anchor=\"middle\" x=\"479\" y=\"-557.8\">x1 &lt;= 0.287</text>\n",
       "<text fill=\"#000000\" font-family=\"Helvetica,sans-Serif\" font-size=\"14.00\" text-anchor=\"middle\" x=\"479\" y=\"-542.8\">mse = 0.015</text>\n",
       "<text fill=\"#000000\" font-family=\"Helvetica,sans-Serif\" font-size=\"14.00\" text-anchor=\"middle\" x=\"479\" y=\"-527.8\">samples = 110</text>\n",
       "<text fill=\"#000000\" font-family=\"Helvetica,sans-Serif\" font-size=\"14.00\" text-anchor=\"middle\" x=\"479\" y=\"-512.8\">value = 0.111</text>\n",
       "</g>\n",
       "<!-- 8&#45;&gt;9 -->\n",
       "<g class=\"edge\" id=\"edge9\">\n",
       "<title>8-&gt;9</title>\n",
       "<path d=\"M479,-608.9465C479,-600.776 479,-591.9318 479,-583.3697\" fill=\"none\" stroke=\"#000000\"/>\n",
       "<polygon fill=\"#000000\" points=\"482.5001,-583.13 479,-573.13 475.5001,-583.13 482.5001,-583.13\" stroke=\"#000000\"/>\n",
       "</g>\n",
       "<!-- 24 -->\n",
       "<g class=\"node\" id=\"node25\">\n",
       "<title>24</title>\n",
       "<path d=\"M656,-573C656,-573 600,-573 600,-573 594,-573 588,-567 588,-561 588,-561 588,-517 588,-517 588,-511 594,-505 600,-505 600,-505 656,-505 656,-505 662,-505 668,-511 668,-517 668,-517 668,-561 668,-561 668,-567 662,-573 656,-573\" fill=\"#e58139\" fill-opacity=\"0.654902\" stroke=\"#000000\"/>\n",
       "<text fill=\"#000000\" font-family=\"Helvetica,sans-Serif\" font-size=\"14.00\" text-anchor=\"middle\" x=\"628\" y=\"-557.8\">x1 &lt;= 0.904</text>\n",
       "<text fill=\"#000000\" font-family=\"Helvetica,sans-Serif\" font-size=\"14.00\" text-anchor=\"middle\" x=\"628\" y=\"-542.8\">mse = 0.036</text>\n",
       "<text fill=\"#000000\" font-family=\"Helvetica,sans-Serif\" font-size=\"14.00\" text-anchor=\"middle\" x=\"628\" y=\"-527.8\">samples = 46</text>\n",
       "<text fill=\"#000000\" font-family=\"Helvetica,sans-Serif\" font-size=\"14.00\" text-anchor=\"middle\" x=\"628\" y=\"-512.8\">value = 0.615</text>\n",
       "</g>\n",
       "<!-- 8&#45;&gt;24 -->\n",
       "<g class=\"edge\" id=\"edge24\">\n",
       "<title>8-&gt;24</title>\n",
       "<path d=\"M521.6974,-613.1978C539.7442,-600.6014 560.856,-585.8656 579.4884,-572.8605\" fill=\"none\" stroke=\"#000000\"/>\n",
       "<polygon fill=\"#000000\" points=\"581.658,-575.6144 587.8548,-567.0208 577.6515,-569.8744 581.658,-575.6144\" stroke=\"#000000\"/>\n",
       "</g>\n",
       "<!-- 10 -->\n",
       "<g class=\"node\" id=\"node11\">\n",
       "<title>10</title>\n",
       "<path d=\"M460,-461.5C460,-461.5 404,-461.5 404,-461.5 398,-461.5 392,-455.5 392,-449.5 392,-449.5 392,-420.5 392,-420.5 392,-414.5 398,-408.5 404,-408.5 404,-408.5 460,-408.5 460,-408.5 466,-408.5 472,-414.5 472,-420.5 472,-420.5 472,-449.5 472,-449.5 472,-455.5 466,-461.5 460,-461.5\" fill=\"#e58139\" fill-opacity=\"0.266667\" stroke=\"#000000\"/>\n",
       "<text fill=\"#000000\" font-family=\"Helvetica,sans-Serif\" font-size=\"14.00\" text-anchor=\"middle\" x=\"432\" y=\"-446.3\">mse = 0.006</text>\n",
       "<text fill=\"#000000\" font-family=\"Helvetica,sans-Serif\" font-size=\"14.00\" text-anchor=\"middle\" x=\"432\" y=\"-431.3\">samples = 19</text>\n",
       "<text fill=\"#000000\" font-family=\"Helvetica,sans-Serif\" font-size=\"14.00\" text-anchor=\"middle\" x=\"432\" y=\"-416.3\">value = 0.236</text>\n",
       "</g>\n",
       "<!-- 9&#45;&gt;10 -->\n",
       "<g class=\"edge\" id=\"edge10\">\n",
       "<title>9-&gt;10</title>\n",
       "<path d=\"M463.6104,-504.9465C458.6823,-494.0418 453.2118,-481.9368 448.226,-470.9043\" fill=\"none\" stroke=\"#000000\"/>\n",
       "<polygon fill=\"#000000\" points=\"451.3027,-469.2134 443.995,-461.5422 444.9239,-472.0962 451.3027,-469.2134\" stroke=\"#000000\"/>\n",
       "</g>\n",
       "<!-- 11 -->\n",
       "<g class=\"node\" id=\"node12\">\n",
       "<title>11</title>\n",
       "<path d=\"M558,-469C558,-469 502,-469 502,-469 496,-469 490,-463 490,-457 490,-457 490,-413 490,-413 490,-407 496,-401 502,-401 502,-401 558,-401 558,-401 564,-401 570,-407 570,-413 570,-413 570,-457 570,-457 570,-463 564,-469 558,-469\" fill=\"#e58139\" fill-opacity=\"0.109804\" stroke=\"#000000\"/>\n",
       "<text fill=\"#000000\" font-family=\"Helvetica,sans-Serif\" font-size=\"14.00\" text-anchor=\"middle\" x=\"530\" y=\"-453.8\">x1 &lt;= 0.628</text>\n",
       "<text fill=\"#000000\" font-family=\"Helvetica,sans-Serif\" font-size=\"14.00\" text-anchor=\"middle\" x=\"530\" y=\"-438.8\">mse = 0.013</text>\n",
       "<text fill=\"#000000\" font-family=\"Helvetica,sans-Serif\" font-size=\"14.00\" text-anchor=\"middle\" x=\"530\" y=\"-423.8\">samples = 91</text>\n",
       "<text fill=\"#000000\" font-family=\"Helvetica,sans-Serif\" font-size=\"14.00\" text-anchor=\"middle\" x=\"530\" y=\"-408.8\">value = 0.084</text>\n",
       "</g>\n",
       "<!-- 9&#45;&gt;11 -->\n",
       "<g class=\"edge\" id=\"edge11\">\n",
       "<title>9-&gt;11</title>\n",
       "<path d=\"M495.6993,-504.9465C499.8821,-496.4169 504.425,-487.153 508.7946,-478.2424\" fill=\"none\" stroke=\"#000000\"/>\n",
       "<polygon fill=\"#000000\" points=\"512.0027,-479.6496 513.2632,-469.13 505.7177,-476.5675 512.0027,-479.6496\" stroke=\"#000000\"/>\n",
       "</g>\n",
       "<!-- 12 -->\n",
       "<g class=\"node\" id=\"node13\">\n",
       "<title>12</title>\n",
       "<path d=\"M460,-365C460,-365 404,-365 404,-365 398,-365 392,-359 392,-353 392,-353 392,-309 392,-309 392,-303 398,-297 404,-297 404,-297 460,-297 460,-297 466,-297 472,-303 472,-309 472,-309 472,-353 472,-353 472,-359 466,-365 460,-365\" fill=\"#e58139\" fill-opacity=\"0.066667\" stroke=\"#000000\"/>\n",
       "<text fill=\"#000000\" font-family=\"Helvetica,sans-Serif\" font-size=\"14.00\" text-anchor=\"middle\" x=\"432\" y=\"-349.8\">x1 &lt;= 0.422</text>\n",
       "<text fill=\"#000000\" font-family=\"Helvetica,sans-Serif\" font-size=\"14.00\" text-anchor=\"middle\" x=\"432\" y=\"-334.8\">mse = 0.011</text>\n",
       "<text fill=\"#000000\" font-family=\"Helvetica,sans-Serif\" font-size=\"14.00\" text-anchor=\"middle\" x=\"432\" y=\"-319.8\">samples = 64</text>\n",
       "<text fill=\"#000000\" font-family=\"Helvetica,sans-Serif\" font-size=\"14.00\" text-anchor=\"middle\" x=\"432\" y=\"-304.8\">value = 0.044</text>\n",
       "</g>\n",
       "<!-- 11&#45;&gt;12 -->\n",
       "<g class=\"edge\" id=\"edge12\">\n",
       "<title>11-&gt;12</title>\n",
       "<path d=\"M497.9111,-400.9465C489.366,-391.8782 480.0387,-381.9799 471.1609,-372.5585\" fill=\"none\" stroke=\"#000000\"/>\n",
       "<polygon fill=\"#000000\" points=\"473.5663,-370.0076 464.161,-365.13 468.4717,-374.8082 473.5663,-370.0076\" stroke=\"#000000\"/>\n",
       "</g>\n",
       "<!-- 21 -->\n",
       "<g class=\"node\" id=\"node22\">\n",
       "<title>21</title>\n",
       "<path d=\"M558,-365C558,-365 502,-365 502,-365 496,-365 490,-359 490,-353 490,-353 490,-309 490,-309 490,-303 496,-297 502,-297 502,-297 558,-297 558,-297 564,-297 570,-303 570,-309 570,-309 570,-353 570,-353 570,-359 564,-365 558,-365\" fill=\"#e58139\" fill-opacity=\"0.207843\" stroke=\"#000000\"/>\n",
       "<text fill=\"#000000\" font-family=\"Helvetica,sans-Serif\" font-size=\"14.00\" text-anchor=\"middle\" x=\"530\" y=\"-349.8\">x1 &lt;= 0.707</text>\n",
       "<text fill=\"#000000\" font-family=\"Helvetica,sans-Serif\" font-size=\"14.00\" text-anchor=\"middle\" x=\"530\" y=\"-334.8\">mse = 0.005</text>\n",
       "<text fill=\"#000000\" font-family=\"Helvetica,sans-Serif\" font-size=\"14.00\" text-anchor=\"middle\" x=\"530\" y=\"-319.8\">samples = 27</text>\n",
       "<text fill=\"#000000\" font-family=\"Helvetica,sans-Serif\" font-size=\"14.00\" text-anchor=\"middle\" x=\"530\" y=\"-304.8\">value = 0.181</text>\n",
       "</g>\n",
       "<!-- 11&#45;&gt;21 -->\n",
       "<g class=\"edge\" id=\"edge21\">\n",
       "<title>11-&gt;21</title>\n",
       "<path d=\"M530,-400.9465C530,-392.776 530,-383.9318 530,-375.3697\" fill=\"none\" stroke=\"#000000\"/>\n",
       "<polygon fill=\"#000000\" points=\"533.5001,-375.13 530,-365.13 526.5001,-375.13 533.5001,-375.13\" stroke=\"#000000\"/>\n",
       "</g>\n",
       "<!-- 13 -->\n",
       "<g class=\"node\" id=\"node14\">\n",
       "<title>13</title>\n",
       "<path d=\"M360,-261C360,-261 304,-261 304,-261 298,-261 292,-255 292,-249 292,-249 292,-205 292,-205 292,-199 298,-193 304,-193 304,-193 360,-193 360,-193 366,-193 372,-199 372,-205 372,-205 372,-249 372,-249 372,-255 366,-261 360,-261\" fill=\"#e58139\" fill-opacity=\"0.113725\" stroke=\"#000000\"/>\n",
       "<text fill=\"#000000\" font-family=\"Helvetica,sans-Serif\" font-size=\"14.00\" text-anchor=\"middle\" x=\"332\" y=\"-245.8\">x1 &lt;= 0.319</text>\n",
       "<text fill=\"#000000\" font-family=\"Helvetica,sans-Serif\" font-size=\"14.00\" text-anchor=\"middle\" x=\"332\" y=\"-230.8\">mse = 0.011</text>\n",
       "<text fill=\"#000000\" font-family=\"Helvetica,sans-Serif\" font-size=\"14.00\" text-anchor=\"middle\" x=\"332\" y=\"-215.8\">samples = 29</text>\n",
       "<text fill=\"#000000\" font-family=\"Helvetica,sans-Serif\" font-size=\"14.00\" text-anchor=\"middle\" x=\"332\" y=\"-200.8\">value = 0.088</text>\n",
       "</g>\n",
       "<!-- 12&#45;&gt;13 -->\n",
       "<g class=\"edge\" id=\"edge13\">\n",
       "<title>12-&gt;13</title>\n",
       "<path d=\"M399.2563,-296.9465C390.5367,-287.8782 381.0191,-277.9799 371.9601,-268.5585\" fill=\"none\" stroke=\"#000000\"/>\n",
       "<polygon fill=\"#000000\" points=\"374.2713,-265.9125 364.8173,-261.13 369.2255,-270.7642 374.2713,-265.9125\" stroke=\"#000000\"/>\n",
       "</g>\n",
       "<!-- 16 -->\n",
       "<g class=\"node\" id=\"node17\">\n",
       "<title>16</title>\n",
       "<path d=\"M460,-261C460,-261 404,-261 404,-261 398,-261 392,-255 392,-249 392,-249 392,-205 392,-205 392,-199 398,-193 404,-193 404,-193 460,-193 460,-193 466,-193 472,-199 472,-205 472,-205 472,-249 472,-249 472,-255 466,-261 460,-261\" fill=\"#e58139\" fill-opacity=\"0.027451\" stroke=\"#000000\"/>\n",
       "<text fill=\"#000000\" font-family=\"Helvetica,sans-Serif\" font-size=\"14.00\" text-anchor=\"middle\" x=\"432\" y=\"-245.8\">x1 &lt;= 0.558</text>\n",
       "<text fill=\"#000000\" font-family=\"Helvetica,sans-Serif\" font-size=\"14.00\" text-anchor=\"middle\" x=\"432\" y=\"-230.8\">mse = 0.008</text>\n",
       "<text fill=\"#000000\" font-family=\"Helvetica,sans-Serif\" font-size=\"14.00\" text-anchor=\"middle\" x=\"432\" y=\"-215.8\">samples = 35</text>\n",
       "<text fill=\"#000000\" font-family=\"Helvetica,sans-Serif\" font-size=\"14.00\" text-anchor=\"middle\" x=\"432\" y=\"-200.8\">value = 0.007</text>\n",
       "</g>\n",
       "<!-- 12&#45;&gt;16 -->\n",
       "<g class=\"edge\" id=\"edge16\">\n",
       "<title>12-&gt;16</title>\n",
       "<path d=\"M432,-296.9465C432,-288.776 432,-279.9318 432,-271.3697\" fill=\"none\" stroke=\"#000000\"/>\n",
       "<polygon fill=\"#000000\" points=\"435.5001,-271.13 432,-261.13 428.5001,-271.13 435.5001,-271.13\" stroke=\"#000000\"/>\n",
       "</g>\n",
       "<!-- 14 -->\n",
       "<g class=\"node\" id=\"node15\">\n",
       "<title>14</title>\n",
       "<path d=\"M262,-149.5C262,-149.5 206,-149.5 206,-149.5 200,-149.5 194,-143.5 194,-137.5 194,-137.5 194,-108.5 194,-108.5 194,-102.5 200,-96.5 206,-96.5 206,-96.5 262,-96.5 262,-96.5 268,-96.5 274,-102.5 274,-108.5 274,-108.5 274,-137.5 274,-137.5 274,-143.5 268,-149.5 262,-149.5\" fill=\"#e58139\" fill-opacity=\"0.078431\" stroke=\"#000000\"/>\n",
       "<text fill=\"#000000\" font-family=\"Helvetica,sans-Serif\" font-size=\"14.00\" text-anchor=\"middle\" x=\"234\" y=\"-134.3\">mse = 0.01</text>\n",
       "<text fill=\"#000000\" font-family=\"Helvetica,sans-Serif\" font-size=\"14.00\" text-anchor=\"middle\" x=\"234\" y=\"-119.3\">samples = 10</text>\n",
       "<text fill=\"#000000\" font-family=\"Helvetica,sans-Serif\" font-size=\"14.00\" text-anchor=\"middle\" x=\"234\" y=\"-104.3\">value = 0.054</text>\n",
       "</g>\n",
       "<!-- 13&#45;&gt;14 -->\n",
       "<g class=\"edge\" id=\"edge14\">\n",
       "<title>13-&gt;14</title>\n",
       "<path d=\"M299.9111,-192.9465C289.0127,-181.3809 276.8422,-168.4652 265.9543,-156.9107\" fill=\"none\" stroke=\"#000000\"/>\n",
       "<polygon fill=\"#000000\" points=\"268.4162,-154.4198 259.0109,-149.5422 263.3217,-159.2204 268.4162,-154.4198\" stroke=\"#000000\"/>\n",
       "</g>\n",
       "<!-- 15 -->\n",
       "<g class=\"node\" id=\"node16\">\n",
       "<title>15</title>\n",
       "<path d=\"M360,-149.5C360,-149.5 304,-149.5 304,-149.5 298,-149.5 292,-143.5 292,-137.5 292,-137.5 292,-108.5 292,-108.5 292,-102.5 298,-96.5 304,-96.5 304,-96.5 360,-96.5 360,-96.5 366,-96.5 372,-102.5 372,-108.5 372,-108.5 372,-137.5 372,-137.5 372,-143.5 366,-149.5 360,-149.5\" fill=\"#e58139\" fill-opacity=\"0.129412\" stroke=\"#000000\"/>\n",
       "<text fill=\"#000000\" font-family=\"Helvetica,sans-Serif\" font-size=\"14.00\" text-anchor=\"middle\" x=\"332\" y=\"-134.3\">mse = 0.011</text>\n",
       "<text fill=\"#000000\" font-family=\"Helvetica,sans-Serif\" font-size=\"14.00\" text-anchor=\"middle\" x=\"332\" y=\"-119.3\">samples = 19</text>\n",
       "<text fill=\"#000000\" font-family=\"Helvetica,sans-Serif\" font-size=\"14.00\" text-anchor=\"middle\" x=\"332\" y=\"-104.3\">value = 0.106</text>\n",
       "</g>\n",
       "<!-- 13&#45;&gt;15 -->\n",
       "<g class=\"edge\" id=\"edge15\">\n",
       "<title>13-&gt;15</title>\n",
       "<path d=\"M332,-192.9465C332,-182.2621 332,-170.4254 332,-159.5742\" fill=\"none\" stroke=\"#000000\"/>\n",
       "<polygon fill=\"#000000\" points=\"335.5001,-159.5421 332,-149.5422 328.5001,-159.5422 335.5001,-159.5421\" stroke=\"#000000\"/>\n",
       "</g>\n",
       "<!-- 17 -->\n",
       "<g class=\"node\" id=\"node18\">\n",
       "<title>17</title>\n",
       "<path d=\"M461.5,-157C461.5,-157 402.5,-157 402.5,-157 396.5,-157 390.5,-151 390.5,-145 390.5,-145 390.5,-101 390.5,-101 390.5,-95 396.5,-89 402.5,-89 402.5,-89 461.5,-89 461.5,-89 467.5,-89 473.5,-95 473.5,-101 473.5,-101 473.5,-145 473.5,-145 473.5,-151 467.5,-157 461.5,-157\" fill=\"#e58139\" fill-opacity=\"0.019608\" stroke=\"#000000\"/>\n",
       "<text fill=\"#000000\" font-family=\"Helvetica,sans-Serif\" font-size=\"14.00\" text-anchor=\"middle\" x=\"432\" y=\"-141.8\">x1 &lt;= 0.517</text>\n",
       "<text fill=\"#000000\" font-family=\"Helvetica,sans-Serif\" font-size=\"14.00\" text-anchor=\"middle\" x=\"432\" y=\"-126.8\">mse = 0.009</text>\n",
       "<text fill=\"#000000\" font-family=\"Helvetica,sans-Serif\" font-size=\"14.00\" text-anchor=\"middle\" x=\"432\" y=\"-111.8\">samples = 25</text>\n",
       "<text fill=\"#000000\" font-family=\"Helvetica,sans-Serif\" font-size=\"14.00\" text-anchor=\"middle\" x=\"432\" y=\"-96.8\">value = -0.001</text>\n",
       "</g>\n",
       "<!-- 16&#45;&gt;17 -->\n",
       "<g class=\"edge\" id=\"edge17\">\n",
       "<title>16-&gt;17</title>\n",
       "<path d=\"M432,-192.9465C432,-184.776 432,-175.9318 432,-167.3697\" fill=\"none\" stroke=\"#000000\"/>\n",
       "<polygon fill=\"#000000\" points=\"435.5001,-167.13 432,-157.13 428.5001,-167.13 435.5001,-167.13\" stroke=\"#000000\"/>\n",
       "</g>\n",
       "<!-- 20 -->\n",
       "<g class=\"node\" id=\"node21\">\n",
       "<title>20</title>\n",
       "<path d=\"M560,-149.5C560,-149.5 504,-149.5 504,-149.5 498,-149.5 492,-143.5 492,-137.5 492,-137.5 492,-108.5 492,-108.5 492,-102.5 498,-96.5 504,-96.5 504,-96.5 560,-96.5 560,-96.5 566,-96.5 572,-102.5 572,-108.5 572,-108.5 572,-137.5 572,-137.5 572,-143.5 566,-149.5 560,-149.5\" fill=\"#e58139\" fill-opacity=\"0.050980\" stroke=\"#000000\"/>\n",
       "<text fill=\"#000000\" font-family=\"Helvetica,sans-Serif\" font-size=\"14.00\" text-anchor=\"middle\" x=\"532\" y=\"-134.3\">mse = 0.005</text>\n",
       "<text fill=\"#000000\" font-family=\"Helvetica,sans-Serif\" font-size=\"14.00\" text-anchor=\"middle\" x=\"532\" y=\"-119.3\">samples = 10</text>\n",
       "<text fill=\"#000000\" font-family=\"Helvetica,sans-Serif\" font-size=\"14.00\" text-anchor=\"middle\" x=\"532\" y=\"-104.3\">value = 0.028</text>\n",
       "</g>\n",
       "<!-- 16&#45;&gt;20 -->\n",
       "<g class=\"edge\" id=\"edge20\">\n",
       "<title>16-&gt;20</title>\n",
       "<path d=\"M464.7437,-192.9465C475.8646,-181.3809 488.2835,-168.4652 499.3936,-156.9107\" fill=\"none\" stroke=\"#000000\"/>\n",
       "<polygon fill=\"#000000\" points=\"502.0705,-159.1764 506.4787,-149.5422 497.0246,-154.3246 502.0705,-159.1764\" stroke=\"#000000\"/>\n",
       "</g>\n",
       "<!-- 18 -->\n",
       "<g class=\"node\" id=\"node19\">\n",
       "<title>18</title>\n",
       "<path d=\"M411,-53C411,-53 355,-53 355,-53 349,-53 343,-47 343,-41 343,-41 343,-12 343,-12 343,-6 349,0 355,0 355,0 411,0 411,0 417,0 423,-6 423,-12 423,-12 423,-41 423,-41 423,-47 417,-53 411,-53\" fill=\"#e58139\" fill-opacity=\"0.031373\" stroke=\"#000000\"/>\n",
       "<text fill=\"#000000\" font-family=\"Helvetica,sans-Serif\" font-size=\"14.00\" text-anchor=\"middle\" x=\"383\" y=\"-37.8\">mse = 0.009</text>\n",
       "<text fill=\"#000000\" font-family=\"Helvetica,sans-Serif\" font-size=\"14.00\" text-anchor=\"middle\" x=\"383\" y=\"-22.8\">samples = 15</text>\n",
       "<text fill=\"#000000\" font-family=\"Helvetica,sans-Serif\" font-size=\"14.00\" text-anchor=\"middle\" x=\"383\" y=\"-7.8\">value = 0.011</text>\n",
       "</g>\n",
       "<!-- 17&#45;&gt;18 -->\n",
       "<g class=\"edge\" id=\"edge18\">\n",
       "<title>17-&gt;18</title>\n",
       "<path d=\"M414.7244,-88.9777C410.3538,-80.3702 405.6462,-71.0992 401.23,-62.402\" fill=\"none\" stroke=\"#000000\"/>\n",
       "<polygon fill=\"#000000\" points=\"404.2304,-60.5802 396.5821,-53.2485 397.9889,-63.7495 404.2304,-60.5802\" stroke=\"#000000\"/>\n",
       "</g>\n",
       "<!-- 19 -->\n",
       "<g class=\"node\" id=\"node20\">\n",
       "<title>19</title>\n",
       "<path d=\"M508.5,-53C508.5,-53 453.5,-53 453.5,-53 447.5,-53 441.5,-47 441.5,-41 441.5,-41 441.5,-12 441.5,-12 441.5,-6 447.5,0 453.5,0 453.5,0 508.5,0 508.5,0 514.5,0 520.5,-6 520.5,-12 520.5,-12 520.5,-41 520.5,-41 520.5,-47 514.5,-53 508.5,-53\" fill=\"transparent\" stroke=\"#000000\"/>\n",
       "<text fill=\"#000000\" font-family=\"Helvetica,sans-Serif\" font-size=\"14.00\" text-anchor=\"middle\" x=\"481\" y=\"-37.8\">mse = 0.008</text>\n",
       "<text fill=\"#000000\" font-family=\"Helvetica,sans-Serif\" font-size=\"14.00\" text-anchor=\"middle\" x=\"481\" y=\"-22.8\">samples = 10</text>\n",
       "<text fill=\"#000000\" font-family=\"Helvetica,sans-Serif\" font-size=\"14.00\" text-anchor=\"middle\" x=\"481\" y=\"-7.8\">value = -0.02</text>\n",
       "</g>\n",
       "<!-- 17&#45;&gt;19 -->\n",
       "<g class=\"edge\" id=\"edge19\">\n",
       "<title>17-&gt;19</title>\n",
       "<path d=\"M449.2756,-88.9777C453.6462,-80.3702 458.3538,-71.0992 462.77,-62.402\" fill=\"none\" stroke=\"#000000\"/>\n",
       "<polygon fill=\"#000000\" points=\"466.0111,-63.7495 467.4179,-53.2485 459.7696,-60.5802 466.0111,-63.7495\" stroke=\"#000000\"/>\n",
       "</g>\n",
       "<!-- 22 -->\n",
       "<g class=\"node\" id=\"node23\">\n",
       "<title>22</title>\n",
       "<path d=\"M558,-253.5C558,-253.5 502,-253.5 502,-253.5 496,-253.5 490,-247.5 490,-241.5 490,-241.5 490,-212.5 490,-212.5 490,-206.5 496,-200.5 502,-200.5 502,-200.5 558,-200.5 558,-200.5 564,-200.5 570,-206.5 570,-212.5 570,-212.5 570,-241.5 570,-241.5 570,-247.5 564,-253.5 558,-253.5\" fill=\"#e58139\" fill-opacity=\"0.172549\" stroke=\"#000000\"/>\n",
       "<text fill=\"#000000\" font-family=\"Helvetica,sans-Serif\" font-size=\"14.00\" text-anchor=\"middle\" x=\"530\" y=\"-238.3\">mse = 0.003</text>\n",
       "<text fill=\"#000000\" font-family=\"Helvetica,sans-Serif\" font-size=\"14.00\" text-anchor=\"middle\" x=\"530\" y=\"-223.3\">samples = 15</text>\n",
       "<text fill=\"#000000\" font-family=\"Helvetica,sans-Serif\" font-size=\"14.00\" text-anchor=\"middle\" x=\"530\" y=\"-208.3\">value = 0.147</text>\n",
       "</g>\n",
       "<!-- 21&#45;&gt;22 -->\n",
       "<g class=\"edge\" id=\"edge22\">\n",
       "<title>21-&gt;22</title>\n",
       "<path d=\"M530,-296.9465C530,-286.2621 530,-274.4254 530,-263.5742\" fill=\"none\" stroke=\"#000000\"/>\n",
       "<polygon fill=\"#000000\" points=\"533.5001,-263.5421 530,-253.5422 526.5001,-263.5422 533.5001,-263.5421\" stroke=\"#000000\"/>\n",
       "</g>\n",
       "<!-- 23 -->\n",
       "<g class=\"node\" id=\"node24\">\n",
       "<title>23</title>\n",
       "<path d=\"M656,-253.5C656,-253.5 600,-253.5 600,-253.5 594,-253.5 588,-247.5 588,-241.5 588,-241.5 588,-212.5 588,-212.5 588,-206.5 594,-200.5 600,-200.5 600,-200.5 656,-200.5 656,-200.5 662,-200.5 668,-206.5 668,-212.5 668,-212.5 668,-241.5 668,-241.5 668,-247.5 662,-253.5 656,-253.5\" fill=\"#e58139\" fill-opacity=\"0.250980\" stroke=\"#000000\"/>\n",
       "<text fill=\"#000000\" font-family=\"Helvetica,sans-Serif\" font-size=\"14.00\" text-anchor=\"middle\" x=\"628\" y=\"-238.3\">mse = 0.005</text>\n",
       "<text fill=\"#000000\" font-family=\"Helvetica,sans-Serif\" font-size=\"14.00\" text-anchor=\"middle\" x=\"628\" y=\"-223.3\">samples = 12</text>\n",
       "<text fill=\"#000000\" font-family=\"Helvetica,sans-Serif\" font-size=\"14.00\" text-anchor=\"middle\" x=\"628\" y=\"-208.3\">value = 0.223</text>\n",
       "</g>\n",
       "<!-- 21&#45;&gt;23 -->\n",
       "<g class=\"edge\" id=\"edge23\">\n",
       "<title>21-&gt;23</title>\n",
       "<path d=\"M562.0889,-296.9465C572.9873,-285.3809 585.1578,-272.4652 596.0457,-260.9107\" fill=\"none\" stroke=\"#000000\"/>\n",
       "<polygon fill=\"#000000\" points=\"598.6783,-263.2204 602.9891,-253.5422 593.5838,-258.4198 598.6783,-263.2204\" stroke=\"#000000\"/>\n",
       "</g>\n",
       "<!-- 25 -->\n",
       "<g class=\"node\" id=\"node26\">\n",
       "<title>25</title>\n",
       "<path d=\"M656,-469C656,-469 600,-469 600,-469 594,-469 588,-463 588,-457 588,-457 588,-413 588,-413 588,-407 594,-401 600,-401 600,-401 656,-401 656,-401 662,-401 668,-407 668,-413 668,-413 668,-457 668,-457 668,-463 662,-469 656,-469\" fill=\"#e58139\" fill-opacity=\"0.525490\" stroke=\"#000000\"/>\n",
       "<text fill=\"#000000\" font-family=\"Helvetica,sans-Serif\" font-size=\"14.00\" text-anchor=\"middle\" x=\"628\" y=\"-453.8\">x1 &lt;= 0.862</text>\n",
       "<text fill=\"#000000\" font-family=\"Helvetica,sans-Serif\" font-size=\"14.00\" text-anchor=\"middle\" x=\"628\" y=\"-438.8\">mse = 0.012</text>\n",
       "<text fill=\"#000000\" font-family=\"Helvetica,sans-Serif\" font-size=\"14.00\" text-anchor=\"middle\" x=\"628\" y=\"-423.8\">samples = 28</text>\n",
       "<text fill=\"#000000\" font-family=\"Helvetica,sans-Serif\" font-size=\"14.00\" text-anchor=\"middle\" x=\"628\" y=\"-408.8\">value = 0.489</text>\n",
       "</g>\n",
       "<!-- 24&#45;&gt;25 -->\n",
       "<g class=\"edge\" id=\"edge25\">\n",
       "<title>24-&gt;25</title>\n",
       "<path d=\"M628,-504.9465C628,-496.776 628,-487.9318 628,-479.3697\" fill=\"none\" stroke=\"#000000\"/>\n",
       "<polygon fill=\"#000000\" points=\"631.5001,-479.13 628,-469.13 624.5001,-479.13 631.5001,-479.13\" stroke=\"#000000\"/>\n",
       "</g>\n",
       "<!-- 28 -->\n",
       "<g class=\"node\" id=\"node29\">\n",
       "<title>28</title>\n",
       "<path d=\"M754,-461.5C754,-461.5 698,-461.5 698,-461.5 692,-461.5 686,-455.5 686,-449.5 686,-449.5 686,-420.5 686,-420.5 686,-414.5 692,-408.5 698,-408.5 698,-408.5 754,-408.5 754,-408.5 760,-408.5 766,-414.5 766,-420.5 766,-420.5 766,-449.5 766,-449.5 766,-455.5 760,-461.5 754,-461.5\" fill=\"#e58139\" fill-opacity=\"0.858824\" stroke=\"#000000\"/>\n",
       "<text fill=\"#000000\" font-family=\"Helvetica,sans-Serif\" font-size=\"14.00\" text-anchor=\"middle\" x=\"726\" y=\"-446.3\">mse = 0.01</text>\n",
       "<text fill=\"#000000\" font-family=\"Helvetica,sans-Serif\" font-size=\"14.00\" text-anchor=\"middle\" x=\"726\" y=\"-431.3\">samples = 18</text>\n",
       "<text fill=\"#000000\" font-family=\"Helvetica,sans-Serif\" font-size=\"14.00\" text-anchor=\"middle\" x=\"726\" y=\"-416.3\">value = 0.811</text>\n",
       "</g>\n",
       "<!-- 24&#45;&gt;28 -->\n",
       "<g class=\"edge\" id=\"edge28\">\n",
       "<title>24-&gt;28</title>\n",
       "<path d=\"M660.0889,-504.9465C670.9873,-493.3809 683.1578,-480.4652 694.0457,-468.9107\" fill=\"none\" stroke=\"#000000\"/>\n",
       "<polygon fill=\"#000000\" points=\"696.6783,-471.2204 700.9891,-461.5422 691.5838,-466.4198 696.6783,-471.2204\" stroke=\"#000000\"/>\n",
       "</g>\n",
       "<!-- 26 -->\n",
       "<g class=\"node\" id=\"node27\">\n",
       "<title>26</title>\n",
       "<path d=\"M655.5,-357.5C655.5,-357.5 600.5,-357.5 600.5,-357.5 594.5,-357.5 588.5,-351.5 588.5,-345.5 588.5,-345.5 588.5,-316.5 588.5,-316.5 588.5,-310.5 594.5,-304.5 600.5,-304.5 600.5,-304.5 655.5,-304.5 655.5,-304.5 661.5,-304.5 667.5,-310.5 667.5,-316.5 667.5,-316.5 667.5,-345.5 667.5,-345.5 667.5,-351.5 661.5,-357.5 655.5,-357.5\" fill=\"#e58139\" fill-opacity=\"0.454902\" stroke=\"#000000\"/>\n",
       "<text fill=\"#000000\" font-family=\"Helvetica,sans-Serif\" font-size=\"14.00\" text-anchor=\"middle\" x=\"628\" y=\"-342.3\">mse = 0.005</text>\n",
       "<text fill=\"#000000\" font-family=\"Helvetica,sans-Serif\" font-size=\"14.00\" text-anchor=\"middle\" x=\"628\" y=\"-327.3\">samples = 16</text>\n",
       "<text fill=\"#000000\" font-family=\"Helvetica,sans-Serif\" font-size=\"14.00\" text-anchor=\"middle\" x=\"628\" y=\"-312.3\">value = 0.42</text>\n",
       "</g>\n",
       "<!-- 25&#45;&gt;26 -->\n",
       "<g class=\"edge\" id=\"edge26\">\n",
       "<title>25-&gt;26</title>\n",
       "<path d=\"M628,-400.9465C628,-390.2621 628,-378.4254 628,-367.5742\" fill=\"none\" stroke=\"#000000\"/>\n",
       "<polygon fill=\"#000000\" points=\"631.5001,-367.5421 628,-357.5422 624.5001,-367.5422 631.5001,-367.5421\" stroke=\"#000000\"/>\n",
       "</g>\n",
       "<!-- 27 -->\n",
       "<g class=\"node\" id=\"node28\">\n",
       "<title>27</title>\n",
       "<path d=\"M754,-357.5C754,-357.5 698,-357.5 698,-357.5 692,-357.5 686,-351.5 686,-345.5 686,-345.5 686,-316.5 686,-316.5 686,-310.5 692,-304.5 698,-304.5 698,-304.5 754,-304.5 754,-304.5 760,-304.5 766,-310.5 766,-316.5 766,-316.5 766,-345.5 766,-345.5 766,-351.5 760,-357.5 754,-357.5\" fill=\"#e58139\" fill-opacity=\"0.619608\" stroke=\"#000000\"/>\n",
       "<text fill=\"#000000\" font-family=\"Helvetica,sans-Serif\" font-size=\"14.00\" text-anchor=\"middle\" x=\"726\" y=\"-342.3\">mse = 0.006</text>\n",
       "<text fill=\"#000000\" font-family=\"Helvetica,sans-Serif\" font-size=\"14.00\" text-anchor=\"middle\" x=\"726\" y=\"-327.3\">samples = 12</text>\n",
       "<text fill=\"#000000\" font-family=\"Helvetica,sans-Serif\" font-size=\"14.00\" text-anchor=\"middle\" x=\"726\" y=\"-312.3\">value = 0.579</text>\n",
       "</g>\n",
       "<!-- 25&#45;&gt;27 -->\n",
       "<g class=\"edge\" id=\"edge27\">\n",
       "<title>25-&gt;27</title>\n",
       "<path d=\"M660.0889,-400.9465C670.9873,-389.3809 683.1578,-376.4652 694.0457,-364.9107\" fill=\"none\" stroke=\"#000000\"/>\n",
       "<polygon fill=\"#000000\" points=\"696.6783,-367.2204 700.9891,-357.5422 691.5838,-362.4198 696.6783,-367.2204\" stroke=\"#000000\"/>\n",
       "</g>\n",
       "</g>\n",
       "</svg>"
      ],
      "text/plain": [
       "<IPython.core.display.SVG object>"
      ]
     },
     "execution_count": 112,
     "metadata": {},
     "output_type": "execute_result"
    }
   ],
   "source": [
    "graph2 = Source(export_graphviz(\n",
    "        tree_reg2,\n",
    "        out_file=None,\n",
    "        feature_names=['x1'],\n",
    "        rounded=True,\n",
    "        filled=True))\n",
    "\n",
    "SVG(graph2.pipe(format='svg'))"
   ]
  },
  {
   "cell_type": "code",
   "execution_count": 114,
   "metadata": {},
   "outputs": [
    {
     "data": {
      "text/plain": [
       "Text(0.5,1,'min_samples_leaf=10')"
      ]
     },
     "execution_count": 114,
     "metadata": {},
     "output_type": "execute_result"
    },
    {
     "data": {
      "image/png": "[encoded data removed]",
      "text/plain": [
       "<matplotlib.figure.Figure at 0x1a2145c6d8>"
      ]
     },
     "metadata": {
      "needs_background": "light"
     },
     "output_type": "display_data"
    }
   ],
   "source": [
    "x1 = np.linspace(0, 1, 500).reshape(-1, 1)\n",
    "y_pred1 = tree_reg1.predict(x1)\n",
    "y_pred2 = tree_reg2.predict(x1)\n",
    "\n",
    "plt.figure(figsize=(11, 4))\n",
    "\n",
    "plt.subplot(121)\n",
    "plt.plot(X, y, \"b.\")\n",
    "plt.plot(x1, y_pred1, \"r.-\", linewidth=2, label=r\"$\\hat{y}$\")\n",
    "plt.axis([0, 1, -0.2, 1.1])\n",
    "plt.xlabel(\"$x_1$\", fontsize=18)\n",
    "plt.ylabel(\"$y$\", fontsize=18, rotation=0)\n",
    "plt.legend(loc=\"upper center\", fontsize=18)\n",
    "plt.title(\"No restrictions\", fontsize=14)\n",
    "\n",
    "plt.subplot(122)\n",
    "plt.plot(X, y, \"b.\")\n",
    "plt.plot(x1, y_pred2, \"r.-\", linewidth=2, label=r\"$\\hat{y}$\")\n",
    "plt.axis([0, 1, -0.2, 1.1])\n",
    "plt.xlabel(\"$x_1$\", fontsize=18)\n",
    "plt.title(\"min_samples_leaf={}\".format(tree_reg2.min_samples_leaf), fontsize=14)"
   ]
  },
  {
   "cell_type": "markdown",
   "metadata": {
    "collapsed": true
   },
   "source": [
    "## Tree model 학습 및 튜닝"
   ]
  },
  {
   "cell_type": "markdown",
   "metadata": {},
   "source": [
    "Moons dataset을 이용하여 학습을 한다. `make_moons(n_samples=10000, noise=0.4)`."
   ]
  },
  {
   "cell_type": "code",
   "execution_count": 120,
   "metadata": {},
   "outputs": [],
   "source": [
    "from sklearn.datasets import make_moons\n",
    "\n",
    "X, y = make_moons(n_samples=10000, noise=0.4, random_state=42)"
   ]
  },
  {
   "cell_type": "markdown",
   "metadata": {},
   "source": [
    "훈련 세트와 테스트 세트로 나눈다."
   ]
  },
  {
   "cell_type": "code",
   "execution_count": 121,
   "metadata": {},
   "outputs": [],
   "source": [
    "from sklearn.model_selection import train_test_split\n",
    "\n",
    "X_train, X_test, y_train, y_test = train_test_split(X, y, test_size=0.2, random_state=42)"
   ]
  },
  {
   "cell_type": "markdown",
   "metadata": {},
   "source": [
    "Cross-validation을 사용하여 Grid search를 수행하라(with the `GridSearchCV` class). \n",
    "\n",
    "`DecisionTreeClassifier` 의 하이퍼파라미터를 찾는 것을 도와준다."
   ]
  },
  {
   "cell_type": "code",
   "execution_count": 122,
   "metadata": {},
   "outputs": [
    {
     "name": "stdout",
     "output_type": "stream",
     "text": [
      "Fitting 3 folds for each of 294 candidates, totalling 882 fits\n"
     ]
    },
    {
     "name": "stderr",
     "output_type": "stream",
     "text": [
      "[Parallel(n_jobs=-1)]: Done 882 out of 882 | elapsed:    3.6s finished\n"
     ]
    },
    {
     "data": {
      "text/plain": [
       "GridSearchCV(cv=3, error_score='raise',\n",
       "       estimator=DecisionTreeClassifier(class_weight=None, criterion='gini', max_depth=None,\n",
       "            max_features=None, max_leaf_nodes=None,\n",
       "            min_impurity_decrease=0.0, min_impurity_split=None,\n",
       "            min_samples_leaf=1, min_samples_split=2,\n",
       "            min_weight_fraction_leaf=0.0, presort=False, random_state=42,\n",
       "            splitter='best'),\n",
       "       fit_params=None, iid=True, n_jobs=-1,\n",
       "       param_grid={'max_leaf_nodes': [2, 3, 4, 5, 6, 7, 8, 9, 10, 11, 12, 13, 14, 15, 16, 17, 18, 19, 20, 21, 22, 23, 24, 25, 26, 27, 28, 29, 30, 31, 32, 33, 34, 35, 36, 37, 38, 39, 40, 41, 42, 43, 44, 45, 46, 47, 48, 49, 50, 51, 52, 53, 54, 55, 56, 57, 58, 59, 60, 61, 62, 63, 64, 65, 66, 67, 68, 69, 70, 71, 72, 73, 74, 75, 76, 77, 78, 79, 80, 81, 82, 83, 84, 85, 86, 87, 88, 89, 90, 91, 92, 93, 94, 95, 96, 97, 98, 99], 'min_samples_split': [2, 3, 4]},\n",
       "       pre_dispatch='2*n_jobs', refit=True, return_train_score='warn',\n",
       "       scoring=None, verbose=1)"
      ]
     },
     "execution_count": 122,
     "metadata": {},
     "output_type": "execute_result"
    }
   ],
   "source": [
    "from sklearn.model_selection import GridSearchCV\n",
    "\n",
    "params = {'max_leaf_nodes': list(range(2, 100)), 'min_samples_split': [2, 3, 4]}\n",
    "grid_search_cv = GridSearchCV(DecisionTreeClassifier(random_state=42), params, n_jobs=-1, verbose=1, cv=3)\n",
    "\n",
    "grid_search_cv.fit(X_train, y_train)"
   ]
  },
  {
   "cell_type": "code",
   "execution_count": 123,
   "metadata": {},
   "outputs": [
    {
     "data": {
      "text/plain": [
       "DecisionTreeClassifier(class_weight=None, criterion='gini', max_depth=None,\n",
       "            max_features=None, max_leaf_nodes=17,\n",
       "            min_impurity_decrease=0.0, min_impurity_split=None,\n",
       "            min_samples_leaf=1, min_samples_split=2,\n",
       "            min_weight_fraction_leaf=0.0, presort=False, random_state=42,\n",
       "            splitter='best')"
      ]
     },
     "execution_count": 123,
     "metadata": {},
     "output_type": "execute_result"
    }
   ],
   "source": [
    "grid_search_cv.best_estimator_"
   ]
  },
  {
   "cell_type": "markdown",
   "metadata": {},
   "source": [
    "Grid search를 통해 얻은 최적의 estimator의 성능을 측정한다. 이것은 아래의 코드를 이용하여 수행할 수 있다."
   ]
  },
  {
   "cell_type": "markdown",
   "metadata": {},
   "source": [
    "> Grid search를 그대로 이용"
   ]
  },
  {
   "cell_type": "code",
   "execution_count": 124,
   "metadata": {},
   "outputs": [
    {
     "data": {
      "text/plain": [
       "0.8695"
      ]
     },
     "execution_count": 124,
     "metadata": {},
     "output_type": "execute_result"
    }
   ],
   "source": [
    "from sklearn.metrics import accuracy_score\n",
    "\n",
    "y_pred = grid_search_cv.predict(X_test)\n",
    "accuracy_score(y_test, y_pred)"
   ]
  },
  {
   "cell_type": "markdown",
   "metadata": {},
   "source": [
    "> Grid search에서 얻은 최적 estimator를 리턴받고, 그것을 이용"
   ]
  },
  {
   "cell_type": "code",
   "execution_count": 127,
   "metadata": {},
   "outputs": [
    {
     "data": {
      "text/plain": [
       "0.8695"
      ]
     },
     "execution_count": 127,
     "metadata": {},
     "output_type": "execute_result"
    }
   ],
   "source": [
    "y_pred = grid_search_cv.best_estimator_.predict(X_test)\n",
    "accuracy_score(y_test, y_pred)"
   ]
  },
  {
   "cell_type": "code",
   "execution_count": null,
   "metadata": {},
   "outputs": [],
   "source": []
  }
 ],
 "metadata": {
  "kernelspec": {
   "display_name": "Python 3",
   "language": "python",
   "name": "python3"
  },
  "language_info": {
   "codemirror_mode": {
    "name": "ipython",
    "version": 3
   },
   "file_extension": ".py",
   "mimetype": "text/x-python",
   "name": "python",
   "nbconvert_exporter": "python",
   "pygments_lexer": "ipython3",
   "version": "3.6.7"
  },
  "nav_menu": {
   "height": "309px",
   "width": "468px"
  },
  "toc": {
   "navigate_menu": true,
   "number_sections": true,
   "sideBar": true,
   "threshold": 6,
   "toc_cell": false,
   "toc_section_display": "block",
   "toc_window_display": false
  }
 },
 "nbformat": 4,
 "nbformat_minor": 1
}
