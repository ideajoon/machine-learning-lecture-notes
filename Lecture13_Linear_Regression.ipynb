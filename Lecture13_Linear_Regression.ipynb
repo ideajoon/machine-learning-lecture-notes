{
 "cells": [
  {
   "cell_type": "code",
   "execution_count": 1,
   "metadata": {},
   "outputs": [],
   "source": [
    "import warnings\n",
    "warnings.filterwarnings('ignore')"
   ]
  },
  {
   "cell_type": "markdown",
   "metadata": {},
   "source": [
    "통계 모델링과 머신 러닝 모델링은 방식은 서로 다르지만 해결하려는 과제는 같다. \n",
    "\n",
    "# 선형회귀모형\n",
    " - 통계 모델링\n",
    "  - 선형회귀 모델은 초평면과 관측값 사이의 오차를 최소화하는 방법으로, 정규 방정식을 이용하여 최적 hyperplane을 fitting한다. \n",
    "  - 통계 모델은 신뢰성 검증을 위해 다중공선성(multi-collinearity) 검사를 해야 한다.\n",
    "  - 훈련 집합에 관해 이중 검증, 즉 <U>모델의 정확도 테스트</U>와 <U>개별 매개변수의 유의성 테스트</U>를 모두 수행한다. \n",
    "  - 선형 회귀나 로지스틱 회귀는 모델 자체의 형태상 낮은 분산을 가지므로 처음 보는(unseen) 데이터에 관해 성능 차이가 크게 달라질 확률은 아주 낮다.\n",
    " - 머신 러닝 모델링\n",
    "  - 같은 문제를 최적화 문제로 변환한다. 즉, 잔차의 제곱합을 목적함수(모수의 함수 형태)로 모델링을 한 후 모수에 관한 최적화를 통하여 잔차를 최소화 한다. \n",
    "  - 다중공선선 문제를 보상하기 위해 모수에 대한 값을 스스로 조정한다. 특히 Bagging, Random forest, Boosting과 같은 트리 기반의 ensemble 모델은 다중공선성 문제가 존재하지도 않는다.\n",
    "  - 모델이 고도의 유연성을 가지므로 아주 심한 변화가 가능하며, 개별 변수 단위의 통계 진단은 머신 러닝에서 수행할 수 없다.\n",
    "  - Overfitting을 피하기 위한 안정성이 보장돼야 구현 단계에서도 처음 보는 데이터에 관해 올바르게 작동하리라는 것을 보장 할 수 있다. Overfitting을 피하기 위해 모델을 정규화(generalization) 한다. \n",
    "  - 데이터를 훈련/검증/테스트 세트로 나눈 후, 훈련 데이터를 이용하여 모델을 개발하고, hyperparameter는 검증 데이터를 사용해 튜닝한다. 이것은 통계 모델에서의 이중 검증과 같은 효과를 내며 개별 변수 단위의 진단을 수행하지 않고도 모델의 안정성을 보장할 수 있게 해준다."
   ]
  },
  {
   "cell_type": "markdown",
   "metadata": {},
   "source": [
    "# Error와 Residual\n",
    "\n",
    "- 오차(error)\n",
    " - 모집단에서의 실제값과 모집단에서의 회귀선을 비교했을 때 나타나는 차이. 즉 모집단에서 생기는 것이다.\n",
    " - 모집단의 회귀선 : $y_i=\\beta_0 + \\beta_1 x_i$\n",
    "\n",
    "\n",
    "- 잔차(residual)\n",
    " - 표본에서 나온 관측값과 표본에서 나온 회귀선을 비교했을 때 나타나는 차이. 즉 표본에서 생기는 것이다.\n",
    " - 회귀모형에서 오차항은 측정할 수 없으므로 **잔차를 오차항의 관찰값으로 해석하여 오차항에 대한 가정들의 성립 여부를 조사한다.**\n",
    " - 표본에서의 회귀선 : $\\hat{y}_i=\\hat{\\beta}_0 + \\hat{\\beta}_1 x_i$\n",
    " - 잔차 : <font color=red>$e_i=y_i-\\hat{y}_i$</font>\n",
    "\n",
    "\n",
    "\n",
    "모집단의 회귀식은 우리가 궁극적으로 알고자 하는 실제의 식인 것이다. 모든 data들을 하나의 회귀식으로 100% 설명할 수 없다. 그래서 생각해 낸 것이 바로 오차(error) 라고 하는 것으로, 이 값은 모집단 회귀식의 값과 실제값과의 차이를 말한다. 이에 비해서 잔차(residual)라고 하는 것은 표본의 회귀식에서 나온 값이다. 표본에서도 마찬가지로 회귀식을 구할 수 있다. 그러나, 그 회귀식은 모집단의 실제 회귀식과는 차이가 있을 수 있다. 이 때에 모집단의 회귀식과 마찬가지로 표본의 회귀식에서도 잔차라는 것을 생각할 수 있으며, 같은 아이디어에 의해 구해지게 된다. \n",
    "그러나, 오차는 모수의 개념이므로 표본에서는 오차라는 용어대신 통계량의 개념을 갖는 잔차(residual)라는 용어로 대신 부르게 된다. 결국, 오차와 잔차는 같은 개념이지만 모집단의 값인가, 표본의 값인가에 따라 서로 달리 부르게 되는 것이다."
   ]
  },
  {
   "cell_type": "markdown",
   "metadata": {},
   "source": [
    "# 선형 회귀의 가정\n",
    " - 종속 변수는 독립 변수의 선형 조합이어야 한다.\n",
    "  - $y=\\beta_0 + \\beta_1 \\times x_1 + \\beta_2 \\times x_2^2$에서 $x^2$은 이차항이지만, 변수간의 선형 조합이라는 가정을 충족시킨다.\n",
    " - Error terms(오차항)에 autocorrelation(자기상관관계)가 없어야 한다.\n",
    "  - **자기상관관계** : 선형회귀분석에서 종속변수가 시간 또는 위치에 영향을 받는 시계열데이터인 경우 이웃하는 관찰값들 사이에 상관관계가 있을 수 있다. 이러한 상관을 자기상관(autocorrelation)이라고 하며, 자기상관은 한 시점의 오차항과 과거시점들의 오차항들과의 상관이다. 따라서 이러한 데이터 set에서는 오차항들이 서로 독립적이라는 조건을 검토해보아야 한다.\n",
    "  - 오차항의 상관관계는 모델의 정확성을 훼손시킨다.\n",
    "  - 진단 방법 : 더빈 왓슨 검정(Durbin-Watson test)을 사용한다. 더빈 왓슨의 $d$ 검정은 '잔차에는 선형 자기 상관관계가 없다'라는 귀무가설을 검정한다. $d$는 0과 4중 어느 값을 갖는데, $d$가 2에 가까우면 자기 상관관계가 없다는 것을 의미하고, $0<d<2$일 경우 양의 자기 상관관계, $2<d<4$인 경우 음의 자기상관관계를 나타낸다.\n",
    " - <font color=red>오차는 평균이 0이면서 정규분포를 따라야 한다.</font>\n",
    "  - 모델이 편향되지 않을 수 있게 계산을 하려면 오차항의 평균이 0이어야 한다. 오차의 분포를 Q-Q그림을 이용하여 살펴볼 수 있다. 오차 항이 정규분포를 따르지 않으면 오차 항에 대한 신뢰 구간이 너무 넓어지거나 좁아지므로 최소 자승법에 의한 최소화 계수 계산이 어려워진다. \n",
    "  - 진단 방법 : Q-Q 도표와 Kolmogorov-Smirnov(콜모고로프-스미노프) 검정을 사용한다.\n",
    " - Multi-collinearity(다중공선성)은 존재하지 않거나 거의 없어야 한다.\n",
    "  - **다중공선성** 은 독립 변수끼리 서로 상관관계를 가지는 것을 의미한다. 다중공선성은 계수나 계산값을 부풀리므로 모델의 신뢰도를 떨어뜨린다. 또 결과값에 어느 변수가 얼마나 기여했는지 판단하기 힘들다. 전체 독립 변수에 관한 개별 독립 변수의 $R^2$를 계산하는 방식으로 각 독립 변수의 **Variance Inflation Factor(VIF)** 를 계산하고 가장 높은 VIF 값을 가진 변수를 하나씩 제거해 나가야 한다. $$VIF=\\frac{1}{1-R^2}$$\n",
    "  - 진단 방법 : VIF를 직접 계산한다. $VIF \\leq 4$이면 다중공선성이 없다는 것을 의미하는데, 은행의 경우 $VIF \\leq 2$를 사용하기도 한다.\n",
    " - Error terms는 개별 독립 변수들에 대하여 homoscedastic(등분산성)을 가져야 한다.\n",
    "  - 오차는 독립 변수들에 관해 일정한 분산값을 가져야 한다. 그렇지 않으면 비현실적으로 넓거나 좁은 신뢰 구간이 형성되고 모델의 성능을 떨어뜨리게 된다. \n",
    "  - 등분산성을 깨뜨리는 원인 중 하나는 데이터의 이상값으로(abnormal value or outlier) 자기 쪽으로 모델의 parameter 값이 높은 가중치를 갖도록 모델이 학습될 때 영향을 끼친다.\n",
    "  - 진단 방법 : 잔차와 독립 변수의 산포도를 살펴본다. 큰 모양이나 발산이 존재하면 오차가 일정한 분산을 갖지 않는다는 것을 의미하고 예측에 영향을 미치게 된다."
   ]
  },
  {
   "cell_type": "markdown",
   "metadata": {},
   "source": [
    "---\n",
    "# 선형 회귀 모델링 단계 (통계적 모델링)\n",
    " 1. 결측값(missing value), 이상값(outlier)를 처리한다.\n",
    " 2. 독립 변수 간의 상관 관계를 확인한다.\n",
    " 3. 훈련 데이터와 테스트 데이터를 나눈다.\n",
    " 4. 훈련 데이터를 이용하여 모델을 fitting\n",
    " 5. 테스트 데이터를 사용해 모델을 평가\n",
    "---"
   ]
  },
  {
   "cell_type": "markdown",
   "metadata": {},
   "source": [
    "# 선형 회귀 모형 개별 독립 변수에 대한 유의성 검정"
   ]
  },
  {
   "cell_type": "markdown",
   "metadata": {},
   "source": [
    "관찰값\n",
    "$(x_1, y_1), (x_2, y_2), (x_3, y_3),...,(x_n, y_n)$ 에 대하여,\n",
    "\n",
    "- 찾고자 하는 모집단의 회귀선 : $y=\\beta_0 + \\beta_1x_i$\n",
    "- 추정한 회귀선 : $\\hat{y}=\\hat{\\beta}_0 + \\hat{\\beta}_1x_i$\n",
    "- 표본에서의 residual : $e_i=y_i-\\hat{y}_i=y_i-\\hat{\\beta_0}-\\hat{\\beta_1}x_i$\n",
    "- $RSS=\\sum_{i=1}^{n}e_i^2=\\sum_{i=1}^{n}(y_i-\\hat{\\beta_0}-\\hat{\\beta_1}x_i)^2$\n",
    "- $\\hat{\\beta_1}=\\frac{\\sum_{i=1}^{n}(x_i-\\bar{x})(y_i-\\bar{y})}{\\sum_{i=1}^{n}(x_i-\\bar{x})^2}=\\frac{cov(x,y)}{var(x)}$\n",
    "- $\\hat{\\beta}_0=\\bar{y}-\\hat{\\beta}_1\\bar{x}$ , where $\\bar{y}=\\frac{1}{n}\\sum_{i=1}^{n}y_i$, $\\bar{x}=\\frac{1}{n}\\sum_{i=1}^{n}x_i$"
   ]
  },
  {
   "cell_type": "markdown",
   "metadata": {},
   "source": [
    "선형 회귀의 결과가 통계학적으로 유의미하다는 것을 증명하기 위해 가설 검정을 수행한다. 여기서는 단순 선형 회귀를 살펴보지만, 다중 회귀 분석에도 적용된다.\n",
    "- $H_0$ : $x$와 $y$사이에는 상관관계가 없다. $\\beta_1=0$\n",
    "- $H_1$ : $x$와 $y$사이에는 상관관계가 있다. $\\beta_1\\neq0$"
   ]
  },
  {
   "cell_type": "markdown",
   "metadata": {},
   "source": [
    "$\\beta_1=0$이면 모델은 변수 간의 상관관계가 없다는 것을 보여주고, $y=\\beta_0+\\epsilon$ 가 된다. 이것은 곳 귀무 가설과 같다. 이 가정이 옳은지 그른지를 증명하기 위해서 $\\beta_1$이 0으로부터 충분히 멀리 떨어져 있는지 판단(통계학적인 유의성을 나타내는 0으로부터의 거리를 의미한다.)해 $\\beta_1$이 0이 아니라고 확신하면 두 변수 간에 유의미한 상관관계가 있다는 것을 알게 된다.\n",
    "\n",
    "남은 문제는 0부터 **충분한**거리라는 것이 도대체 얼마를 의미하는지 판단하는 것이다. 이것은 $\\beta_1$의 분포에 달려 있는데, 평균과 표준오차로 판단할 수 있다. 경우에 따라 표준 오차인 $SE(\\beta_1)$이 작다면 상대적으로 아주 작은 값도 $\\beta_1 \\neq 0$라는 결론을 도출해서 $x$와 $y$간에 상관관계가 있다는 결론을 도출 할 수 있다. 반대로 $SE(\\beta_1)$ 값이 크다면 $\\beta_1$의 절대값이 충분히 클 때만 귀무가설을 기각할 수 있다.|"
   ]
  },
  {
   "cell_type": "markdown",
   "metadata": {},
   "source": [
    "---\n",
    "# $R^2$ 결정계수(Sample coefficient of determination)\n",
    "\n",
    "표본의 총 변동을 설명하는 데 있어서 회귀선에 의하여 설명되는 변동이 기여하는 비율이다. 즉 회귀선의 기여율이다.\n",
    "\n",
    "한 개의 관찰값 $y_i$와 $y_i$들의 평균 $\\bar{y}$와의 차이를 총 편차(total deviation)라 하며 다음과 같이 표현된다. $y_i-\\bar{y}=(y_i-\\hat{y_i}) + (\\hat{y_i} + \\bar{y})$\n",
    "\n",
    "$\\bar{y}=\\frac{1}{n}\\sum_{i=1}^{n}y_i$\n",
    "\n",
    "$\\text{SST}=\\sum_{i=1}^{n}(y_i-\\bar{y})^2$ : Total sum of squares, Total variation (총 변동)\n",
    "\n",
    "$\\text{SSE}=\\sum_{i=1}^{n}(y_i-\\hat{y}_i)^2=\\sum_{i=1}^{n}e_i^2$ : Sum of squares due to residual error, 회귀선에 의해 설명 안 되는 변동\n",
    "\n",
    "$\\text{SSR}=\\sum_{i=1}^{n}(\\hat{y}_i-\\bar{y})^2$ : Sum of squares due to regression, 회귀선에 의해서 설명 되는 변동\n",
    "\n",
    "- <font color=red>결정계수</font> : 총변동 중에서 회귀선에 의하여 설명되는 비율 $0 \\leq R^2 \\leq 1$\n",
    "$$R^2 = \\frac{SSR}{SST} = 1-\\frac{SSE}{SST}$$\n",
    "\n",
    "$R^2 \\geq 0.7$이면 모델은 처음 보는 데이터를 처리하기에 충분하다는 판단을 하고, 그 값이 0.7보다 작으면 모델을 실제로 배치하기에는 그리 좋지 않다는 결론을 내린다.\n",
    "\n",
    "---"
   ]
  },
  {
   "cell_type": "markdown",
   "metadata": {},
   "source": [
    "# 수정된 $R^2$ 결정계수(Sample coefficient of determination)"
   ]
  },
  {
   "cell_type": "markdown",
   "metadata": {},
   "source": [
    "# *예제 : Wine quality*"
   ]
  },
  {
   "cell_type": "code",
   "execution_count": 2,
   "metadata": {},
   "outputs": [],
   "source": [
    "import pandas as pd"
   ]
  },
  {
   "cell_type": "markdown",
   "metadata": {},
   "source": [
    "## 1. 데이터 로딩"
   ]
  },
  {
   "cell_type": "code",
   "execution_count": 3,
   "metadata": {},
   "outputs": [
    {
     "data": {
      "text/html": [
       "<div>\n",
       "<style scoped>\n",
       "    .dataframe tbody tr th:only-of-type {\n",
       "        vertical-align: middle;\n",
       "    }\n",
       "\n",
       "    .dataframe tbody tr th {\n",
       "        vertical-align: top;\n",
       "    }\n",
       "\n",
       "    .dataframe thead th {\n",
       "        text-align: right;\n",
       "    }\n",
       "</style>\n",
       "<table border=\"1\" class=\"dataframe\">\n",
       "  <thead>\n",
       "    <tr style=\"text-align: right;\">\n",
       "      <th></th>\n",
       "      <th>fixed.acidity</th>\n",
       "      <th>volatile.acidity</th>\n",
       "      <th>citric.acid</th>\n",
       "      <th>residual.sugar</th>\n",
       "      <th>chlorides</th>\n",
       "      <th>free.sulfur.dioxide</th>\n",
       "      <th>total.sulfur.dioxide</th>\n",
       "      <th>density</th>\n",
       "      <th>pH</th>\n",
       "      <th>sulphates</th>\n",
       "      <th>alcohol</th>\n",
       "      <th>quality</th>\n",
       "      <th>id</th>\n",
       "    </tr>\n",
       "  </thead>\n",
       "  <tbody>\n",
       "    <tr>\n",
       "      <th>0</th>\n",
       "      <td>6.7</td>\n",
       "      <td>0.15</td>\n",
       "      <td>0.38</td>\n",
       "      <td>1.7</td>\n",
       "      <td>0.037</td>\n",
       "      <td>20.0</td>\n",
       "      <td>84.0</td>\n",
       "      <td>0.99046</td>\n",
       "      <td>3.09</td>\n",
       "      <td>0.53</td>\n",
       "      <td>11.4</td>\n",
       "      <td>6</td>\n",
       "      <td>981</td>\n",
       "    </tr>\n",
       "    <tr>\n",
       "      <th>1</th>\n",
       "      <td>6.7</td>\n",
       "      <td>0.44</td>\n",
       "      <td>0.31</td>\n",
       "      <td>1.9</td>\n",
       "      <td>0.030</td>\n",
       "      <td>41.0</td>\n",
       "      <td>104.0</td>\n",
       "      <td>0.99000</td>\n",
       "      <td>3.29</td>\n",
       "      <td>0.62</td>\n",
       "      <td>12.6</td>\n",
       "      <td>7</td>\n",
       "      <td>982</td>\n",
       "    </tr>\n",
       "    <tr>\n",
       "      <th>2</th>\n",
       "      <td>6.1</td>\n",
       "      <td>0.17</td>\n",
       "      <td>0.21</td>\n",
       "      <td>1.9</td>\n",
       "      <td>0.090</td>\n",
       "      <td>44.0</td>\n",
       "      <td>130.0</td>\n",
       "      <td>0.99255</td>\n",
       "      <td>3.07</td>\n",
       "      <td>0.41</td>\n",
       "      <td>9.7</td>\n",
       "      <td>5</td>\n",
       "      <td>983</td>\n",
       "    </tr>\n",
       "    <tr>\n",
       "      <th>3</th>\n",
       "      <td>6.6</td>\n",
       "      <td>0.39</td>\n",
       "      <td>0.22</td>\n",
       "      <td>4.0</td>\n",
       "      <td>0.038</td>\n",
       "      <td>17.0</td>\n",
       "      <td>98.0</td>\n",
       "      <td>0.99018</td>\n",
       "      <td>3.25</td>\n",
       "      <td>0.53</td>\n",
       "      <td>13.0</td>\n",
       "      <td>7</td>\n",
       "      <td>984</td>\n",
       "    </tr>\n",
       "    <tr>\n",
       "      <th>4</th>\n",
       "      <td>6.8</td>\n",
       "      <td>0.32</td>\n",
       "      <td>0.34</td>\n",
       "      <td>6.0</td>\n",
       "      <td>0.050</td>\n",
       "      <td>5.0</td>\n",
       "      <td>129.0</td>\n",
       "      <td>0.99530</td>\n",
       "      <td>3.19</td>\n",
       "      <td>0.40</td>\n",
       "      <td>9.1</td>\n",
       "      <td>5</td>\n",
       "      <td>985</td>\n",
       "    </tr>\n",
       "  </tbody>\n",
       "</table>\n",
       "</div>"
      ],
      "text/plain": [
       "   fixed.acidity  volatile.acidity  citric.acid  residual.sugar  chlorides  \\\n",
       "0            6.7              0.15         0.38             1.7      0.037   \n",
       "1            6.7              0.44         0.31             1.9      0.030   \n",
       "2            6.1              0.17         0.21             1.9      0.090   \n",
       "3            6.6              0.39         0.22             4.0      0.038   \n",
       "4            6.8              0.32         0.34             6.0      0.050   \n",
       "\n",
       "   free.sulfur.dioxide  total.sulfur.dioxide  density    pH  sulphates  \\\n",
       "0                 20.0                  84.0  0.99046  3.09       0.53   \n",
       "1                 41.0                 104.0  0.99000  3.29       0.62   \n",
       "2                 44.0                 130.0  0.99255  3.07       0.41   \n",
       "3                 17.0                  98.0  0.99018  3.25       0.53   \n",
       "4                  5.0                 129.0  0.99530  3.19       0.40   \n",
       "\n",
       "   alcohol  quality   id  \n",
       "0     11.4        6  981  \n",
       "1     12.6        7  982  \n",
       "2      9.7        5  983  \n",
       "3     13.0        7  984  \n",
       "4      9.1        5  985  "
      ]
     },
     "execution_count": 3,
     "metadata": {},
     "output_type": "execute_result"
    }
   ],
   "source": [
    "path = './inputs/winequality-data.csv'\n",
    "dataset = pd.read_csv(path)\n",
    "dataset.head()"
   ]
  },
  {
   "cell_type": "code",
   "execution_count": 4,
   "metadata": {},
   "outputs": [
    {
     "data": {
      "text/html": [
       "<div>\n",
       "<style scoped>\n",
       "    .dataframe tbody tr th:only-of-type {\n",
       "        vertical-align: middle;\n",
       "    }\n",
       "\n",
       "    .dataframe tbody tr th {\n",
       "        vertical-align: top;\n",
       "    }\n",
       "\n",
       "    .dataframe thead th {\n",
       "        text-align: right;\n",
       "    }\n",
       "</style>\n",
       "<table border=\"1\" class=\"dataframe\">\n",
       "  <thead>\n",
       "    <tr style=\"text-align: right;\">\n",
       "      <th></th>\n",
       "      <th>fixed_acidity</th>\n",
       "      <th>volatile_acidity</th>\n",
       "      <th>citric_acid</th>\n",
       "      <th>residual_sugar</th>\n",
       "      <th>chlorides</th>\n",
       "      <th>free_sulfur_dioxide</th>\n",
       "      <th>total_sulfur_dioxide</th>\n",
       "      <th>density</th>\n",
       "      <th>pH</th>\n",
       "      <th>sulphates</th>\n",
       "      <th>alcohol</th>\n",
       "      <th>quality</th>\n",
       "      <th>id</th>\n",
       "    </tr>\n",
       "  </thead>\n",
       "  <tbody>\n",
       "    <tr>\n",
       "      <th>0</th>\n",
       "      <td>6.7</td>\n",
       "      <td>0.15</td>\n",
       "      <td>0.38</td>\n",
       "      <td>1.7</td>\n",
       "      <td>0.037</td>\n",
       "      <td>20.0</td>\n",
       "      <td>84.0</td>\n",
       "      <td>0.99046</td>\n",
       "      <td>3.09</td>\n",
       "      <td>0.53</td>\n",
       "      <td>11.4</td>\n",
       "      <td>6</td>\n",
       "      <td>981</td>\n",
       "    </tr>\n",
       "    <tr>\n",
       "      <th>1</th>\n",
       "      <td>6.7</td>\n",
       "      <td>0.44</td>\n",
       "      <td>0.31</td>\n",
       "      <td>1.9</td>\n",
       "      <td>0.030</td>\n",
       "      <td>41.0</td>\n",
       "      <td>104.0</td>\n",
       "      <td>0.99000</td>\n",
       "      <td>3.29</td>\n",
       "      <td>0.62</td>\n",
       "      <td>12.6</td>\n",
       "      <td>7</td>\n",
       "      <td>982</td>\n",
       "    </tr>\n",
       "    <tr>\n",
       "      <th>2</th>\n",
       "      <td>6.1</td>\n",
       "      <td>0.17</td>\n",
       "      <td>0.21</td>\n",
       "      <td>1.9</td>\n",
       "      <td>0.090</td>\n",
       "      <td>44.0</td>\n",
       "      <td>130.0</td>\n",
       "      <td>0.99255</td>\n",
       "      <td>3.07</td>\n",
       "      <td>0.41</td>\n",
       "      <td>9.7</td>\n",
       "      <td>5</td>\n",
       "      <td>983</td>\n",
       "    </tr>\n",
       "    <tr>\n",
       "      <th>3</th>\n",
       "      <td>6.6</td>\n",
       "      <td>0.39</td>\n",
       "      <td>0.22</td>\n",
       "      <td>4.0</td>\n",
       "      <td>0.038</td>\n",
       "      <td>17.0</td>\n",
       "      <td>98.0</td>\n",
       "      <td>0.99018</td>\n",
       "      <td>3.25</td>\n",
       "      <td>0.53</td>\n",
       "      <td>13.0</td>\n",
       "      <td>7</td>\n",
       "      <td>984</td>\n",
       "    </tr>\n",
       "    <tr>\n",
       "      <th>4</th>\n",
       "      <td>6.8</td>\n",
       "      <td>0.32</td>\n",
       "      <td>0.34</td>\n",
       "      <td>6.0</td>\n",
       "      <td>0.050</td>\n",
       "      <td>5.0</td>\n",
       "      <td>129.0</td>\n",
       "      <td>0.99530</td>\n",
       "      <td>3.19</td>\n",
       "      <td>0.40</td>\n",
       "      <td>9.1</td>\n",
       "      <td>5</td>\n",
       "      <td>985</td>\n",
       "    </tr>\n",
       "  </tbody>\n",
       "</table>\n",
       "</div>"
      ],
      "text/plain": [
       "   fixed_acidity  volatile_acidity  citric_acid  residual_sugar  chlorides  \\\n",
       "0            6.7              0.15         0.38             1.7      0.037   \n",
       "1            6.7              0.44         0.31             1.9      0.030   \n",
       "2            6.1              0.17         0.21             1.9      0.090   \n",
       "3            6.6              0.39         0.22             4.0      0.038   \n",
       "4            6.8              0.32         0.34             6.0      0.050   \n",
       "\n",
       "   free_sulfur_dioxide  total_sulfur_dioxide  density    pH  sulphates  \\\n",
       "0                 20.0                  84.0  0.99046  3.09       0.53   \n",
       "1                 41.0                 104.0  0.99000  3.29       0.62   \n",
       "2                 44.0                 130.0  0.99255  3.07       0.41   \n",
       "3                 17.0                  98.0  0.99018  3.25       0.53   \n",
       "4                  5.0                 129.0  0.99530  3.19       0.40   \n",
       "\n",
       "   alcohol  quality   id  \n",
       "0     11.4        6  981  \n",
       "1     12.6        7  982  \n",
       "2      9.7        5  983  \n",
       "3     13.0        7  984  \n",
       "4      9.1        5  985  "
      ]
     },
     "execution_count": 4,
     "metadata": {},
     "output_type": "execute_result"
    }
   ],
   "source": [
    "# Column 이름에 '.'이 포함된 것을 '_'로 변경 (개인 취향)\n",
    "import re\n",
    "column_names = [re.sub('\\.', '_', col) for col in dataset.columns.values]\n",
    "dataset.columns = column_names  # 컬럼 이름 변경\n",
    "dataset.head()"
   ]
  },
  {
   "cell_type": "code",
   "execution_count": 5,
   "metadata": {},
   "outputs": [
    {
     "data": {
      "text/html": [
       "<div>\n",
       "<style scoped>\n",
       "    .dataframe tbody tr th:only-of-type {\n",
       "        vertical-align: middle;\n",
       "    }\n",
       "\n",
       "    .dataframe tbody tr th {\n",
       "        vertical-align: top;\n",
       "    }\n",
       "\n",
       "    .dataframe thead th {\n",
       "        text-align: right;\n",
       "    }\n",
       "</style>\n",
       "<table border=\"1\" class=\"dataframe\">\n",
       "  <thead>\n",
       "    <tr style=\"text-align: right;\">\n",
       "      <th></th>\n",
       "      <th>fixed_acidity</th>\n",
       "      <th>volatile_acidity</th>\n",
       "      <th>citric_acid</th>\n",
       "      <th>residual_sugar</th>\n",
       "      <th>chlorides</th>\n",
       "      <th>free_sulfur_dioxide</th>\n",
       "      <th>total_sulfur_dioxide</th>\n",
       "      <th>density</th>\n",
       "      <th>pH</th>\n",
       "      <th>sulphates</th>\n",
       "      <th>alcohol</th>\n",
       "      <th>quality</th>\n",
       "    </tr>\n",
       "  </thead>\n",
       "  <tbody>\n",
       "    <tr>\n",
       "      <th>0</th>\n",
       "      <td>6.7</td>\n",
       "      <td>0.15</td>\n",
       "      <td>0.38</td>\n",
       "      <td>1.7</td>\n",
       "      <td>0.037</td>\n",
       "      <td>20.0</td>\n",
       "      <td>84.0</td>\n",
       "      <td>0.99046</td>\n",
       "      <td>3.09</td>\n",
       "      <td>0.53</td>\n",
       "      <td>11.4</td>\n",
       "      <td>6</td>\n",
       "    </tr>\n",
       "    <tr>\n",
       "      <th>1</th>\n",
       "      <td>6.7</td>\n",
       "      <td>0.44</td>\n",
       "      <td>0.31</td>\n",
       "      <td>1.9</td>\n",
       "      <td>0.030</td>\n",
       "      <td>41.0</td>\n",
       "      <td>104.0</td>\n",
       "      <td>0.99000</td>\n",
       "      <td>3.29</td>\n",
       "      <td>0.62</td>\n",
       "      <td>12.6</td>\n",
       "      <td>7</td>\n",
       "    </tr>\n",
       "    <tr>\n",
       "      <th>2</th>\n",
       "      <td>6.1</td>\n",
       "      <td>0.17</td>\n",
       "      <td>0.21</td>\n",
       "      <td>1.9</td>\n",
       "      <td>0.090</td>\n",
       "      <td>44.0</td>\n",
       "      <td>130.0</td>\n",
       "      <td>0.99255</td>\n",
       "      <td>3.07</td>\n",
       "      <td>0.41</td>\n",
       "      <td>9.7</td>\n",
       "      <td>5</td>\n",
       "    </tr>\n",
       "    <tr>\n",
       "      <th>3</th>\n",
       "      <td>6.6</td>\n",
       "      <td>0.39</td>\n",
       "      <td>0.22</td>\n",
       "      <td>4.0</td>\n",
       "      <td>0.038</td>\n",
       "      <td>17.0</td>\n",
       "      <td>98.0</td>\n",
       "      <td>0.99018</td>\n",
       "      <td>3.25</td>\n",
       "      <td>0.53</td>\n",
       "      <td>13.0</td>\n",
       "      <td>7</td>\n",
       "    </tr>\n",
       "    <tr>\n",
       "      <th>4</th>\n",
       "      <td>6.8</td>\n",
       "      <td>0.32</td>\n",
       "      <td>0.34</td>\n",
       "      <td>6.0</td>\n",
       "      <td>0.050</td>\n",
       "      <td>5.0</td>\n",
       "      <td>129.0</td>\n",
       "      <td>0.99530</td>\n",
       "      <td>3.19</td>\n",
       "      <td>0.40</td>\n",
       "      <td>9.1</td>\n",
       "      <td>5</td>\n",
       "    </tr>\n",
       "  </tbody>\n",
       "</table>\n",
       "</div>"
      ],
      "text/plain": [
       "   fixed_acidity  volatile_acidity  citric_acid  residual_sugar  chlorides  \\\n",
       "0            6.7              0.15         0.38             1.7      0.037   \n",
       "1            6.7              0.44         0.31             1.9      0.030   \n",
       "2            6.1              0.17         0.21             1.9      0.090   \n",
       "3            6.6              0.39         0.22             4.0      0.038   \n",
       "4            6.8              0.32         0.34             6.0      0.050   \n",
       "\n",
       "   free_sulfur_dioxide  total_sulfur_dioxide  density    pH  sulphates  \\\n",
       "0                 20.0                  84.0  0.99046  3.09       0.53   \n",
       "1                 41.0                 104.0  0.99000  3.29       0.62   \n",
       "2                 44.0                 130.0  0.99255  3.07       0.41   \n",
       "3                 17.0                  98.0  0.99018  3.25       0.53   \n",
       "4                  5.0                 129.0  0.99530  3.19       0.40   \n",
       "\n",
       "   alcohol  quality  \n",
       "0     11.4        6  \n",
       "1     12.6        7  \n",
       "2      9.7        5  \n",
       "3     13.0        7  \n",
       "4      9.1        5  "
      ]
     },
     "execution_count": 5,
     "metadata": {},
     "output_type": "execute_result"
    }
   ],
   "source": [
    "# 쓸모없는 column 삭제한다. 새로운 data frame을 생성하지 않고, 기존의 data frame 안에서 수행한다.\n",
    "dataset.drop('id', axis=1, inplace=True)\n",
    "dataset.head()"
   ]
  },
  {
   "cell_type": "markdown",
   "metadata": {},
   "source": [
    "## 2. Train, test set을 구성한다."
   ]
  },
  {
   "cell_type": "code",
   "execution_count": 6,
   "metadata": {},
   "outputs": [],
   "source": [
    "from sklearn.model_selection import train_test_split"
   ]
  },
  {
   "cell_type": "code",
   "execution_count": 7,
   "metadata": {},
   "outputs": [],
   "source": [
    "x_train, x_test, y_train, y_test = train_test_split(dataset['alcohol'], dataset['quality'], \n",
    "                                                    test_size = 0.3, random_state = 42)"
   ]
  },
  {
   "cell_type": "code",
   "execution_count": 8,
   "metadata": {},
   "outputs": [],
   "source": [
    "x_train = pd.DataFrame(x_train)\n",
    "y_train = pd.DataFrame(y_train)\n",
    "x_test = pd.DataFrame(x_test)\n",
    "y_test = pd.DataFrame(y_test)"
   ]
  },
  {
   "cell_type": "code",
   "execution_count": 9,
   "metadata": {},
   "outputs": [
    {
     "name": "stdout",
     "output_type": "stream",
     "text": [
      "(2742, 1)\n"
     ]
    }
   ],
   "source": [
    "# Train data의 shape 확인\n",
    "print(x_train.shape)"
   ]
  },
  {
   "cell_type": "code",
   "execution_count": 10,
   "metadata": {},
   "outputs": [
    {
     "data": {
      "text/html": [
       "<div>\n",
       "<style scoped>\n",
       "    .dataframe tbody tr th:only-of-type {\n",
       "        vertical-align: middle;\n",
       "    }\n",
       "\n",
       "    .dataframe tbody tr th {\n",
       "        vertical-align: top;\n",
       "    }\n",
       "\n",
       "    .dataframe thead th {\n",
       "        text-align: right;\n",
       "    }\n",
       "</style>\n",
       "<table border=\"1\" class=\"dataframe\">\n",
       "  <thead>\n",
       "    <tr style=\"text-align: right;\">\n",
       "      <th></th>\n",
       "      <th>alcohol</th>\n",
       "    </tr>\n",
       "  </thead>\n",
       "  <tbody>\n",
       "    <tr>\n",
       "      <th>2053</th>\n",
       "      <td>10.7</td>\n",
       "    </tr>\n",
       "    <tr>\n",
       "      <th>1507</th>\n",
       "      <td>12.2</td>\n",
       "    </tr>\n",
       "    <tr>\n",
       "      <th>1293</th>\n",
       "      <td>10.6</td>\n",
       "    </tr>\n",
       "    <tr>\n",
       "      <th>2758</th>\n",
       "      <td>11.8</td>\n",
       "    </tr>\n",
       "    <tr>\n",
       "      <th>1839</th>\n",
       "      <td>10.4</td>\n",
       "    </tr>\n",
       "  </tbody>\n",
       "</table>\n",
       "</div>"
      ],
      "text/plain": [
       "      alcohol\n",
       "2053     10.7\n",
       "1507     12.2\n",
       "1293     10.6\n",
       "2758     11.8\n",
       "1839     10.4"
      ]
     },
     "execution_count": 10,
     "metadata": {},
     "output_type": "execute_result"
    }
   ],
   "source": [
    "x_train.head()"
   ]
  },
  {
   "cell_type": "code",
   "execution_count": 11,
   "metadata": {},
   "outputs": [
    {
     "data": {
      "text/html": [
       "<div>\n",
       "<style scoped>\n",
       "    .dataframe tbody tr th:only-of-type {\n",
       "        vertical-align: middle;\n",
       "    }\n",
       "\n",
       "    .dataframe tbody tr th {\n",
       "        vertical-align: top;\n",
       "    }\n",
       "\n",
       "    .dataframe thead th {\n",
       "        text-align: right;\n",
       "    }\n",
       "</style>\n",
       "<table border=\"1\" class=\"dataframe\">\n",
       "  <thead>\n",
       "    <tr style=\"text-align: right;\">\n",
       "      <th></th>\n",
       "      <th>quality</th>\n",
       "    </tr>\n",
       "  </thead>\n",
       "  <tbody>\n",
       "    <tr>\n",
       "      <th>2053</th>\n",
       "      <td>5</td>\n",
       "    </tr>\n",
       "    <tr>\n",
       "      <th>1507</th>\n",
       "      <td>6</td>\n",
       "    </tr>\n",
       "    <tr>\n",
       "      <th>1293</th>\n",
       "      <td>6</td>\n",
       "    </tr>\n",
       "    <tr>\n",
       "      <th>2758</th>\n",
       "      <td>6</td>\n",
       "    </tr>\n",
       "    <tr>\n",
       "      <th>1839</th>\n",
       "      <td>6</td>\n",
       "    </tr>\n",
       "  </tbody>\n",
       "</table>\n",
       "</div>"
      ],
      "text/plain": [
       "      quality\n",
       "2053        5\n",
       "1507        6\n",
       "1293        6\n",
       "2758        6\n",
       "1839        6"
      ]
     },
     "execution_count": 11,
     "metadata": {},
     "output_type": "execute_result"
    }
   ],
   "source": [
    "y_train.head()"
   ]
  },
  {
   "cell_type": "markdown",
   "metadata": {},
   "source": [
    "## 3. 알코올 함량$(x)$과 품질 사이$(y)$에 상관관계가 있을까? (단순 선형 회귀)"
   ]
  },
  {
   "cell_type": "markdown",
   "metadata": {},
   "source": [
    "회귀식에서, 계수를 구하는 공식은 다음과 같다.\n",
    "- $\\hat{\\beta_1}=\\frac{\\sum_{i=1}^{n}(x_i-\\bar{x})(y_i-\\bar{y})}{\\sum_{i=1}^{n}(x_i-\\bar{x})^2}=\\frac{cov(x,y)}{var(x)}$\n",
    "- $\\hat{\\beta}_0=\\bar{y}-\\hat{\\beta}_1\\bar{x}$ , where $\\bar{y}=\\frac{1}{n}\\sum_{i=1}^{n}y_i$, $\\bar{x}=\\frac{1}{n}\\sum_{i=1}^{n}x_i$"
   ]
  },
  {
   "cell_type": "code",
   "execution_count": 12,
   "metadata": {},
   "outputs": [
    {
     "data": {
      "text/plain": [
       "10.524545344031122"
      ]
     },
     "execution_count": 12,
     "metadata": {},
     "output_type": "execute_result"
    }
   ],
   "source": [
    "# 알코올의 평균을 구한다.\n",
    "alcohol_train_mean = x_train.mean()\n",
    "alcohol_train_mean = alcohol_train_mean.values[0]\n",
    "alcohol_train_mean"
   ]
  },
  {
   "cell_type": "code",
   "execution_count": 13,
   "metadata": {},
   "outputs": [
    {
     "data": {
      "text/plain": [
       "5.88001458789205"
      ]
     },
     "execution_count": 13,
     "metadata": {},
     "output_type": "execute_result"
    }
   ],
   "source": [
    "# Quality의 평균을 구한다.\n",
    "quality_train_mean = y_train.mean().values[0]\n",
    "quality_train_mean"
   ]
  },
  {
   "cell_type": "code",
   "execution_count": 14,
   "metadata": {},
   "outputs": [
    {
     "data": {
      "text/plain": [
       "1.5324158112919055"
      ]
     },
     "execution_count": 14,
     "metadata": {},
     "output_type": "execute_result"
    }
   ],
   "source": [
    "# 분산을 구한다.\n",
    "alcohol_train_var = x_train.var().values[0]\n",
    "alcohol_train_var"
   ]
  },
  {
   "cell_type": "code",
   "execution_count": 15,
   "metadata": {},
   "outputs": [
    {
     "data": {
      "text/plain": [
       "0.7900491789188193"
      ]
     },
     "execution_count": 15,
     "metadata": {},
     "output_type": "execute_result"
    }
   ],
   "source": [
    "quality_train_var = y_train.var().values[0]\n",
    "quality_train_var"
   ]
  },
  {
   "cell_type": "code",
   "execution_count": 16,
   "metadata": {},
   "outputs": [
    {
     "name": "stdout",
     "output_type": "stream",
     "text": [
      "[[1.53241581 0.50055409]\n",
      " [0.50055409 0.79004918]]\n"
     ]
    }
   ],
   "source": [
    "# 공분산을 구한다.\n",
    "alcohol_train_cov = pd.concat([x_train, y_train], axis=1).cov().values\n",
    "print(alcohol_train_cov)"
   ]
  },
  {
   "cell_type": "code",
   "execution_count": 17,
   "metadata": {},
   "outputs": [
    {
     "data": {
      "text/plain": [
       "0.5005540866543494"
      ]
     },
     "execution_count": 17,
     "metadata": {},
     "output_type": "execute_result"
    }
   ],
   "source": [
    "cov_train = alcohol_train_cov[0][1]\n",
    "cov_train"
   ]
  },
  {
   "cell_type": "code",
   "execution_count": 18,
   "metadata": {},
   "outputs": [
    {
     "data": {
      "text/plain": [
       "0.3266437757728149"
      ]
     },
     "execution_count": 18,
     "metadata": {},
     "output_type": "execute_result"
    }
   ],
   "source": [
    "b_1 = cov_train / alcohol_train_var\n",
    "b_1"
   ]
  },
  {
   "cell_type": "code",
   "execution_count": 19,
   "metadata": {},
   "outputs": [
    {
     "data": {
      "text/plain": [
       "2.4422373584255253"
      ]
     },
     "execution_count": 19,
     "metadata": {},
     "output_type": "execute_result"
    }
   ],
   "source": [
    "b_0 = quality_train_mean - b_1 * alcohol_train_mean\n",
    "b_0"
   ]
  },
  {
   "cell_type": "markdown",
   "metadata": {},
   "source": [
    "결정계수를 확인해보자.\n",
    "$$R^2 = \\frac{SSR}{SST} = 1-\\frac{SSE}{SST}$$"
   ]
  },
  {
   "cell_type": "code",
   "execution_count": 20,
   "metadata": {},
   "outputs": [],
   "source": [
    "y_pred = b_0 + b_1 * x_test\n",
    "y_pred.columns = y_test.columns"
   ]
  },
  {
   "cell_type": "code",
   "execution_count": 21,
   "metadata": {},
   "outputs": [],
   "source": [
    "r_sqrt = 1 - ((y_test - y_pred) ** 2).sum() / ((y_test - y_test.mean()) ** 2).sum()"
   ]
  },
  {
   "cell_type": "code",
   "execution_count": 22,
   "metadata": {},
   "outputs": [
    {
     "data": {
      "text/plain": [
       "quality    0.192343\n",
       "dtype: float64"
      ]
     },
     "execution_count": 22,
     "metadata": {},
     "output_type": "execute_result"
    }
   ],
   "source": [
    "r_sqrt"
   ]
  },
  {
   "cell_type": "markdown",
   "metadata": {},
   "source": [
    "#### R 제곱값이 작기 때문에 품질과 알코올 함량 사이에는 강한 상관관계가 없다고 결론 내릴 수 있다."
   ]
  },
  {
   "cell_type": "markdown",
   "metadata": {},
   "source": [
    "## 4. 다중 선형 회귀"
   ]
  },
  {
   "cell_type": "markdown",
   "metadata": {},
   "source": [
    "- `sklearn` : 최종 정확값을 알려준다.\n",
    "- `statmodels.api` : 변수에 관한 진단을 함께 보여준다."
   ]
  },
  {
   "cell_type": "code",
   "execution_count": 23,
   "metadata": {},
   "outputs": [],
   "source": [
    "import numpy as np\n",
    "import pandas as pd\n",
    "import statsmodels.api as sm\n",
    "import matplotlib.pyplot as plt\n",
    "import seaborn as sns"
   ]
  },
  {
   "cell_type": "code",
   "execution_count": 24,
   "metadata": {},
   "outputs": [],
   "source": [
    "from sklearn.metrics import r2_score"
   ]
  },
  {
   "cell_type": "markdown",
   "metadata": {},
   "source": [
    "### 4.1. Exploratory Data Analysis"
   ]
  },
  {
   "cell_type": "code",
   "execution_count": 25,
   "metadata": {},
   "outputs": [
    {
     "data": {
      "text/plain": [
       "Index(['fixed_acidity', 'volatile_acidity', 'citric_acid', 'residual_sugar',\n",
       "       'chlorides', 'free_sulfur_dioxide', 'total_sulfur_dioxide', 'density',\n",
       "       'pH', 'sulphates', 'alcohol', 'quality'],\n",
       "      dtype='object')"
      ]
     },
     "execution_count": 25,
     "metadata": {},
     "output_type": "execute_result"
    }
   ],
   "source": [
    "# Column list를 살펴보고, EDA를 할 특성을 살펴보자.\n",
    "dataset.columns"
   ]
  },
  {
   "cell_type": "markdown",
   "metadata": {},
   "source": [
    "- volatile acidity : 사전적 의미로 \"휘발성산\"의 뜻이며, 와인용어로 와인에게 있어서 휘발성 산은 사람의 체온과 비슷하여 현재의 상태를 알려준다. 적당한 양의 휘발성산은 와인 향에 필수적이지만, 너무 많으면 문제가 있다는 것을 알려주는 신호\n",
    "- chlorides : 염화물\n",
    "- sulphates : 황산염\n",
    "- alcohol : 알코올"
   ]
  },
  {
   "cell_type": "code",
   "execution_count": 26,
   "metadata": {},
   "outputs": [],
   "source": [
    "eda_columns = ['volatile_acidity', 'chlorides', 'sulphates', 'alcohol', 'quality']"
   ]
  },
  {
   "cell_type": "code",
   "execution_count": 27,
   "metadata": {},
   "outputs": [],
   "source": [
    "sns.set(style='whitegrid', context='notebook')"
   ]
  },
  {
   "cell_type": "markdown",
   "metadata": {},
   "source": [
    "시각적으로 독립변수와 종속변수의 상관관계를 살펴본다."
   ]
  },
  {
   "cell_type": "code",
   "execution_count": 28,
   "metadata": {},
   "outputs": [
    {
     "data": {
      "text/plain": [
       "<seaborn.axisgrid.PairGrid at 0x118142978>"
      ]
     },
     "execution_count": 28,
     "metadata": {},
     "output_type": "execute_result"
    },
    {
     "data": {
      "image/png": "[encoded data removed]",
      "text/plain": [
       "<Figure size 900x900 with 30 Axes>"
      ]
     },
     "metadata": {},
     "output_type": "display_data"
    }
   ],
   "source": [
    "sns.pairplot(dataset[eda_columns], size=2.5, x_vars=eda_columns, y_vars=eda_columns)"
   ]
  },
  {
   "cell_type": "markdown",
   "metadata": {},
   "source": [
    "수치적으로 상관관계를 살펴본다."
   ]
  },
  {
   "cell_type": "code",
   "execution_count": 29,
   "metadata": {},
   "outputs": [
    {
     "data": {
      "text/plain": [
       "(array([0.5, 1.5, 2.5, 3.5, 4.5]), <a list of 5 Text xticklabel objects>)"
      ]
     },
     "execution_count": 29,
     "metadata": {},
     "output_type": "execute_result"
    },
    {
     "data": {
      "image/png": "[encoded data removed]",
      "text/plain": [
       "<Figure size 432x288 with 2 Axes>"
      ]
     },
     "metadata": {},
     "output_type": "display_data"
    }
   ],
   "source": [
    "corr_mat = np.corrcoef(dataset[eda_columns].values.T)\n",
    "sns.set(font_scale=1)\n",
    "full_mat = sns.heatmap(corr_mat, cbar=True, annot=True, square=True,\n",
    "                       fmt='.2f', annot_kws={'size': 15},\n",
    "                       yticklabels=eda_columns, xticklabels=eda_columns)\n",
    "plt.yticks(rotation=0)\n",
    "plt.xticks(rotation=45)"
   ]
  },
  {
   "cell_type": "markdown",
   "metadata": {},
   "source": [
    "### 4.2. 후진 제거법과 전진 선택법\n",
    "최적 모델을 결정하기 위해 다양한 방법으로 변수를 추가하거나 제거한다.\n",
    "\n",
    "- Backward method(후진 제거법) : 전체 변수를 대상으로 미리 정의한 모든 통계 수치(유의 수준, 다중공선성 등)를 만족할 때까지 반복적으로 변수를 하나씩 제거해 나간다. 최종적으로 전반적인 통계값을 검사해  결정계수($R^2$)가 0.7보다 크면 좋은 모델로 받아드리고, 그렇지 않으면 기각한다.\n",
    "- 전진 선택법 : 변수 집합은 공집합에서 출발해서 전체 모델의 적합도가 좋아질 때 까지 변수를 계속 증가시켜간다.\n",
    "\n",
    "주로 후진 제거법을 사용한다."
   ]
  },
  {
   "cell_type": "code",
   "execution_count": 30,
   "metadata": {},
   "outputs": [
    {
     "data": {
      "text/plain": [
       "Index(['fixed_acidity', 'volatile_acidity', 'citric_acid', 'residual_sugar',\n",
       "       'chlorides', 'free_sulfur_dioxide', 'total_sulfur_dioxide', 'density',\n",
       "       'pH', 'sulphates', 'alcohol'],\n",
       "      dtype='object')"
      ]
     },
     "execution_count": 30,
     "metadata": {},
     "output_type": "execute_result"
    }
   ],
   "source": [
    "features = dataset.columns.drop('quality')\n",
    "features"
   ]
  },
  {
   "cell_type": "code",
   "execution_count": 31,
   "metadata": {},
   "outputs": [
    {
     "data": {
      "text/html": [
       "<div>\n",
       "<style scoped>\n",
       "    .dataframe tbody tr th:only-of-type {\n",
       "        vertical-align: middle;\n",
       "    }\n",
       "\n",
       "    .dataframe tbody tr th {\n",
       "        vertical-align: top;\n",
       "    }\n",
       "\n",
       "    .dataframe thead th {\n",
       "        text-align: right;\n",
       "    }\n",
       "</style>\n",
       "<table border=\"1\" class=\"dataframe\">\n",
       "  <thead>\n",
       "    <tr style=\"text-align: right;\">\n",
       "      <th></th>\n",
       "      <th>fixed_acidity</th>\n",
       "      <th>volatile_acidity</th>\n",
       "      <th>citric_acid</th>\n",
       "      <th>residual_sugar</th>\n",
       "      <th>chlorides</th>\n",
       "      <th>free_sulfur_dioxide</th>\n",
       "      <th>total_sulfur_dioxide</th>\n",
       "      <th>density</th>\n",
       "      <th>pH</th>\n",
       "      <th>sulphates</th>\n",
       "      <th>alcohol</th>\n",
       "    </tr>\n",
       "  </thead>\n",
       "  <tbody>\n",
       "    <tr>\n",
       "      <th>0</th>\n",
       "      <td>6.7</td>\n",
       "      <td>0.15</td>\n",
       "      <td>0.38</td>\n",
       "      <td>1.7</td>\n",
       "      <td>0.037</td>\n",
       "      <td>20.0</td>\n",
       "      <td>84.0</td>\n",
       "      <td>0.99046</td>\n",
       "      <td>3.09</td>\n",
       "      <td>0.53</td>\n",
       "      <td>11.4</td>\n",
       "    </tr>\n",
       "  </tbody>\n",
       "</table>\n",
       "</div>"
      ],
      "text/plain": [
       "   fixed_acidity  volatile_acidity  citric_acid  residual_sugar  chlorides  \\\n",
       "0            6.7              0.15         0.38             1.7      0.037   \n",
       "\n",
       "   free_sulfur_dioxide  total_sulfur_dioxide  density    pH  sulphates  \\\n",
       "0                 20.0                  84.0  0.99046  3.09       0.53   \n",
       "\n",
       "   alcohol  \n",
       "0     11.4  "
      ]
     },
     "execution_count": 31,
     "metadata": {},
     "output_type": "execute_result"
    }
   ],
   "source": [
    "x = dataset[features]\n",
    "x.head(1)"
   ]
  },
  {
   "cell_type": "code",
   "execution_count": 32,
   "metadata": {},
   "outputs": [
    {
     "data": {
      "text/plain": [
       "0    6\n",
       "Name: quality, dtype: int64"
      ]
     },
     "execution_count": 32,
     "metadata": {},
     "output_type": "execute_result"
    }
   ],
   "source": [
    "y = dataset['quality']\n",
    "y.head(1)"
   ]
  },
  {
   "cell_type": "code",
   "execution_count": 33,
   "metadata": {},
   "outputs": [],
   "source": [
    "x_train, x_test, y_train, y_test = \\\n",
    "    train_test_split(x, y, train_size=0.7, random_state=42)"
   ]
  },
  {
   "cell_type": "markdown",
   "metadata": {},
   "source": [
    "`add_constant`는 절편 변수를 생성하는 것이다. 절편을 만들지 않으면 그에 따라 계수도 바뀌게 된다."
   ]
  },
  {
   "cell_type": "code",
   "execution_count": 34,
   "metadata": {},
   "outputs": [
    {
     "data": {
      "text/html": [
       "<div>\n",
       "<style scoped>\n",
       "    .dataframe tbody tr th:only-of-type {\n",
       "        vertical-align: middle;\n",
       "    }\n",
       "\n",
       "    .dataframe tbody tr th {\n",
       "        vertical-align: top;\n",
       "    }\n",
       "\n",
       "    .dataframe thead th {\n",
       "        text-align: right;\n",
       "    }\n",
       "</style>\n",
       "<table border=\"1\" class=\"dataframe\">\n",
       "  <thead>\n",
       "    <tr style=\"text-align: right;\">\n",
       "      <th></th>\n",
       "      <th>const</th>\n",
       "      <th>fixed_acidity</th>\n",
       "      <th>volatile_acidity</th>\n",
       "      <th>citric_acid</th>\n",
       "      <th>residual_sugar</th>\n",
       "      <th>chlorides</th>\n",
       "      <th>free_sulfur_dioxide</th>\n",
       "      <th>total_sulfur_dioxide</th>\n",
       "      <th>density</th>\n",
       "      <th>pH</th>\n",
       "      <th>sulphates</th>\n",
       "      <th>alcohol</th>\n",
       "    </tr>\n",
       "  </thead>\n",
       "  <tbody>\n",
       "    <tr>\n",
       "      <th>2053</th>\n",
       "      <td>1.0</td>\n",
       "      <td>6.8</td>\n",
       "      <td>0.32</td>\n",
       "      <td>0.43</td>\n",
       "      <td>1.6</td>\n",
       "      <td>0.05</td>\n",
       "      <td>4.0</td>\n",
       "      <td>65.0</td>\n",
       "      <td>0.99346</td>\n",
       "      <td>3.27</td>\n",
       "      <td>0.47</td>\n",
       "      <td>10.7</td>\n",
       "    </tr>\n",
       "  </tbody>\n",
       "</table>\n",
       "</div>"
      ],
      "text/plain": [
       "      const  fixed_acidity  volatile_acidity  citric_acid  residual_sugar  \\\n",
       "2053    1.0            6.8              0.32         0.43             1.6   \n",
       "\n",
       "      chlorides  free_sulfur_dioxide  total_sulfur_dioxide  density    pH  \\\n",
       "2053       0.05                  4.0                  65.0  0.99346  3.27   \n",
       "\n",
       "      sulphates  alcohol  \n",
       "2053       0.47     10.7  "
      ]
     },
     "execution_count": 34,
     "metadata": {},
     "output_type": "execute_result"
    }
   ],
   "source": [
    "x_train_new = sm.add_constant(x_train)\n",
    "x_train_new.head(1)"
   ]
  },
  {
   "cell_type": "markdown",
   "metadata": {},
   "source": [
    "> 전체 feature를 사용했을 때의 모델 (첫 번째 iteration)"
   ]
  },
  {
   "cell_type": "markdown",
   "metadata": {},
   "source": [
    "#### (1) 각 개별 변수의 통계적 유의성(p-value)를 살펴본다."
   ]
  },
  {
   "cell_type": "code",
   "execution_count": 35,
   "metadata": {},
   "outputs": [
    {
     "data": {
      "text/html": [
       "<div>\n",
       "<style scoped>\n",
       "    .dataframe tbody tr th:only-of-type {\n",
       "        vertical-align: middle;\n",
       "    }\n",
       "\n",
       "    .dataframe tbody tr th {\n",
       "        vertical-align: top;\n",
       "    }\n",
       "\n",
       "    .dataframe thead th {\n",
       "        text-align: right;\n",
       "    }\n",
       "</style>\n",
       "<table border=\"1\" class=\"dataframe\">\n",
       "  <thead>\n",
       "    <tr style=\"text-align: right;\">\n",
       "      <th></th>\n",
       "      <th>const</th>\n",
       "      <th>fixed_acidity</th>\n",
       "      <th>volatile_acidity</th>\n",
       "      <th>citric_acid</th>\n",
       "      <th>residual_sugar</th>\n",
       "      <th>chlorides</th>\n",
       "      <th>free_sulfur_dioxide</th>\n",
       "      <th>total_sulfur_dioxide</th>\n",
       "      <th>density</th>\n",
       "      <th>pH</th>\n",
       "      <th>sulphates</th>\n",
       "      <th>alcohol</th>\n",
       "    </tr>\n",
       "  </thead>\n",
       "  <tbody>\n",
       "    <tr>\n",
       "      <th>270</th>\n",
       "      <td>1.0</td>\n",
       "      <td>7.8</td>\n",
       "      <td>0.17</td>\n",
       "      <td>0.5</td>\n",
       "      <td>1.3</td>\n",
       "      <td>0.045</td>\n",
       "      <td>35.0</td>\n",
       "      <td>140.0</td>\n",
       "      <td>0.9904</td>\n",
       "      <td>3.16</td>\n",
       "      <td>0.4</td>\n",
       "      <td>12.0</td>\n",
       "    </tr>\n",
       "  </tbody>\n",
       "</table>\n",
       "</div>"
      ],
      "text/plain": [
       "     const  fixed_acidity  volatile_acidity  citric_acid  residual_sugar  \\\n",
       "270    1.0            7.8              0.17          0.5             1.3   \n",
       "\n",
       "     chlorides  free_sulfur_dioxide  total_sulfur_dioxide  density    pH  \\\n",
       "270      0.045                 35.0                 140.0   0.9904  3.16   \n",
       "\n",
       "     sulphates  alcohol  \n",
       "270        0.4     12.0  "
      ]
     },
     "execution_count": 35,
     "metadata": {},
     "output_type": "execute_result"
    }
   ],
   "source": [
    "x_test_new = sm.add_constant(x_test)\n",
    "x_test_new.head(1)"
   ]
  },
  {
   "cell_type": "code",
   "execution_count": 36,
   "metadata": {},
   "outputs": [
    {
     "data": {
      "text/plain": [
       "<statsmodels.regression.linear_model.OLS at 0x118cd6160>"
      ]
     },
     "execution_count": 36,
     "metadata": {},
     "output_type": "execute_result"
    }
   ],
   "source": [
    "lr_model = sm.OLS(y_train, x_train_new)\n",
    "lr_model"
   ]
  },
  {
   "cell_type": "code",
   "execution_count": 37,
   "metadata": {},
   "outputs": [],
   "source": [
    "fitted_lr = lr_model.fit()"
   ]
  },
  {
   "cell_type": "code",
   "execution_count": 38,
   "metadata": {},
   "outputs": [
    {
     "data": {
      "text/html": [
       "<table class=\"simpletable\">\n",
       "<caption>OLS Regression Results</caption>\n",
       "<tr>\n",
       "  <th>Dep. Variable:</th>         <td>quality</td>     <th>  R-squared:         </th> <td>   0.299</td> \n",
       "</tr>\n",
       "<tr>\n",
       "  <th>Model:</th>                   <td>OLS</td>       <th>  Adj. R-squared:    </th> <td>   0.296</td> \n",
       "</tr>\n",
       "<tr>\n",
       "  <th>Method:</th>             <td>Least Squares</td>  <th>  F-statistic:       </th> <td>   105.8</td> \n",
       "</tr>\n",
       "<tr>\n",
       "  <th>Date:</th>             <td>Mon, 18 Mar 2019</td> <th>  Prob (F-statistic):</th> <td>3.02e-201</td>\n",
       "</tr>\n",
       "<tr>\n",
       "  <th>Time:</th>                 <td>08:40:24</td>     <th>  Log-Likelihood:    </th> <td> -3080.2</td> \n",
       "</tr>\n",
       "<tr>\n",
       "  <th>No. Observations:</th>      <td>  2742</td>      <th>  AIC:               </th> <td>   6184.</td> \n",
       "</tr>\n",
       "<tr>\n",
       "  <th>Df Residuals:</th>          <td>  2730</td>      <th>  BIC:               </th> <td>   6255.</td> \n",
       "</tr>\n",
       "<tr>\n",
       "  <th>Df Model:</th>              <td>    11</td>      <th>                     </th>     <td> </td>    \n",
       "</tr>\n",
       "<tr>\n",
       "  <th>Covariance Type:</th>      <td>nonrobust</td>    <th>                     </th>     <td> </td>    \n",
       "</tr>\n",
       "</table>\n",
       "<table class=\"simpletable\">\n",
       "<tr>\n",
       "            <td></td>              <th>coef</th>     <th>std err</th>      <th>t</th>      <th>P>|t|</th>  <th>[0.025</th>    <th>0.975]</th>  \n",
       "</tr>\n",
       "<tr>\n",
       "  <th>const</th>                <td>  133.6311</td> <td>   22.199</td> <td>    6.020</td> <td> 0.000</td> <td>   90.103</td> <td>  177.159</td>\n",
       "</tr>\n",
       "<tr>\n",
       "  <th>fixed_acidity</th>        <td>    0.0638</td> <td>    0.026</td> <td>    2.453</td> <td> 0.014</td> <td>    0.013</td> <td>    0.115</td>\n",
       "</tr>\n",
       "<tr>\n",
       "  <th>volatile_acidity</th>     <td>   -1.8664</td> <td>    0.155</td> <td>  -12.037</td> <td> 0.000</td> <td>   -2.170</td> <td>   -1.562</td>\n",
       "</tr>\n",
       "<tr>\n",
       "  <th>citric_acid</th>          <td>    0.0213</td> <td>    0.127</td> <td>    0.169</td> <td> 0.866</td> <td>   -0.227</td> <td>    0.270</td>\n",
       "</tr>\n",
       "<tr>\n",
       "  <th>residual_sugar</th>       <td>    0.0823</td> <td>    0.009</td> <td>    8.894</td> <td> 0.000</td> <td>    0.064</td> <td>    0.100</td>\n",
       "</tr>\n",
       "<tr>\n",
       "  <th>chlorides</th>            <td>   -0.8567</td> <td>    0.804</td> <td>   -1.066</td> <td> 0.286</td> <td>   -2.432</td> <td>    0.719</td>\n",
       "</tr>\n",
       "<tr>\n",
       "  <th>free_sulfur_dioxide</th>  <td>    0.0033</td> <td>    0.001</td> <td>    3.033</td> <td> 0.002</td> <td>    0.001</td> <td>    0.005</td>\n",
       "</tr>\n",
       "<tr>\n",
       "  <th>total_sulfur_dioxide</th> <td>   -0.0001</td> <td>    0.000</td> <td>   -0.266</td> <td> 0.790</td> <td>   -0.001</td> <td>    0.001</td>\n",
       "</tr>\n",
       "<tr>\n",
       "  <th>density</th>              <td> -133.8388</td> <td>   22.529</td> <td>   -5.941</td> <td> 0.000</td> <td> -178.015</td> <td>  -89.663</td>\n",
       "</tr>\n",
       "<tr>\n",
       "  <th>pH</th>                   <td>    0.6434</td> <td>    0.136</td> <td>    4.744</td> <td> 0.000</td> <td>    0.377</td> <td>    0.909</td>\n",
       "</tr>\n",
       "<tr>\n",
       "  <th>sulphates</th>            <td>    0.4929</td> <td>    0.133</td> <td>    3.703</td> <td> 0.000</td> <td>    0.232</td> <td>    0.754</td>\n",
       "</tr>\n",
       "<tr>\n",
       "  <th>alcohol</th>              <td>    0.2355</td> <td>    0.029</td> <td>    8.101</td> <td> 0.000</td> <td>    0.178</td> <td>    0.292</td>\n",
       "</tr>\n",
       "</table>\n",
       "<table class=\"simpletable\">\n",
       "<tr>\n",
       "  <th>Omnibus:</th>       <td>64.279</td> <th>  Durbin-Watson:     </th> <td>   2.059</td>\n",
       "</tr>\n",
       "<tr>\n",
       "  <th>Prob(Omnibus):</th> <td> 0.000</td> <th>  Jarque-Bera (JB):  </th> <td> 134.481</td>\n",
       "</tr>\n",
       "<tr>\n",
       "  <th>Skew:</th>          <td> 0.100</td> <th>  Prob(JB):          </th> <td>6.28e-30</td>\n",
       "</tr>\n",
       "<tr>\n",
       "  <th>Kurtosis:</th>      <td> 4.066</td> <th>  Cond. No.          </th> <td>3.34e+05</td>\n",
       "</tr>\n",
       "</table><br/><br/>Warnings:<br/>[1] Standard Errors assume that the covariance matrix of the errors is correctly specified.<br/>[2] The condition number is large, 3.34e+05. This might indicate that there are<br/>strong multicollinearity or other numerical problems."
      ],
      "text/plain": [
       "<class 'statsmodels.iolib.summary.Summary'>\n",
       "\"\"\"\n",
       "                            OLS Regression Results                            \n",
       "==============================================================================\n",
       "Dep. Variable:                quality   R-squared:                       0.299\n",
       "Model:                            OLS   Adj. R-squared:                  0.296\n",
       "Method:                 Least Squares   F-statistic:                     105.8\n",
       "Date:                Mon, 18 Mar 2019   Prob (F-statistic):          3.02e-201\n",
       "Time:                        08:40:24   Log-Likelihood:                -3080.2\n",
       "No. Observations:                2742   AIC:                             6184.\n",
       "Df Residuals:                    2730   BIC:                             6255.\n",
       "Df Model:                          11                                         \n",
       "Covariance Type:            nonrobust                                         \n",
       "========================================================================================\n",
       "                           coef    std err          t      P>|t|      [0.025      0.975]\n",
       "----------------------------------------------------------------------------------------\n",
       "const                  133.6311     22.199      6.020      0.000      90.103     177.159\n",
       "fixed_acidity            0.0638      0.026      2.453      0.014       0.013       0.115\n",
       "volatile_acidity        -1.8664      0.155    -12.037      0.000      -2.170      -1.562\n",
       "citric_acid              0.0213      0.127      0.169      0.866      -0.227       0.270\n",
       "residual_sugar           0.0823      0.009      8.894      0.000       0.064       0.100\n",
       "chlorides               -0.8567      0.804     -1.066      0.286      -2.432       0.719\n",
       "free_sulfur_dioxide      0.0033      0.001      3.033      0.002       0.001       0.005\n",
       "total_sulfur_dioxide    -0.0001      0.000     -0.266      0.790      -0.001       0.001\n",
       "density               -133.8388     22.529     -5.941      0.000    -178.015     -89.663\n",
       "pH                       0.6434      0.136      4.744      0.000       0.377       0.909\n",
       "sulphates                0.4929      0.133      3.703      0.000       0.232       0.754\n",
       "alcohol                  0.2355      0.029      8.101      0.000       0.178       0.292\n",
       "==============================================================================\n",
       "Omnibus:                       64.279   Durbin-Watson:                   2.059\n",
       "Prob(Omnibus):                  0.000   Jarque-Bera (JB):              134.481\n",
       "Skew:                           0.100   Prob(JB):                     6.28e-30\n",
       "Kurtosis:                       4.066   Cond. No.                     3.34e+05\n",
       "==============================================================================\n",
       "\n",
       "Warnings:\n",
       "[1] Standard Errors assume that the covariance matrix of the errors is correctly specified.\n",
       "[2] The condition number is large, 3.34e+05. This might indicate that there are\n",
       "strong multicollinearity or other numerical problems.\n",
       "\"\"\""
      ]
     },
     "execution_count": 38,
     "metadata": {},
     "output_type": "execute_result"
    }
   ],
   "source": [
    "# 모델의 Summary를 분석해보자.\n",
    "fitted_lr.summary()"
   ]
  },
  {
   "cell_type": "markdown",
   "metadata": {},
   "source": [
    "### What is AIC?"
   ]
  },
  {
   "cell_type": "markdown",
   "metadata": {},
   "source": [
    "모델 튜닝\n",
    " - AIC : 6184 (절대적인 수치는 중요하지 않다. 상대 수치가 중요하며 이전과 비교했을 때, 적을수록 좋다.)\n",
    " - Adjusted $R^2$ : 0.296 (0.7 이상이어야한다.)\n",
    " - 변수 유의성에 대한 p-value : 0.05 이하이어야 한다.\n",
    " - VIF를 확인한다 : 5이하(은행권처럼 보수적인 경우는 2이하를 사용)여야 한다."
   ]
  },
  {
   "cell_type": "markdown",
   "metadata": {},
   "source": [
    "#### (2) 각 개별 변수의 VIF를 계산한다."
   ]
  },
  {
   "cell_type": "markdown",
   "metadata": {},
   "source": [
    "Independent variable `fixed_acidity`를 예로 들어보자"
   ]
  },
  {
   "cell_type": "code",
   "execution_count": 39,
   "metadata": {},
   "outputs": [],
   "source": [
    "# 1. Independent variable 1개와 나머지 independent variable를\n",
    "# 구분한다. fixed_acidity를 예로 들어보자.\n",
    "copied_features = features.values.tolist()[:]\n",
    "var = 'fixed_acidity'\n",
    "copied_features.remove(var)"
   ]
  },
  {
   "cell_type": "code",
   "execution_count": 40,
   "metadata": {},
   "outputs": [],
   "source": [
    "# 2. 선형회귀모형을 생성한다. \n",
    "lr_model = sm.OLS(x_train[var], \n",
    "                   sm.add_constant(x_train[copied_features]))"
   ]
  },
  {
   "cell_type": "code",
   "execution_count": 43,
   "metadata": {},
   "outputs": [],
   "source": [
    "# 3. 선형회귀모형을 fitting\n",
    "fitted_lr_model = lr_model.fit()"
   ]
  },
  {
   "cell_type": "code",
   "execution_count": 44,
   "metadata": {},
   "outputs": [
    {
     "name": "stdout",
     "output_type": "stream",
     "text": [
      "2.44444455211811\n"
     ]
    }
   ],
   "source": [
    "# 4. 결정계수를 구한다.\n",
    "vif = 1 / (1 - fitted_lr_model.rsquared)\n",
    "print(vif)"
   ]
  },
  {
   "cell_type": "markdown",
   "metadata": {},
   "source": [
    "이젠 각 변수에 대해서 VIF를 구해보자."
   ]
  },
  {
   "cell_type": "code",
   "execution_count": 45,
   "metadata": {},
   "outputs": [],
   "source": [
    "def get_vif():\n",
    "    for i in np.arange(0, len(features)):\n",
    "        copied_features = features.values.tolist()\n",
    "        var = copied_features[i]\n",
    "        copied_features.remove(var)\n",
    "        vif_model = sm.OLS(x_train[var],\n",
    "                           sm.add_constant(x_train[copied_features]))\n",
    "        fitted_lr_model = vif_model.fit()\n",
    "        vif = 1 / (1 - fitted_lr_model.rsquared)\n",
    "        print(var, round(vif, 4))"
   ]
  },
  {
   "cell_type": "code",
   "execution_count": 46,
   "metadata": {},
   "outputs": [
    {
     "name": "stdout",
     "output_type": "stream",
     "text": [
      "fixed_acidity 2.4444\n",
      "volatile_acidity 1.1451\n",
      "citric_acid 1.1708\n",
      "residual_sugar 11.08\n",
      "chlorides 1.2334\n",
      "free_sulfur_dioxide 1.8023\n",
      "total_sulfur_dioxide 2.2669\n",
      "density 23.6158\n",
      "pH 2.0624\n",
      "sulphates 1.1289\n",
      "alcohol 6.3817\n"
     ]
    }
   ],
   "source": [
    "get_vif()"
   ]
  },
  {
   "cell_type": "markdown",
   "metadata": {},
   "source": [
    "결과를 살펴보면 *density*가 가장 높은 VIF 값을 가진다.\n",
    "\n",
    "가장 높은 p-value는 *citric_acid*이다.\n",
    "\n",
    "이 경우 가장 무의미한 변수(p-value가 큰 변수)를 먼저 제거한다. 무의미한 변수가 다중공선성이 높은 변수보다 좋지 않다. 물론 다중공선성이 높은 변수도 삭제해야 한다.\n",
    "\n",
    "*citric_acid*를 제거한 후 모델을 학습하고 다중공선성을 확인해보자."
   ]
  },
  {
   "cell_type": "markdown",
   "metadata": {},
   "source": [
    "> 두 번째 iteration"
   ]
  },
  {
   "cell_type": "code",
   "execution_count": 47,
   "metadata": {},
   "outputs": [
    {
     "data": {
      "text/plain": [
       "Index(['fixed_acidity', 'volatile_acidity', 'residual_sugar', 'chlorides',\n",
       "       'free_sulfur_dioxide', 'total_sulfur_dioxide', 'density', 'pH',\n",
       "       'sulphates', 'alcohol'],\n",
       "      dtype='object')"
      ]
     },
     "execution_count": 47,
     "metadata": {},
     "output_type": "execute_result"
    }
   ],
   "source": [
    "features = features.drop('citric_acid')\n",
    "features"
   ]
  },
  {
   "cell_type": "code",
   "execution_count": 48,
   "metadata": {},
   "outputs": [
    {
     "data": {
      "text/html": [
       "<table class=\"simpletable\">\n",
       "<caption>OLS Regression Results</caption>\n",
       "<tr>\n",
       "  <th>Dep. Variable:</th>         <td>quality</td>     <th>  R-squared:         </th> <td>   0.299</td> \n",
       "</tr>\n",
       "<tr>\n",
       "  <th>Model:</th>                   <td>OLS</td>       <th>  Adj. R-squared:    </th> <td>   0.296</td> \n",
       "</tr>\n",
       "<tr>\n",
       "  <th>Method:</th>             <td>Least Squares</td>  <th>  F-statistic:       </th> <td>   116.5</td> \n",
       "</tr>\n",
       "<tr>\n",
       "  <th>Date:</th>             <td>Mon, 18 Mar 2019</td> <th>  Prob (F-statistic):</th> <td>2.77e-202</td>\n",
       "</tr>\n",
       "<tr>\n",
       "  <th>Time:</th>                 <td>08:41:33</td>     <th>  Log-Likelihood:    </th> <td> -3080.2</td> \n",
       "</tr>\n",
       "<tr>\n",
       "  <th>No. Observations:</th>      <td>  2742</td>      <th>  AIC:               </th> <td>   6182.</td> \n",
       "</tr>\n",
       "<tr>\n",
       "  <th>Df Residuals:</th>          <td>  2731</td>      <th>  BIC:               </th> <td>   6247.</td> \n",
       "</tr>\n",
       "<tr>\n",
       "  <th>Df Model:</th>              <td>    10</td>      <th>                     </th>     <td> </td>    \n",
       "</tr>\n",
       "<tr>\n",
       "  <th>Covariance Type:</th>      <td>nonrobust</td>    <th>                     </th>     <td> </td>    \n",
       "</tr>\n",
       "</table>\n",
       "<table class=\"simpletable\">\n",
       "<tr>\n",
       "            <td></td>              <th>coef</th>     <th>std err</th>      <th>t</th>      <th>P>|t|</th>  <th>[0.025</th>    <th>0.975]</th>  \n",
       "</tr>\n",
       "<tr>\n",
       "  <th>const</th>                <td>  133.3886</td> <td>   22.148</td> <td>    6.023</td> <td> 0.000</td> <td>   89.960</td> <td>  176.817</td>\n",
       "</tr>\n",
       "<tr>\n",
       "  <th>fixed_acidity</th>        <td>    0.0645</td> <td>    0.026</td> <td>    2.510</td> <td> 0.012</td> <td>    0.014</td> <td>    0.115</td>\n",
       "</tr>\n",
       "<tr>\n",
       "  <th>volatile_acidity</th>     <td>   -1.8703</td> <td>    0.153</td> <td>  -12.203</td> <td> 0.000</td> <td>   -2.171</td> <td>   -1.570</td>\n",
       "</tr>\n",
       "<tr>\n",
       "  <th>residual_sugar</th>       <td>    0.0822</td> <td>    0.009</td> <td>    8.896</td> <td> 0.000</td> <td>    0.064</td> <td>    0.100</td>\n",
       "</tr>\n",
       "<tr>\n",
       "  <th>chlorides</th>            <td>   -0.8431</td> <td>    0.799</td> <td>   -1.055</td> <td> 0.292</td> <td>   -2.411</td> <td>    0.724</td>\n",
       "</tr>\n",
       "<tr>\n",
       "  <th>free_sulfur_dioxide</th>  <td>    0.0033</td> <td>    0.001</td> <td>    3.043</td> <td> 0.002</td> <td>    0.001</td> <td>    0.005</td>\n",
       "</tr>\n",
       "<tr>\n",
       "  <th>total_sulfur_dioxide</th> <td>   -0.0001</td> <td>    0.000</td> <td>   -0.262</td> <td> 0.793</td> <td>   -0.001</td> <td>    0.001</td>\n",
       "</tr>\n",
       "<tr>\n",
       "  <th>density</th>              <td> -133.5916</td> <td>   22.478</td> <td>   -5.943</td> <td> 0.000</td> <td> -177.666</td> <td>  -89.517</td>\n",
       "</tr>\n",
       "<tr>\n",
       "  <th>pH</th>                   <td>    0.6415</td> <td>    0.135</td> <td>    4.747</td> <td> 0.000</td> <td>    0.377</td> <td>    0.906</td>\n",
       "</tr>\n",
       "<tr>\n",
       "  <th>sulphates</th>            <td>    0.4939</td> <td>    0.133</td> <td>    3.715</td> <td> 0.000</td> <td>    0.233</td> <td>    0.755</td>\n",
       "</tr>\n",
       "<tr>\n",
       "  <th>alcohol</th>              <td>    0.2360</td> <td>    0.029</td> <td>    8.159</td> <td> 0.000</td> <td>    0.179</td> <td>    0.293</td>\n",
       "</tr>\n",
       "</table>\n",
       "<table class=\"simpletable\">\n",
       "<tr>\n",
       "  <th>Omnibus:</th>       <td>64.204</td> <th>  Durbin-Watson:     </th> <td>   2.059</td>\n",
       "</tr>\n",
       "<tr>\n",
       "  <th>Prob(Omnibus):</th> <td> 0.000</td> <th>  Jarque-Bera (JB):  </th> <td> 134.260</td>\n",
       "</tr>\n",
       "<tr>\n",
       "  <th>Skew:</th>          <td> 0.100</td> <th>  Prob(JB):          </th> <td>7.01e-30</td>\n",
       "</tr>\n",
       "<tr>\n",
       "  <th>Kurtosis:</th>      <td> 4.065</td> <th>  Cond. No.          </th> <td>3.33e+05</td>\n",
       "</tr>\n",
       "</table><br/><br/>Warnings:<br/>[1] Standard Errors assume that the covariance matrix of the errors is correctly specified.<br/>[2] The condition number is large, 3.33e+05. This might indicate that there are<br/>strong multicollinearity or other numerical problems."
      ],
      "text/plain": [
       "<class 'statsmodels.iolib.summary.Summary'>\n",
       "\"\"\"\n",
       "                            OLS Regression Results                            \n",
       "==============================================================================\n",
       "Dep. Variable:                quality   R-squared:                       0.299\n",
       "Model:                            OLS   Adj. R-squared:                  0.296\n",
       "Method:                 Least Squares   F-statistic:                     116.5\n",
       "Date:                Mon, 18 Mar 2019   Prob (F-statistic):          2.77e-202\n",
       "Time:                        08:41:33   Log-Likelihood:                -3080.2\n",
       "No. Observations:                2742   AIC:                             6182.\n",
       "Df Residuals:                    2731   BIC:                             6247.\n",
       "Df Model:                          10                                         \n",
       "Covariance Type:            nonrobust                                         \n",
       "========================================================================================\n",
       "                           coef    std err          t      P>|t|      [0.025      0.975]\n",
       "----------------------------------------------------------------------------------------\n",
       "const                  133.3886     22.148      6.023      0.000      89.960     176.817\n",
       "fixed_acidity            0.0645      0.026      2.510      0.012       0.014       0.115\n",
       "volatile_acidity        -1.8703      0.153    -12.203      0.000      -2.171      -1.570\n",
       "residual_sugar           0.0822      0.009      8.896      0.000       0.064       0.100\n",
       "chlorides               -0.8431      0.799     -1.055      0.292      -2.411       0.724\n",
       "free_sulfur_dioxide      0.0033      0.001      3.043      0.002       0.001       0.005\n",
       "total_sulfur_dioxide    -0.0001      0.000     -0.262      0.793      -0.001       0.001\n",
       "density               -133.5916     22.478     -5.943      0.000    -177.666     -89.517\n",
       "pH                       0.6415      0.135      4.747      0.000       0.377       0.906\n",
       "sulphates                0.4939      0.133      3.715      0.000       0.233       0.755\n",
       "alcohol                  0.2360      0.029      8.159      0.000       0.179       0.293\n",
       "==============================================================================\n",
       "Omnibus:                       64.204   Durbin-Watson:                   2.059\n",
       "Prob(Omnibus):                  0.000   Jarque-Bera (JB):              134.260\n",
       "Skew:                           0.100   Prob(JB):                     7.01e-30\n",
       "Kurtosis:                       4.065   Cond. No.                     3.33e+05\n",
       "==============================================================================\n",
       "\n",
       "Warnings:\n",
       "[1] Standard Errors assume that the covariance matrix of the errors is correctly specified.\n",
       "[2] The condition number is large, 3.33e+05. This might indicate that there are\n",
       "strong multicollinearity or other numerical problems.\n",
       "\"\"\""
      ]
     },
     "execution_count": 48,
     "metadata": {},
     "output_type": "execute_result"
    }
   ],
   "source": [
    "# 모델\n",
    "lr_model = sm.OLS(y_train, \n",
    "                  sm.add_constant(x_train[features]))\n",
    "# 학습\n",
    "fitted_lr_model = lr_model.fit()\n",
    "fitted_lr_model.summary()"
   ]
  },
  {
   "cell_type": "code",
   "execution_count": 49,
   "metadata": {},
   "outputs": [
    {
     "name": "stdout",
     "output_type": "stream",
     "text": [
      "fixed_acidity 2.3853\n",
      "volatile_acidity 1.1192\n",
      "residual_sugar 11.065\n",
      "chlorides 1.221\n",
      "free_sulfur_dioxide 1.7997\n",
      "total_sulfur_dioxide 2.2655\n",
      "density 23.5158\n",
      "pH 2.0481\n",
      "sulphates 1.1265\n",
      "alcohol 6.3193\n"
     ]
    }
   ],
   "source": [
    "get_vif()"
   ]
  },
  {
   "cell_type": "markdown",
   "metadata": {},
   "source": [
    "모델 튜닝\n",
    " - AIC : 6184 $\\to$ 6182\n",
    " - Adjusted $R^2$ : 0.296 $\\to$ 0.296\n",
    " - 변수 유의성에 대한 p-value : *total_sulfur_dioxide* 가 가장 높다.\n",
    " - VIF를 확인한다 : *density*가 가장 높다.\n",
    " \n",
    "*total_sulfur_dioxide*를 먼저 삭제한다."
   ]
  },
  {
   "cell_type": "markdown",
   "metadata": {},
   "source": [
    "> 세 번째 iteration"
   ]
  },
  {
   "cell_type": "code",
   "execution_count": 50,
   "metadata": {},
   "outputs": [
    {
     "data": {
      "text/plain": [
       "Index(['fixed_acidity', 'volatile_acidity', 'residual_sugar', 'chlorides',\n",
       "       'free_sulfur_dioxide', 'density', 'pH', 'sulphates', 'alcohol'],\n",
       "      dtype='object')"
      ]
     },
     "execution_count": 50,
     "metadata": {},
     "output_type": "execute_result"
    }
   ],
   "source": [
    "features = features.drop('total_sulfur_dioxide')\n",
    "features"
   ]
  },
  {
   "cell_type": "code",
   "execution_count": 51,
   "metadata": {},
   "outputs": [
    {
     "data": {
      "text/html": [
       "<table class=\"simpletable\">\n",
       "<caption>OLS Regression Results</caption>\n",
       "<tr>\n",
       "  <th>Dep. Variable:</th>         <td>quality</td>     <th>  R-squared:         </th> <td>   0.299</td> \n",
       "</tr>\n",
       "<tr>\n",
       "  <th>Model:</th>                   <td>OLS</td>       <th>  Adj. R-squared:    </th> <td>   0.297</td> \n",
       "</tr>\n",
       "<tr>\n",
       "  <th>Method:</th>             <td>Least Squares</td>  <th>  F-statistic:       </th> <td>   129.4</td> \n",
       "</tr>\n",
       "<tr>\n",
       "  <th>Date:</th>             <td>Mon, 18 Mar 2019</td> <th>  Prob (F-statistic):</th> <td>2.45e-203</td>\n",
       "</tr>\n",
       "<tr>\n",
       "  <th>Time:</th>                 <td>08:41:45</td>     <th>  Log-Likelihood:    </th> <td> -3080.2</td> \n",
       "</tr>\n",
       "<tr>\n",
       "  <th>No. Observations:</th>      <td>  2742</td>      <th>  AIC:               </th> <td>   6180.</td> \n",
       "</tr>\n",
       "<tr>\n",
       "  <th>Df Residuals:</th>          <td>  2732</td>      <th>  BIC:               </th> <td>   6240.</td> \n",
       "</tr>\n",
       "<tr>\n",
       "  <th>Df Model:</th>              <td>     9</td>      <th>                     </th>     <td> </td>    \n",
       "</tr>\n",
       "<tr>\n",
       "  <th>Covariance Type:</th>      <td>nonrobust</td>    <th>                     </th>     <td> </td>    \n",
       "</tr>\n",
       "</table>\n",
       "<table class=\"simpletable\">\n",
       "<tr>\n",
       "           <td></td>              <th>coef</th>     <th>std err</th>      <th>t</th>      <th>P>|t|</th>  <th>[0.025</th>    <th>0.975]</th>  \n",
       "</tr>\n",
       "<tr>\n",
       "  <th>const</th>               <td>  134.3467</td> <td>   21.841</td> <td>    6.151</td> <td> 0.000</td> <td>   91.520</td> <td>  177.173</td>\n",
       "</tr>\n",
       "<tr>\n",
       "  <th>fixed_acidity</th>       <td>    0.0646</td> <td>    0.026</td> <td>    2.514</td> <td> 0.012</td> <td>    0.014</td> <td>    0.115</td>\n",
       "</tr>\n",
       "<tr>\n",
       "  <th>volatile_acidity</th>    <td>   -1.8787</td> <td>    0.150</td> <td>  -12.538</td> <td> 0.000</td> <td>   -2.173</td> <td>   -1.585</td>\n",
       "</tr>\n",
       "<tr>\n",
       "  <th>residual_sugar</th>      <td>    0.0825</td> <td>    0.009</td> <td>    8.961</td> <td> 0.000</td> <td>    0.064</td> <td>    0.101</td>\n",
       "</tr>\n",
       "<tr>\n",
       "  <th>chlorides</th>           <td>   -0.8462</td> <td>    0.799</td> <td>   -1.059</td> <td> 0.290</td> <td>   -2.413</td> <td>    0.721</td>\n",
       "</tr>\n",
       "<tr>\n",
       "  <th>free_sulfur_dioxide</th> <td>    0.0032</td> <td>    0.001</td> <td>    3.620</td> <td> 0.000</td> <td>    0.001</td> <td>    0.005</td>\n",
       "</tr>\n",
       "<tr>\n",
       "  <th>density</th>             <td> -134.5645</td> <td>   22.166</td> <td>   -6.071</td> <td> 0.000</td> <td> -178.028</td> <td>  -91.101</td>\n",
       "</tr>\n",
       "<tr>\n",
       "  <th>pH</th>                  <td>    0.6410</td> <td>    0.135</td> <td>    4.745</td> <td> 0.000</td> <td>    0.376</td> <td>    0.906</td>\n",
       "</tr>\n",
       "<tr>\n",
       "  <th>sulphates</th>           <td>    0.4906</td> <td>    0.132</td> <td>    3.708</td> <td> 0.000</td> <td>    0.231</td> <td>    0.750</td>\n",
       "</tr>\n",
       "<tr>\n",
       "  <th>alcohol</th>             <td>    0.2360</td> <td>    0.029</td> <td>    8.163</td> <td> 0.000</td> <td>    0.179</td> <td>    0.293</td>\n",
       "</tr>\n",
       "</table>\n",
       "<table class=\"simpletable\">\n",
       "<tr>\n",
       "  <th>Omnibus:</th>       <td>64.241</td> <th>  Durbin-Watson:     </th> <td>   2.059</td>\n",
       "</tr>\n",
       "<tr>\n",
       "  <th>Prob(Omnibus):</th> <td> 0.000</td> <th>  Jarque-Bera (JB):  </th> <td> 134.241</td>\n",
       "</tr>\n",
       "<tr>\n",
       "  <th>Skew:</th>          <td> 0.101</td> <th>  Prob(JB):          </th> <td>7.08e-30</td>\n",
       "</tr>\n",
       "<tr>\n",
       "  <th>Kurtosis:</th>      <td> 4.065</td> <th>  Cond. No.          </th> <td>9.09e+04</td>\n",
       "</tr>\n",
       "</table><br/><br/>Warnings:<br/>[1] Standard Errors assume that the covariance matrix of the errors is correctly specified.<br/>[2] The condition number is large, 9.09e+04. This might indicate that there are<br/>strong multicollinearity or other numerical problems."
      ],
      "text/plain": [
       "<class 'statsmodels.iolib.summary.Summary'>\n",
       "\"\"\"\n",
       "                            OLS Regression Results                            \n",
       "==============================================================================\n",
       "Dep. Variable:                quality   R-squared:                       0.299\n",
       "Model:                            OLS   Adj. R-squared:                  0.297\n",
       "Method:                 Least Squares   F-statistic:                     129.4\n",
       "Date:                Mon, 18 Mar 2019   Prob (F-statistic):          2.45e-203\n",
       "Time:                        08:41:45   Log-Likelihood:                -3080.2\n",
       "No. Observations:                2742   AIC:                             6180.\n",
       "Df Residuals:                    2732   BIC:                             6240.\n",
       "Df Model:                           9                                         \n",
       "Covariance Type:            nonrobust                                         \n",
       "=======================================================================================\n",
       "                          coef    std err          t      P>|t|      [0.025      0.975]\n",
       "---------------------------------------------------------------------------------------\n",
       "const                 134.3467     21.841      6.151      0.000      91.520     177.173\n",
       "fixed_acidity           0.0646      0.026      2.514      0.012       0.014       0.115\n",
       "volatile_acidity       -1.8787      0.150    -12.538      0.000      -2.173      -1.585\n",
       "residual_sugar          0.0825      0.009      8.961      0.000       0.064       0.101\n",
       "chlorides              -0.8462      0.799     -1.059      0.290      -2.413       0.721\n",
       "free_sulfur_dioxide     0.0032      0.001      3.620      0.000       0.001       0.005\n",
       "density              -134.5645     22.166     -6.071      0.000    -178.028     -91.101\n",
       "pH                      0.6410      0.135      4.745      0.000       0.376       0.906\n",
       "sulphates               0.4906      0.132      3.708      0.000       0.231       0.750\n",
       "alcohol                 0.2360      0.029      8.163      0.000       0.179       0.293\n",
       "==============================================================================\n",
       "Omnibus:                       64.241   Durbin-Watson:                   2.059\n",
       "Prob(Omnibus):                  0.000   Jarque-Bera (JB):              134.241\n",
       "Skew:                           0.101   Prob(JB):                     7.08e-30\n",
       "Kurtosis:                       4.065   Cond. No.                     9.09e+04\n",
       "==============================================================================\n",
       "\n",
       "Warnings:\n",
       "[1] Standard Errors assume that the covariance matrix of the errors is correctly specified.\n",
       "[2] The condition number is large, 9.09e+04. This might indicate that there are\n",
       "strong multicollinearity or other numerical problems.\n",
       "\"\"\""
      ]
     },
     "execution_count": 51,
     "metadata": {},
     "output_type": "execute_result"
    }
   ],
   "source": [
    "# 모델\n",
    "lr_model = sm.OLS(y_train, \n",
    "                  sm.add_constant(x_train[features]))\n",
    "# 학습\n",
    "fitted_lr_model = lr_model.fit()\n",
    "fitted_lr_model.summary()"
   ]
  },
  {
   "cell_type": "code",
   "execution_count": 52,
   "metadata": {},
   "outputs": [
    {
     "name": "stdout",
     "output_type": "stream",
     "text": [
      "fixed_acidity 2.3848\n",
      "volatile_acidity 1.0701\n",
      "residual_sugar 10.9683\n",
      "chlorides 1.2208\n",
      "free_sulfur_dioxide 1.1424\n",
      "density 22.8755\n",
      "pH 2.0478\n",
      "sulphates 1.1165\n",
      "alcohol 6.3191\n"
     ]
    }
   ],
   "source": [
    "get_vif()"
   ]
  },
  {
   "cell_type": "markdown",
   "metadata": {},
   "source": [
    "모델 튜닝\n",
    " - AIC : 6182 $\\to$ 6180\n",
    " - Adjusted $R^2$ : 0.296 $\\to$ 0.297\n",
    " - 변수 유의성에 대한 p-value : *chlorides* 가 가장 높다.\n",
    " - VIF를 확인한다 : *density*가 가장 높다.\n",
    " \n",
    "*chlorides*를 먼저 삭제한다."
   ]
  },
  {
   "cell_type": "markdown",
   "metadata": {},
   "source": [
    "> 4번째 iteration"
   ]
  },
  {
   "cell_type": "code",
   "execution_count": 53,
   "metadata": {},
   "outputs": [
    {
     "data": {
      "text/plain": [
       "Index(['fixed_acidity', 'volatile_acidity', 'residual_sugar',\n",
       "       'free_sulfur_dioxide', 'density', 'pH', 'sulphates', 'alcohol'],\n",
       "      dtype='object')"
      ]
     },
     "execution_count": 53,
     "metadata": {},
     "output_type": "execute_result"
    }
   ],
   "source": [
    "features = features.drop('chlorides')\n",
    "features"
   ]
  },
  {
   "cell_type": "code",
   "execution_count": 54,
   "metadata": {},
   "outputs": [
    {
     "data": {
      "text/html": [
       "<table class=\"simpletable\">\n",
       "<caption>OLS Regression Results</caption>\n",
       "<tr>\n",
       "  <th>Dep. Variable:</th>         <td>quality</td>     <th>  R-squared:         </th> <td>   0.299</td> \n",
       "</tr>\n",
       "<tr>\n",
       "  <th>Model:</th>                   <td>OLS</td>       <th>  Adj. R-squared:    </th> <td>   0.297</td> \n",
       "</tr>\n",
       "<tr>\n",
       "  <th>Method:</th>             <td>Least Squares</td>  <th>  F-statistic:       </th> <td>   145.5</td> \n",
       "</tr>\n",
       "<tr>\n",
       "  <th>Date:</th>             <td>Mon, 18 Mar 2019</td> <th>  Prob (F-statistic):</th> <td>3.43e-204</td>\n",
       "</tr>\n",
       "<tr>\n",
       "  <th>Time:</th>                 <td>08:41:58</td>     <th>  Log-Likelihood:    </th> <td> -3080.8</td> \n",
       "</tr>\n",
       "<tr>\n",
       "  <th>No. Observations:</th>      <td>  2742</td>      <th>  AIC:               </th> <td>   6180.</td> \n",
       "</tr>\n",
       "<tr>\n",
       "  <th>Df Residuals:</th>          <td>  2733</td>      <th>  BIC:               </th> <td>   6233.</td> \n",
       "</tr>\n",
       "<tr>\n",
       "  <th>Df Model:</th>              <td>     8</td>      <th>                     </th>     <td> </td>    \n",
       "</tr>\n",
       "<tr>\n",
       "  <th>Covariance Type:</th>      <td>nonrobust</td>    <th>                     </th>     <td> </td>    \n",
       "</tr>\n",
       "</table>\n",
       "<table class=\"simpletable\">\n",
       "<tr>\n",
       "           <td></td>              <th>coef</th>     <th>std err</th>      <th>t</th>      <th>P>|t|</th>  <th>[0.025</th>    <th>0.975]</th>  \n",
       "</tr>\n",
       "<tr>\n",
       "  <th>const</th>               <td>  138.0004</td> <td>   21.567</td> <td>    6.399</td> <td> 0.000</td> <td>   95.711</td> <td>  180.290</td>\n",
       "</tr>\n",
       "<tr>\n",
       "  <th>fixed_acidity</th>       <td>    0.0684</td> <td>    0.025</td> <td>    2.693</td> <td> 0.007</td> <td>    0.019</td> <td>    0.118</td>\n",
       "</tr>\n",
       "<tr>\n",
       "  <th>volatile_acidity</th>    <td>   -1.8934</td> <td>    0.149</td> <td>  -12.690</td> <td> 0.000</td> <td>   -2.186</td> <td>   -1.601</td>\n",
       "</tr>\n",
       "<tr>\n",
       "  <th>residual_sugar</th>      <td>    0.0842</td> <td>    0.009</td> <td>    9.309</td> <td> 0.000</td> <td>    0.066</td> <td>    0.102</td>\n",
       "</tr>\n",
       "<tr>\n",
       "  <th>free_sulfur_dioxide</th> <td>    0.0031</td> <td>    0.001</td> <td>    3.572</td> <td> 0.000</td> <td>    0.001</td> <td>    0.005</td>\n",
       "</tr>\n",
       "<tr>\n",
       "  <th>density</th>             <td> -138.3946</td> <td>   21.869</td> <td>   -6.328</td> <td> 0.000</td> <td> -181.276</td> <td>  -95.513</td>\n",
       "</tr>\n",
       "<tr>\n",
       "  <th>pH</th>                  <td>    0.6634</td> <td>    0.133</td> <td>    4.971</td> <td> 0.000</td> <td>    0.402</td> <td>    0.925</td>\n",
       "</tr>\n",
       "<tr>\n",
       "  <th>sulphates</th>           <td>    0.4938</td> <td>    0.132</td> <td>    3.732</td> <td> 0.000</td> <td>    0.234</td> <td>    0.753</td>\n",
       "</tr>\n",
       "<tr>\n",
       "  <th>alcohol</th>             <td>    0.2370</td> <td>    0.029</td> <td>    8.200</td> <td> 0.000</td> <td>    0.180</td> <td>    0.294</td>\n",
       "</tr>\n",
       "</table>\n",
       "<table class=\"simpletable\">\n",
       "<tr>\n",
       "  <th>Omnibus:</th>       <td>63.818</td> <th>  Durbin-Watson:     </th> <td>   2.060</td>\n",
       "</tr>\n",
       "<tr>\n",
       "  <th>Prob(Omnibus):</th> <td> 0.000</td> <th>  Jarque-Bera (JB):  </th> <td> 132.766</td>\n",
       "</tr>\n",
       "<tr>\n",
       "  <th>Skew:</th>          <td> 0.101</td> <th>  Prob(JB):          </th> <td>1.48e-29</td>\n",
       "</tr>\n",
       "<tr>\n",
       "  <th>Kurtosis:</th>      <td> 4.059</td> <th>  Cond. No.          </th> <td>8.98e+04</td>\n",
       "</tr>\n",
       "</table><br/><br/>Warnings:<br/>[1] Standard Errors assume that the covariance matrix of the errors is correctly specified.<br/>[2] The condition number is large, 8.98e+04. This might indicate that there are<br/>strong multicollinearity or other numerical problems."
      ],
      "text/plain": [
       "<class 'statsmodels.iolib.summary.Summary'>\n",
       "\"\"\"\n",
       "                            OLS Regression Results                            \n",
       "==============================================================================\n",
       "Dep. Variable:                quality   R-squared:                       0.299\n",
       "Model:                            OLS   Adj. R-squared:                  0.297\n",
       "Method:                 Least Squares   F-statistic:                     145.5\n",
       "Date:                Mon, 18 Mar 2019   Prob (F-statistic):          3.43e-204\n",
       "Time:                        08:41:58   Log-Likelihood:                -3080.8\n",
       "No. Observations:                2742   AIC:                             6180.\n",
       "Df Residuals:                    2733   BIC:                             6233.\n",
       "Df Model:                           8                                         \n",
       "Covariance Type:            nonrobust                                         \n",
       "=======================================================================================\n",
       "                          coef    std err          t      P>|t|      [0.025      0.975]\n",
       "---------------------------------------------------------------------------------------\n",
       "const                 138.0004     21.567      6.399      0.000      95.711     180.290\n",
       "fixed_acidity           0.0684      0.025      2.693      0.007       0.019       0.118\n",
       "volatile_acidity       -1.8934      0.149    -12.690      0.000      -2.186      -1.601\n",
       "residual_sugar          0.0842      0.009      9.309      0.000       0.066       0.102\n",
       "free_sulfur_dioxide     0.0031      0.001      3.572      0.000       0.001       0.005\n",
       "density              -138.3946     21.869     -6.328      0.000    -181.276     -95.513\n",
       "pH                      0.6634      0.133      4.971      0.000       0.402       0.925\n",
       "sulphates               0.4938      0.132      3.732      0.000       0.234       0.753\n",
       "alcohol                 0.2370      0.029      8.200      0.000       0.180       0.294\n",
       "==============================================================================\n",
       "Omnibus:                       63.818   Durbin-Watson:                   2.060\n",
       "Prob(Omnibus):                  0.000   Jarque-Bera (JB):              132.766\n",
       "Skew:                           0.101   Prob(JB):                     1.48e-29\n",
       "Kurtosis:                       4.059   Cond. No.                     8.98e+04\n",
       "==============================================================================\n",
       "\n",
       "Warnings:\n",
       "[1] Standard Errors assume that the covariance matrix of the errors is correctly specified.\n",
       "[2] The condition number is large, 8.98e+04. This might indicate that there are\n",
       "strong multicollinearity or other numerical problems.\n",
       "\"\"\""
      ]
     },
     "execution_count": 54,
     "metadata": {},
     "output_type": "execute_result"
    }
   ],
   "source": [
    "# 모델\n",
    "lr_model = sm.OLS(y_train, \n",
    "                  sm.add_constant(x_train[features]))\n",
    "# 학습\n",
    "fitted_lr_model = lr_model.fit()\n",
    "fitted_lr_model.summary()"
   ]
  },
  {
   "cell_type": "code",
   "execution_count": 55,
   "metadata": {},
   "outputs": [
    {
     "name": "stdout",
     "output_type": "stream",
     "text": [
      "fixed_acidity 2.3363\n",
      "volatile_acidity 1.061\n",
      "residual_sugar 10.6052\n",
      "free_sulfur_dioxide 1.1396\n",
      "density 22.2663\n",
      "pH 1.9978\n",
      "sulphates 1.116\n",
      "alcohol 6.3128\n"
     ]
    }
   ],
   "source": [
    "get_vif()"
   ]
  },
  {
   "cell_type": "markdown",
   "metadata": {},
   "source": [
    "모델 튜닝\n",
    " - AIC : 6180 $\\to$ 6180\n",
    " - Adjusted $R^2$ : 0.297 $\\to$ 0.297\n",
    " - 변수 유의성에 대한 p-value : 모두 0.05보다 낮다.\n",
    " - VIF를 확인한다 : *density*가 가장 높다.\n",
    " \n",
    "*density*를 먼저 삭제한다."
   ]
  },
  {
   "cell_type": "markdown",
   "metadata": {},
   "source": [
    "> 5번째 iteration"
   ]
  },
  {
   "cell_type": "code",
   "execution_count": 56,
   "metadata": {},
   "outputs": [
    {
     "data": {
      "text/plain": [
       "Index(['fixed_acidity', 'volatile_acidity', 'residual_sugar',\n",
       "       'free_sulfur_dioxide', 'pH', 'sulphates', 'alcohol'],\n",
       "      dtype='object')"
      ]
     },
     "execution_count": 56,
     "metadata": {},
     "output_type": "execute_result"
    }
   ],
   "source": [
    "features = features.drop('density')\n",
    "features"
   ]
  },
  {
   "cell_type": "code",
   "execution_count": 57,
   "metadata": {},
   "outputs": [
    {
     "data": {
      "text/html": [
       "<table class=\"simpletable\">\n",
       "<caption>OLS Regression Results</caption>\n",
       "<tr>\n",
       "  <th>Dep. Variable:</th>         <td>quality</td>     <th>  R-squared:         </th> <td>   0.288</td> \n",
       "</tr>\n",
       "<tr>\n",
       "  <th>Model:</th>                   <td>OLS</td>       <th>  Adj. R-squared:    </th> <td>   0.287</td> \n",
       "</tr>\n",
       "<tr>\n",
       "  <th>Method:</th>             <td>Least Squares</td>  <th>  F-statistic:       </th> <td>   158.3</td> \n",
       "</tr>\n",
       "<tr>\n",
       "  <th>Date:</th>             <td>Mon, 18 Mar 2019</td> <th>  Prob (F-statistic):</th> <td>1.02e-196</td>\n",
       "</tr>\n",
       "<tr>\n",
       "  <th>Time:</th>                 <td>08:42:08</td>     <th>  Log-Likelihood:    </th> <td> -3100.7</td> \n",
       "</tr>\n",
       "<tr>\n",
       "  <th>No. Observations:</th>      <td>  2742</td>      <th>  AIC:               </th> <td>   6217.</td> \n",
       "</tr>\n",
       "<tr>\n",
       "  <th>Df Residuals:</th>          <td>  2734</td>      <th>  BIC:               </th> <td>   6265.</td> \n",
       "</tr>\n",
       "<tr>\n",
       "  <th>Df Model:</th>              <td>     7</td>      <th>                     </th>     <td> </td>    \n",
       "</tr>\n",
       "<tr>\n",
       "  <th>Covariance Type:</th>      <td>nonrobust</td>    <th>                     </th>     <td> </td>    \n",
       "</tr>\n",
       "</table>\n",
       "<table class=\"simpletable\">\n",
       "<tr>\n",
       "           <td></td>              <th>coef</th>     <th>std err</th>      <th>t</th>      <th>P>|t|</th>  <th>[0.025</th>    <th>0.975]</th>  \n",
       "</tr>\n",
       "<tr>\n",
       "  <th>const</th>               <td>    1.5454</td> <td>    0.447</td> <td>    3.454</td> <td> 0.001</td> <td>    0.668</td> <td>    2.423</td>\n",
       "</tr>\n",
       "<tr>\n",
       "  <th>fixed_acidity</th>       <td>   -0.0410</td> <td>    0.019</td> <td>   -2.186</td> <td> 0.029</td> <td>   -0.078</td> <td>   -0.004</td>\n",
       "</tr>\n",
       "<tr>\n",
       "  <th>volatile_acidity</th>    <td>   -2.0404</td> <td>    0.148</td> <td>  -13.747</td> <td> 0.000</td> <td>   -2.331</td> <td>   -1.749</td>\n",
       "</tr>\n",
       "<tr>\n",
       "  <th>residual_sugar</th>      <td>    0.0308</td> <td>    0.003</td> <td>    9.382</td> <td> 0.000</td> <td>    0.024</td> <td>    0.037</td>\n",
       "</tr>\n",
       "<tr>\n",
       "  <th>free_sulfur_dioxide</th> <td>    0.0035</td> <td>    0.001</td> <td>    3.943</td> <td> 0.000</td> <td>    0.002</td> <td>    0.005</td>\n",
       "</tr>\n",
       "<tr>\n",
       "  <th>pH</th>                  <td>    0.1636</td> <td>    0.108</td> <td>    1.510</td> <td> 0.131</td> <td>   -0.049</td> <td>    0.376</td>\n",
       "</tr>\n",
       "<tr>\n",
       "  <th>sulphates</th>           <td>    0.2630</td> <td>    0.128</td> <td>    2.053</td> <td> 0.040</td> <td>    0.012</td> <td>    0.514</td>\n",
       "</tr>\n",
       "<tr>\n",
       "  <th>alcohol</th>             <td>    0.3999</td> <td>    0.013</td> <td>   30.271</td> <td> 0.000</td> <td>    0.374</td> <td>    0.426</td>\n",
       "</tr>\n",
       "</table>\n",
       "<table class=\"simpletable\">\n",
       "<tr>\n",
       "  <th>Omnibus:</th>       <td>62.933</td> <th>  Durbin-Watson:     </th> <td>   2.047</td>\n",
       "</tr>\n",
       "<tr>\n",
       "  <th>Prob(Omnibus):</th> <td> 0.000</td> <th>  Jarque-Bera (JB):  </th> <td> 133.887</td>\n",
       "</tr>\n",
       "<tr>\n",
       "  <th>Skew:</th>          <td> 0.080</td> <th>  Prob(JB):          </th> <td>8.45e-30</td>\n",
       "</tr>\n",
       "<tr>\n",
       "  <th>Kurtosis:</th>      <td> 4.071</td> <th>  Cond. No.          </th> <td>1.33e+03</td>\n",
       "</tr>\n",
       "</table><br/><br/>Warnings:<br/>[1] Standard Errors assume that the covariance matrix of the errors is correctly specified.<br/>[2] The condition number is large, 1.33e+03. This might indicate that there are<br/>strong multicollinearity or other numerical problems."
      ],
      "text/plain": [
       "<class 'statsmodels.iolib.summary.Summary'>\n",
       "\"\"\"\n",
       "                            OLS Regression Results                            \n",
       "==============================================================================\n",
       "Dep. Variable:                quality   R-squared:                       0.288\n",
       "Model:                            OLS   Adj. R-squared:                  0.287\n",
       "Method:                 Least Squares   F-statistic:                     158.3\n",
       "Date:                Mon, 18 Mar 2019   Prob (F-statistic):          1.02e-196\n",
       "Time:                        08:42:08   Log-Likelihood:                -3100.7\n",
       "No. Observations:                2742   AIC:                             6217.\n",
       "Df Residuals:                    2734   BIC:                             6265.\n",
       "Df Model:                           7                                         \n",
       "Covariance Type:            nonrobust                                         \n",
       "=======================================================================================\n",
       "                          coef    std err          t      P>|t|      [0.025      0.975]\n",
       "---------------------------------------------------------------------------------------\n",
       "const                   1.5454      0.447      3.454      0.001       0.668       2.423\n",
       "fixed_acidity          -0.0410      0.019     -2.186      0.029      -0.078      -0.004\n",
       "volatile_acidity       -2.0404      0.148    -13.747      0.000      -2.331      -1.749\n",
       "residual_sugar          0.0308      0.003      9.382      0.000       0.024       0.037\n",
       "free_sulfur_dioxide     0.0035      0.001      3.943      0.000       0.002       0.005\n",
       "pH                      0.1636      0.108      1.510      0.131      -0.049       0.376\n",
       "sulphates               0.2630      0.128      2.053      0.040       0.012       0.514\n",
       "alcohol                 0.3999      0.013     30.271      0.000       0.374       0.426\n",
       "==============================================================================\n",
       "Omnibus:                       62.933   Durbin-Watson:                   2.047\n",
       "Prob(Omnibus):                  0.000   Jarque-Bera (JB):              133.887\n",
       "Skew:                           0.080   Prob(JB):                     8.45e-30\n",
       "Kurtosis:                       4.071   Cond. No.                     1.33e+03\n",
       "==============================================================================\n",
       "\n",
       "Warnings:\n",
       "[1] Standard Errors assume that the covariance matrix of the errors is correctly specified.\n",
       "[2] The condition number is large, 1.33e+03. This might indicate that there are\n",
       "strong multicollinearity or other numerical problems.\n",
       "\"\"\""
      ]
     },
     "execution_count": 57,
     "metadata": {},
     "output_type": "execute_result"
    }
   ],
   "source": [
    "# 모델\n",
    "lr_model = sm.OLS(y_train, \n",
    "                  sm.add_constant(x_train[features]))\n",
    "# 학습\n",
    "fitted_lr_model = lr_model.fit()\n",
    "fitted_lr_model.summary()"
   ]
  },
  {
   "cell_type": "code",
   "execution_count": 58,
   "metadata": {},
   "outputs": [
    {
     "name": "stdout",
     "output_type": "stream",
     "text": [
      "fixed_acidity 1.2545\n",
      "volatile_acidity 1.0352\n",
      "residual_sugar 1.3777\n",
      "free_sulfur_dioxide 1.1353\n",
      "pH 1.2979\n",
      "sulphates 1.0312\n",
      "alcohol 1.3007\n"
     ]
    }
   ],
   "source": [
    "get_vif()"
   ]
  },
  {
   "cell_type": "markdown",
   "metadata": {},
   "source": [
    "모델 튜닝\n",
    " - AIC : 6180 $\\to$ 6217\n",
    " - Adjusted $R^2$ : 0.297 $\\to$ 0.287\n",
    " - 변수 유의성에 대한 p-value : pH가 가장 높다.\n",
    " - VIF를 확인한다 : 모두 2보다 낮다.\n",
    " \n",
    "*pH*를 삭제한다."
   ]
  },
  {
   "cell_type": "markdown",
   "metadata": {},
   "source": [
    "> 6번째 iteration"
   ]
  },
  {
   "cell_type": "code",
   "execution_count": 63,
   "metadata": {},
   "outputs": [],
   "source": [
    "features = features.drop('pH')\n",
    "features"
   ]
  },
  {
   "cell_type": "code",
   "execution_count": 64,
   "metadata": {},
   "outputs": [
    {
     "data": {
      "text/html": [
       "<table class=\"simpletable\">\n",
       "<caption>OLS Regression Results</caption>\n",
       "<tr>\n",
       "  <th>Dep. Variable:</th>         <td>quality</td>     <th>  R-squared:         </th> <td>   0.288</td> \n",
       "</tr>\n",
       "<tr>\n",
       "  <th>Model:</th>                   <td>OLS</td>       <th>  Adj. R-squared:    </th> <td>   0.286</td> \n",
       "</tr>\n",
       "<tr>\n",
       "  <th>Method:</th>             <td>Least Squares</td>  <th>  F-statistic:       </th> <td>   184.2</td> \n",
       "</tr>\n",
       "<tr>\n",
       "  <th>Date:</th>             <td>Mon, 18 Mar 2019</td> <th>  Prob (F-statistic):</th> <td>2.23e-197</td>\n",
       "</tr>\n",
       "<tr>\n",
       "  <th>Time:</th>                 <td>08:43:50</td>     <th>  Log-Likelihood:    </th> <td> -3101.9</td> \n",
       "</tr>\n",
       "<tr>\n",
       "  <th>No. Observations:</th>      <td>  2742</td>      <th>  AIC:               </th> <td>   6218.</td> \n",
       "</tr>\n",
       "<tr>\n",
       "  <th>Df Residuals:</th>          <td>  2735</td>      <th>  BIC:               </th> <td>   6259.</td> \n",
       "</tr>\n",
       "<tr>\n",
       "  <th>Df Model:</th>              <td>     6</td>      <th>                     </th>     <td> </td>    \n",
       "</tr>\n",
       "<tr>\n",
       "  <th>Covariance Type:</th>      <td>nonrobust</td>    <th>                     </th>     <td> </td>    \n",
       "</tr>\n",
       "</table>\n",
       "<table class=\"simpletable\">\n",
       "<tr>\n",
       "           <td></td>              <th>coef</th>     <th>std err</th>      <th>t</th>      <th>P>|t|</th>  <th>[0.025</th>    <th>0.975]</th>  \n",
       "</tr>\n",
       "<tr>\n",
       "  <th>const</th>               <td>    2.1370</td> <td>    0.216</td> <td>    9.888</td> <td> 0.000</td> <td>    1.713</td> <td>    2.561</td>\n",
       "</tr>\n",
       "<tr>\n",
       "  <th>fixed_acidity</th>       <td>   -0.0529</td> <td>    0.017</td> <td>   -3.105</td> <td> 0.002</td> <td>   -0.086</td> <td>   -0.019</td>\n",
       "</tr>\n",
       "<tr>\n",
       "  <th>volatile_acidity</th>    <td>   -2.0472</td> <td>    0.148</td> <td>  -13.796</td> <td> 0.000</td> <td>   -2.338</td> <td>   -1.756</td>\n",
       "</tr>\n",
       "<tr>\n",
       "  <th>residual_sugar</th>      <td>    0.0301</td> <td>    0.003</td> <td>    9.259</td> <td> 0.000</td> <td>    0.024</td> <td>    0.036</td>\n",
       "</tr>\n",
       "<tr>\n",
       "  <th>free_sulfur_dioxide</th> <td>    0.0035</td> <td>    0.001</td> <td>    3.993</td> <td> 0.000</td> <td>    0.002</td> <td>    0.005</td>\n",
       "</tr>\n",
       "<tr>\n",
       "  <th>sulphates</th>           <td>    0.2933</td> <td>    0.127</td> <td>    2.319</td> <td> 0.020</td> <td>    0.045</td> <td>    0.541</td>\n",
       "</tr>\n",
       "<tr>\n",
       "  <th>alcohol</th>             <td>    0.4001</td> <td>    0.013</td> <td>   30.277</td> <td> 0.000</td> <td>    0.374</td> <td>    0.426</td>\n",
       "</tr>\n",
       "</table>\n",
       "<table class=\"simpletable\">\n",
       "<tr>\n",
       "  <th>Omnibus:</th>       <td>62.262</td> <th>  Durbin-Watson:     </th> <td>   2.044</td>\n",
       "</tr>\n",
       "<tr>\n",
       "  <th>Prob(Omnibus):</th> <td> 0.000</td> <th>  Jarque-Bera (JB):  </th> <td> 130.431</td>\n",
       "</tr>\n",
       "<tr>\n",
       "  <th>Skew:</th>          <td> 0.088</td> <th>  Prob(JB):          </th> <td>4.76e-29</td>\n",
       "</tr>\n",
       "<tr>\n",
       "  <th>Kurtosis:</th>      <td> 4.054</td> <th>  Cond. No.          </th> <td>    645.</td>\n",
       "</tr>\n",
       "</table><br/><br/>Warnings:<br/>[1] Standard Errors assume that the covariance matrix of the errors is correctly specified."
      ],
      "text/plain": [
       "<class 'statsmodels.iolib.summary.Summary'>\n",
       "\"\"\"\n",
       "                            OLS Regression Results                            \n",
       "==============================================================================\n",
       "Dep. Variable:                quality   R-squared:                       0.288\n",
       "Model:                            OLS   Adj. R-squared:                  0.286\n",
       "Method:                 Least Squares   F-statistic:                     184.2\n",
       "Date:                Mon, 18 Mar 2019   Prob (F-statistic):          2.23e-197\n",
       "Time:                        08:43:50   Log-Likelihood:                -3101.9\n",
       "No. Observations:                2742   AIC:                             6218.\n",
       "Df Residuals:                    2735   BIC:                             6259.\n",
       "Df Model:                           6                                         \n",
       "Covariance Type:            nonrobust                                         \n",
       "=======================================================================================\n",
       "                          coef    std err          t      P>|t|      [0.025      0.975]\n",
       "---------------------------------------------------------------------------------------\n",
       "const                   2.1370      0.216      9.888      0.000       1.713       2.561\n",
       "fixed_acidity          -0.0529      0.017     -3.105      0.002      -0.086      -0.019\n",
       "volatile_acidity       -2.0472      0.148    -13.796      0.000      -2.338      -1.756\n",
       "residual_sugar          0.0301      0.003      9.259      0.000       0.024       0.036\n",
       "free_sulfur_dioxide     0.0035      0.001      3.993      0.000       0.002       0.005\n",
       "sulphates               0.2933      0.127      2.319      0.020       0.045       0.541\n",
       "alcohol                 0.4001      0.013     30.277      0.000       0.374       0.426\n",
       "==============================================================================\n",
       "Omnibus:                       62.262   Durbin-Watson:                   2.044\n",
       "Prob(Omnibus):                  0.000   Jarque-Bera (JB):              130.431\n",
       "Skew:                           0.088   Prob(JB):                     4.76e-29\n",
       "Kurtosis:                       4.054   Cond. No.                         645.\n",
       "==============================================================================\n",
       "\n",
       "Warnings:\n",
       "[1] Standard Errors assume that the covariance matrix of the errors is correctly specified.\n",
       "\"\"\""
      ]
     },
     "execution_count": 64,
     "metadata": {},
     "output_type": "execute_result"
    }
   ],
   "source": [
    "# 모델\n",
    "lr_model = sm.OLS(y_train, \n",
    "                  sm.add_constant(x_train[features]))\n",
    "# 학습\n",
    "fitted_lr_model = lr_model.fit()\n",
    "fitted_lr_model.summary()"
   ]
  },
  {
   "cell_type": "code",
   "execution_count": 65,
   "metadata": {},
   "outputs": [
    {
     "name": "stdout",
     "output_type": "stream",
     "text": [
      "fixed_acidity 1.0338\n",
      "volatile_acidity 1.0343\n",
      "residual_sugar 1.3482\n",
      "free_sulfur_dioxide 1.134\n",
      "sulphates 1.0057\n",
      "alcohol 1.3007\n"
     ]
    }
   ],
   "source": [
    "get_vif()"
   ]
  },
  {
   "cell_type": "markdown",
   "metadata": {},
   "source": [
    "모델 튜닝\n",
    " - AIC : 6217 $\\to$ 6218\n",
    " - Adjusted $R^2$ : 0.287 $\\to$ 0.286\n",
    " - 변수 유의성에 대한 p-value : 모두 0보다 낮다.\n",
    " - VIF를 확인한다 : 모두 2보다 낮다."
   ]
  },
  {
   "cell_type": "markdown",
   "metadata": {},
   "source": [
    "6번의 반복을 통해서 독립 변수와 종속 변수 사이에 어떠한 강한 관계도 존재하지 않는다는 결론을 내렸다. 재확인을 위해 테스트 데이터의 $R^2$값을 계산할 수 있다."
   ]
  },
  {
   "cell_type": "code",
   "execution_count": 66,
   "metadata": {},
   "outputs": [
    {
     "data": {
      "text/html": [
       "<table class=\"simpletable\">\n",
       "<caption>OLS Regression Results</caption>\n",
       "<tr>\n",
       "  <th>Dep. Variable:</th>         <td>quality</td>     <th>  R-squared:         </th> <td>   0.277</td>\n",
       "</tr>\n",
       "<tr>\n",
       "  <th>Model:</th>                   <td>OLS</td>       <th>  Adj. R-squared:    </th> <td>   0.273</td>\n",
       "</tr>\n",
       "<tr>\n",
       "  <th>Method:</th>             <td>Least Squares</td>  <th>  F-statistic:       </th> <td>   74.69</td>\n",
       "</tr>\n",
       "<tr>\n",
       "  <th>Date:</th>             <td>Mon, 18 Mar 2019</td> <th>  Prob (F-statistic):</th> <td>5.58e-79</td>\n",
       "</tr>\n",
       "<tr>\n",
       "  <th>Time:</th>                 <td>08:43:57</td>     <th>  Log-Likelihood:    </th> <td> -1345.9</td>\n",
       "</tr>\n",
       "<tr>\n",
       "  <th>No. Observations:</th>      <td>  1176</td>      <th>  AIC:               </th> <td>   2706.</td>\n",
       "</tr>\n",
       "<tr>\n",
       "  <th>Df Residuals:</th>          <td>  1169</td>      <th>  BIC:               </th> <td>   2741.</td>\n",
       "</tr>\n",
       "<tr>\n",
       "  <th>Df Model:</th>              <td>     6</td>      <th>                     </th>     <td> </td>   \n",
       "</tr>\n",
       "<tr>\n",
       "  <th>Covariance Type:</th>      <td>nonrobust</td>    <th>                     </th>     <td> </td>   \n",
       "</tr>\n",
       "</table>\n",
       "<table class=\"simpletable\">\n",
       "<tr>\n",
       "           <td></td>              <th>coef</th>     <th>std err</th>      <th>t</th>      <th>P>|t|</th>  <th>[0.025</th>    <th>0.975]</th>  \n",
       "</tr>\n",
       "<tr>\n",
       "  <th>const</th>               <td>    2.6163</td> <td>    0.340</td> <td>    7.687</td> <td> 0.000</td> <td>    1.948</td> <td>    3.284</td>\n",
       "</tr>\n",
       "<tr>\n",
       "  <th>fixed_acidity</th>       <td>   -0.0765</td> <td>    0.028</td> <td>   -2.743</td> <td> 0.006</td> <td>   -0.131</td> <td>   -0.022</td>\n",
       "</tr>\n",
       "<tr>\n",
       "  <th>volatile_acidity</th>    <td>   -2.1259</td> <td>    0.216</td> <td>   -9.856</td> <td> 0.000</td> <td>   -2.549</td> <td>   -1.703</td>\n",
       "</tr>\n",
       "<tr>\n",
       "  <th>residual_sugar</th>      <td>    0.0159</td> <td>    0.005</td> <td>    3.076</td> <td> 0.002</td> <td>    0.006</td> <td>    0.026</td>\n",
       "</tr>\n",
       "<tr>\n",
       "  <th>free_sulfur_dioxide</th> <td>    0.0031</td> <td>    0.001</td> <td>    2.084</td> <td> 0.037</td> <td>    0.000</td> <td>    0.006</td>\n",
       "</tr>\n",
       "<tr>\n",
       "  <th>sulphates</th>           <td>    0.5919</td> <td>    0.194</td> <td>    3.050</td> <td> 0.002</td> <td>    0.211</td> <td>    0.973</td>\n",
       "</tr>\n",
       "<tr>\n",
       "  <th>alcohol</th>             <td>    0.3693</td> <td>    0.021</td> <td>   17.727</td> <td> 0.000</td> <td>    0.328</td> <td>    0.410</td>\n",
       "</tr>\n",
       "</table>\n",
       "<table class=\"simpletable\">\n",
       "<tr>\n",
       "  <th>Omnibus:</th>       <td>25.579</td> <th>  Durbin-Watson:     </th> <td>   2.000</td>\n",
       "</tr>\n",
       "<tr>\n",
       "  <th>Prob(Omnibus):</th> <td> 0.000</td> <th>  Jarque-Bera (JB):  </th> <td>  52.130</td>\n",
       "</tr>\n",
       "<tr>\n",
       "  <th>Skew:</th>          <td> 0.028</td> <th>  Prob(JB):          </th> <td>4.79e-12</td>\n",
       "</tr>\n",
       "<tr>\n",
       "  <th>Kurtosis:</th>      <td> 4.030</td> <th>  Cond. No.          </th> <td>    645.</td>\n",
       "</tr>\n",
       "</table><br/><br/>Warnings:<br/>[1] Standard Errors assume that the covariance matrix of the errors is correctly specified."
      ],
      "text/plain": [
       "<class 'statsmodels.iolib.summary.Summary'>\n",
       "\"\"\"\n",
       "                            OLS Regression Results                            \n",
       "==============================================================================\n",
       "Dep. Variable:                quality   R-squared:                       0.277\n",
       "Model:                            OLS   Adj. R-squared:                  0.273\n",
       "Method:                 Least Squares   F-statistic:                     74.69\n",
       "Date:                Mon, 18 Mar 2019   Prob (F-statistic):           5.58e-79\n",
       "Time:                        08:43:57   Log-Likelihood:                -1345.9\n",
       "No. Observations:                1176   AIC:                             2706.\n",
       "Df Residuals:                    1169   BIC:                             2741.\n",
       "Df Model:                           6                                         \n",
       "Covariance Type:            nonrobust                                         \n",
       "=======================================================================================\n",
       "                          coef    std err          t      P>|t|      [0.025      0.975]\n",
       "---------------------------------------------------------------------------------------\n",
       "const                   2.6163      0.340      7.687      0.000       1.948       3.284\n",
       "fixed_acidity          -0.0765      0.028     -2.743      0.006      -0.131      -0.022\n",
       "volatile_acidity       -2.1259      0.216     -9.856      0.000      -2.549      -1.703\n",
       "residual_sugar          0.0159      0.005      3.076      0.002       0.006       0.026\n",
       "free_sulfur_dioxide     0.0031      0.001      2.084      0.037       0.000       0.006\n",
       "sulphates               0.5919      0.194      3.050      0.002       0.211       0.973\n",
       "alcohol                 0.3693      0.021     17.727      0.000       0.328       0.410\n",
       "==============================================================================\n",
       "Omnibus:                       25.579   Durbin-Watson:                   2.000\n",
       "Prob(Omnibus):                  0.000   Jarque-Bera (JB):               52.130\n",
       "Skew:                           0.028   Prob(JB):                     4.79e-12\n",
       "Kurtosis:                       4.030   Cond. No.                         645.\n",
       "==============================================================================\n",
       "\n",
       "Warnings:\n",
       "[1] Standard Errors assume that the covariance matrix of the errors is correctly specified.\n",
       "\"\"\""
      ]
     },
     "execution_count": 66,
     "metadata": {},
     "output_type": "execute_result"
    }
   ],
   "source": [
    "lr_test_model = sm.OLS(y_test,\n",
    "                       sm.add_constant(x_test[features]))\n",
    "fitted_lr_test_model = lr_test_model.fit()\n",
    "fitted_lr_test_model.summary()"
   ]
  },
  {
   "cell_type": "markdown",
   "metadata": {},
   "source": [
    "테스트 데이터의 adjusted $R^2$은 0.273이다.\n",
    "현재 모형은 wine quailty data를 잘 설명해주지 못하고 있다."
   ]
  },
  {
   "cell_type": "markdown",
   "metadata": {},
   "source": [
    "## 5. Ridge Regression (정규화)"
   ]
  },
  {
   "cell_type": "markdown",
   "metadata": {},
   "source": [
    "Ridge regression의 목적함수\n",
    "$$\\sum_{i=1}^{n}(y_i-\\beta_0-\\sum_{j=1}^{p}\\beta_j x_{ij}) + \\lambda\\sum_{j=1}^{p}\\beta_j^2 $$"
   ]
  },
  {
   "cell_type": "code",
   "execution_count": 67,
   "metadata": {},
   "outputs": [],
   "source": [
    "from sklearn.linear_model import Ridge"
   ]
  },
  {
   "cell_type": "code",
   "execution_count": 71,
   "metadata": {},
   "outputs": [],
   "source": [
    "# Ridge model에 사용할 lambdas\n",
    "lambdas = [1e-4, 1e-3, 1e-2, 0.1, 0.5, 1.0, 5.0, 10.0]"
   ]
  },
  {
   "cell_type": "markdown",
   "metadata": {},
   "source": [
    "lambda를 변경하면서, 해당 lambda에 대한 r squared 값을 살펴본다."
   ]
  },
  {
   "cell_type": "code",
   "execution_count": 73,
   "metadata": {},
   "outputs": [],
   "source": [
    "from collections import defaultdict"
   ]
  },
  {
   "cell_type": "code",
   "execution_count": 74,
   "metadata": {},
   "outputs": [],
   "source": [
    "r_squares = defaultdict(dict)\n",
    "\n",
    "for lam in lambdas:\n",
    "    ridge_reg = Ridge(alpha=lam)\n",
    "    ridge_reg.fit(x_train, y_train)\n",
    "    r_squares[lam]['train'] = ridge_reg.score(x_train, y_train)\n",
    "    r_squares[lam]['test'] = ridge_reg.score(x_test, y_test)"
   ]
  },
  {
   "cell_type": "code",
   "execution_count": 75,
   "metadata": {},
   "outputs": [
    {
     "data": {
      "text/plain": [
       "defaultdict(dict,\n",
       "            {0.0001: {'test': 0.2746499985162475, 'train': 0.298890663415206},\n",
       "             0.001: {'test': 0.2730220826044135, 'train': 0.2968905938184838},\n",
       "             0.01: {'test': 0.26970726208887474, 'train': 0.291593677561536},\n",
       "             0.1: {'test': 0.26907905782136676, 'train': 0.2900774705838297},\n",
       "             0.5: {'test': 0.26960490495937883, 'train': 0.2897893195667297},\n",
       "             1.0: {'test': 0.269823858835609, 'train': 0.28957248495872734},\n",
       "             5.0: {'test': 0.26845780930937657, 'train': 0.28786874680078733},\n",
       "             10.0: {'test': 0.265259478839144, 'train': 0.28518408142004015}})"
      ]
     },
     "execution_count": 75,
     "metadata": {},
     "output_type": "execute_result"
    }
   ],
   "source": [
    "r_squares"
   ]
  },
  {
   "cell_type": "code",
   "execution_count": 87,
   "metadata": {},
   "outputs": [
    {
     "name": "stdout",
     "output_type": "stream",
     "text": [
      "fixed_acidity : 0.05524\n",
      "volatile_acidity : -1.87461\n",
      "citric_acid : 0.01725\n",
      "residual_sugar : 0.078\n",
      "chlorides : -0.91685\n",
      "free_sulfur_dioxide : 0.00341\n",
      "total_sulfur_dioxide : -0.00017\n",
      "density : -122.64481\n",
      "pH : 0.60338\n",
      "sulphates : 0.47627\n",
      "alcohol : 0.24792\n"
     ]
    }
   ],
   "source": [
    "best_ridge_reg = Ridge(0.0001)\n",
    "best_ridge_reg.fit(x_train, y_train)\n",
    "for col, coef in zip(x_train.columns, best_ridge_reg.coef_):\n",
    "    print(col, ':', round(coef,5))"
   ]
  },
  {
   "cell_type": "markdown",
   "metadata": {},
   "source": [
    "## 6. Lasso Regression (정규화)"
   ]
  },
  {
   "cell_type": "code",
   "execution_count": 80,
   "metadata": {},
   "outputs": [],
   "source": [
    "from sklearn.linear_model import Lasso"
   ]
  },
  {
   "cell_type": "code",
   "execution_count": 81,
   "metadata": {},
   "outputs": [],
   "source": [
    "lasso_r_squares = defaultdict(dict)\n",
    "\n",
    "for lam in lambdas:\n",
    "    lasso_reg = Lasso(alpha=lam)\n",
    "    lasso_reg.fit(x_train, y_train)\n",
    "    lasso_r_squares[lam]['train'] = lasso_reg.score(x_train, y_train)\n",
    "    lasso_r_squares[lam]['test'] = lasso_reg.score(x_test, y_test)"
   ]
  },
  {
   "cell_type": "code",
   "execution_count": 82,
   "metadata": {},
   "outputs": [
    {
     "data": {
      "text/plain": [
       "defaultdict(dict,\n",
       "            {0.0001: {'test': 0.26918735870868526,\n",
       "              'train': 0.2898522489419467},\n",
       "             0.001: {'test': 0.2696176069157763, 'train': 0.28855743905599374},\n",
       "             0.01: {'test': 0.2479217142864596, 'train': 0.2713854120325203},\n",
       "             0.1: {'test': 0.20520775426739502, 'train': 0.22459562679440848},\n",
       "             0.5: {'test': 0.05243735493752155, 'train': 0.048107937050793415},\n",
       "             1.0: {'test': 0.04473510764054722, 'train': 0.03966685006310011},\n",
       "             5.0: {'test': 0.013393926809464385,\n",
       "              'train': 0.011742746111210733},\n",
       "             10.0: {'test': -8.864723189483392e-05, 'train': 0.0}})"
      ]
     },
     "execution_count": 82,
     "metadata": {},
     "output_type": "execute_result"
    }
   ],
   "source": [
    "lasso_r_squares"
   ]
  },
  {
   "cell_type": "code",
   "execution_count": 89,
   "metadata": {},
   "outputs": [
    {
     "name": "stdout",
     "output_type": "stream",
     "text": [
      "fixed_acidity : -0.06387\n",
      "volatile_acidity : -2.04206\n",
      "citric_acid : 0.01426\n",
      "residual_sugar : 0.01716\n",
      "chlorides : -0.02107\n",
      "free_sulfur_dioxide : 0.00467\n",
      "total_sulfur_dioxide : -0.00114\n",
      "density : -0.0\n",
      "pH : 0.09337\n",
      "sulphates : 0.61406\n",
      "alcohol : 0.35825\n"
     ]
    }
   ],
   "source": [
    "best_lasso_reg = Lasso(0.0001)\n",
    "best_lasso_reg.fit(x_test, y_test)\n",
    "for col, coef in zip(x_train.columns, best_lasso_reg.coef_):\n",
    "    print(col, ':', round(coef, 5))"
   ]
  },
  {
   "cell_type": "code",
   "execution_count": null,
   "metadata": {},
   "outputs": [],
   "source": []
  }
 ],
 "metadata": {
  "kernelspec": {
   "display_name": "Python 3",
   "language": "python",
   "name": "python3"
  },
  "language_info": {
   "codemirror_mode": {
    "name": "ipython",
    "version": 3
   },
   "file_extension": ".py",
   "mimetype": "text/x-python",
   "name": "python",
   "nbconvert_exporter": "python",
   "pygments_lexer": "ipython3",
   "version": "3.6.3"
  }
 },
 "nbformat": 4,
 "nbformat_minor": 2
}
